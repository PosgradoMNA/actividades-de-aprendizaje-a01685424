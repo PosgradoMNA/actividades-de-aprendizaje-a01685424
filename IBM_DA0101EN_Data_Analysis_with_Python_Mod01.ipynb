{
  "nbformat": 4,
  "nbformat_minor": 0,
  "metadata": {
    "colab": {
      "provenance": [],
      "collapsed_sections": [],
      "include_colab_link": true
    },
    "kernelspec": {
      "name": "python3",
      "display_name": "Python 3"
    },
    "language_info": {
      "name": "python"
    }
  },
  "cells": [
    {
      "cell_type": "markdown",
      "metadata": {
        "id": "view-in-github",
        "colab_type": "text"
      },
      "source": [
        "<a href=\"https://colab.research.google.com/github/PosgradoMNA/actividades-de-aprendizaje-a01685424/blob/main/IBM_DA0101EN_Data_Analysis_with_Python_Mod01.ipynb\" target=\"_parent\"><img src=\"https://colab.research.google.com/assets/colab-badge.svg\" alt=\"Open In Colab\"/></a>"
      ]
    },
    {
      "cell_type": "markdown",
      "source": [
        "># **IBM Course: DA0101EN**\n",
        ">**Data Analysis with Python**\n",
        "> \n",
        "> *Fernando Alfredo Rojas Estrella - A01685424*\n",
        "> \n",
        "> **Temas:**\n",
        "1. Introduction to Data Analysis with Python 0:51\n",
        "2. The Problem 1:51\n",
        "3. Understanding the Data 2:27\n",
        "4. Python Packages for Data Science 2:28\n",
        "5. Importing and Exporting Data in Python 4:13\n",
        "6. Getting Started Analyzing Data in Python 4:14"
      ],
      "metadata": {
        "id": "mHbN_JwAQ8zs"
      }
    },
    {
      "cell_type": "code",
      "source": [
        "# - - - - - - - - - - - - - - - - - - - - - - - - \n",
        "# Ejercicio 1\n",
        "\n",
        "# Importando librerías decomputación cientifica: Pandas, NumPy y SciPy\n",
        "# Pandas: Librería de estructuras de datos y herramientas de manejo de datos\n",
        "# NumPy: Librería de arreglos de datos y matrices\n",
        "# SciPy: Librería para resolución de matemáticas avanzadas, ecuaciones diferenciales y optimización\n",
        "\n",
        "import pandas as pd\n",
        "import numpy as np\n",
        "import scipy as sp\n",
        "\n",
        "# Descargando archivos *.CSV\n",
        "URLautos = \"https://archive.ics.uci.edu/ml/machine-learning-databases/autos/\"\n",
        "URLHeadAutos = \"https://archive.ics.uci.edu/ml/machine-learning-databases/autos/imports-85.names\"\n",
        "dfdat = pd.read_csv(URLautos)\n",
        "\n",
        "print('\\n',)\n",
        "url = \"https://cf-courses-data.s3.us.cloud-object-storage.appdomain.cloud/IBMDeveloperSkillsNetwork-DA0101EN-SkillsNetwork/labs/Data%20files/auto.csv\"\n",
        "dfurl = pd.read_csv(url, header=None)\n",
        "print('Las primeras 10 líneas:\\n', dfurl.head(10))\n",
        "\n",
        "print('\\n',)\n",
        "print('Las últimas 5 líneas:\\n', dfurl.tail(5))\n",
        "\n",
        "print('\\n',)\n",
        "cabeceros = [\"symboling\",\"normalized-losses\",\"make\",\"fuel-type\",\"aspiration\", \"num-of-doors\",\"body-style\",\n",
        "         \"drive-wheels\",\"engine-location\",\"wheel-base\", \"length\",\"width\",\"height\",\"curb-weight\",\"engine-type\",\n",
        "         \"num-of-cylinders\", \"engine-size\",\"fuel-system\",\"bore\",\"stroke\",\"compression-ratio\",\"horsepower\",\n",
        "         \"peak-rpm\",\"city-mpg\",\"highway-mpg\",\"price\"]\n",
        "print(\"Cabeceros:\\n\", cabeceros)\n",
        "\n",
        "print('\\n',)\n",
        "\n",
        "print('\\n',)\n",
        "\n",
        "print('\\n',)"
      ],
      "metadata": {
        "colab": {
          "base_uri": "https://localhost:8080/"
        },
        "id": "tWf_dywAQwW8",
        "outputId": "e2fdc302-796b-47f0-8f69-f0c50d0a9805"
      },
      "execution_count": 11,
      "outputs": [
        {
          "output_type": "stream",
          "name": "stdout",
          "text": [
            "\n",
            "\n",
            "Las primeras 10 líneas:\n",
            "    0    1            2    3      4     5            6    7      8      9   \\\n",
            "0   3    ?  alfa-romero  gas    std   two  convertible  rwd  front   88.6   \n",
            "1   3    ?  alfa-romero  gas    std   two  convertible  rwd  front   88.6   \n",
            "2   1    ?  alfa-romero  gas    std   two    hatchback  rwd  front   94.5   \n",
            "3   2  164         audi  gas    std  four        sedan  fwd  front   99.8   \n",
            "4   2  164         audi  gas    std  four        sedan  4wd  front   99.4   \n",
            "5   2    ?         audi  gas    std   two        sedan  fwd  front   99.8   \n",
            "6   1  158         audi  gas    std  four        sedan  fwd  front  105.8   \n",
            "7   1    ?         audi  gas    std  four        wagon  fwd  front  105.8   \n",
            "8   1  158         audi  gas  turbo  four        sedan  fwd  front  105.8   \n",
            "9   0    ?         audi  gas  turbo   two    hatchback  4wd  front   99.5   \n",
            "\n",
            "   ...   16    17    18    19    20   21    22  23  24     25  \n",
            "0  ...  130  mpfi  3.47  2.68   9.0  111  5000  21  27  13495  \n",
            "1  ...  130  mpfi  3.47  2.68   9.0  111  5000  21  27  16500  \n",
            "2  ...  152  mpfi  2.68  3.47   9.0  154  5000  19  26  16500  \n",
            "3  ...  109  mpfi  3.19  3.40  10.0  102  5500  24  30  13950  \n",
            "4  ...  136  mpfi  3.19  3.40   8.0  115  5500  18  22  17450  \n",
            "5  ...  136  mpfi  3.19  3.40   8.5  110  5500  19  25  15250  \n",
            "6  ...  136  mpfi  3.19  3.40   8.5  110  5500  19  25  17710  \n",
            "7  ...  136  mpfi  3.19  3.40   8.5  110  5500  19  25  18920  \n",
            "8  ...  131  mpfi  3.13  3.40   8.3  140  5500  17  20  23875  \n",
            "9  ...  131  mpfi  3.13  3.40   7.0  160  5500  16  22      ?  \n",
            "\n",
            "[10 rows x 26 columns]\n",
            "\n",
            "\n",
            "Las últimas 5 líneas:\n",
            "      0   1      2       3      4     5      6    7      8      9   ...   16  \\\n",
            "200  -1  95  volvo     gas    std  four  sedan  rwd  front  109.1  ...  141   \n",
            "201  -1  95  volvo     gas  turbo  four  sedan  rwd  front  109.1  ...  141   \n",
            "202  -1  95  volvo     gas    std  four  sedan  rwd  front  109.1  ...  173   \n",
            "203  -1  95  volvo  diesel  turbo  four  sedan  rwd  front  109.1  ...  145   \n",
            "204  -1  95  volvo     gas  turbo  four  sedan  rwd  front  109.1  ...  141   \n",
            "\n",
            "       17    18    19    20   21    22  23  24     25  \n",
            "200  mpfi  3.78  3.15   9.5  114  5400  23  28  16845  \n",
            "201  mpfi  3.78  3.15   8.7  160  5300  19  25  19045  \n",
            "202  mpfi  3.58  2.87   8.8  134  5500  18  23  21485  \n",
            "203   idi  3.01  3.40  23.0  106  4800  26  27  22470  \n",
            "204  mpfi  3.78  3.15   9.5  114  5400  19  25  22625  \n",
            "\n",
            "[5 rows x 26 columns]\n",
            "\n",
            "\n",
            "Cabeceros:\n",
            " ['symboling', 'normalized-losses', 'make', 'fuel-type', 'aspiration', 'num-of-doors', 'body-style', 'drive-wheels', 'engine-location', 'wheel-base', 'length', 'width', 'height', 'curb-weight', 'engine-type', 'num-of-cylinders', 'engine-size', 'fuel-system', 'bore', 'stroke', 'compression-ratio', 'horsepower', 'peak-rpm', 'city-mpg', 'highway-mpg', 'price']\n",
            "\n",
            "\n",
            "\n",
            "\n",
            "\n",
            "\n"
          ]
        }
      ]
    },
    {
      "cell_type": "code",
      "source": [
        "# - - - - - - - - - - - - - - - - - - - - - - - - \n",
        "# Ejercicio 2\n",
        "\n",
        "# \n",
        "\n",
        "print('\\n',)\n",
        "print('\\n',)\n",
        "print('\\n',)\n",
        "print('\\n',)"
      ],
      "metadata": {
        "id": "7ewYWaw6Qwfs"
      },
      "execution_count": null,
      "outputs": []
    },
    {
      "cell_type": "code",
      "source": [
        "# - - - - - - - - - - - - - - - - - - - - - - - - \n",
        "# Ejercicio 3\n",
        "\n",
        "# \n",
        "\n",
        "print('\\n',)\n",
        "print('\\n',)\n",
        "print('\\n',)\n",
        "print('\\n',)"
      ],
      "metadata": {
        "id": "baCG987xQwjY"
      },
      "execution_count": null,
      "outputs": []
    }
  ]
}