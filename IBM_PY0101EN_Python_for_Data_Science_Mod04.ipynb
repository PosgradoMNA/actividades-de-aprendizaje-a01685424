{
  "nbformat": 4,
  "nbformat_minor": 0,
  "metadata": {
    "colab": {
      "provenance": [],
      "collapsed_sections": [],
      "include_colab_link": true
    },
    "kernelspec": {
      "name": "python3",
      "display_name": "Python 3"
    },
    "language_info": {
      "name": "python"
    }
  },
  "cells": [
    {
      "cell_type": "markdown",
      "metadata": {
        "id": "view-in-github",
        "colab_type": "text"
      },
      "source": [
        "<a href=\"https://colab.research.google.com/github/PosgradoMNA/actividades-de-aprendizaje-a01685424/blob/main/IBM_PY0101EN_Python_for_Data_Science_Mod04.ipynb\" target=\"_parent\"><img src=\"https://colab.research.google.com/assets/colab-badge.svg\" alt=\"Open In Colab\"/></a>"
      ]
    },
    {
      "cell_type": "code",
      "execution_count": null,
      "metadata": {
        "id": "C4WWlSnQbnpo"
      },
      "outputs": [],
      "source": [
        "# IBM Course \n",
        "\n",
        "# Modulo 4"
      ]
    },
    {
      "cell_type": "code",
      "source": [
        "#from pyodide.http import pyfetch\n",
        "\n",
        "!pip install pyfetch\n",
        "\n",
        "import pandas as pd\n"
      ],
      "metadata": {
        "id": "ZAp9lyAPJzRL",
        "outputId": "3d19208c-3e3e-49d2-c887-d25a5dc38681",
        "colab": {
          "base_uri": "https://localhost:8080/"
        }
      },
      "execution_count": null,
      "outputs": [
        {
          "output_type": "stream",
          "name": "stdout",
          "text": [
            "Looking in indexes: https://pypi.org/simple, https://us-python.pkg.dev/colab-wheels/public/simple/\n",
            "Requirement already satisfied: pyfetch in /usr/local/lib/python3.7/dist-packages (0.2.0)\n",
            "Requirement already satisfied: colorama in /usr/local/lib/python3.7/dist-packages (from pyfetch) (0.4.5)\n"
          ]
        }
      ]
    },
    {
      "cell_type": "code",
      "source": [
        "#from pyodide.http import pyfetch\n",
        "\n",
        "\n",
        "# 01. Mount your google drive in google colab\n",
        "from google.colab import drive\n",
        "drive.mount('/content/drive')\n",
        "\n",
        "# 02. Insert the directory\n",
        "import sys\n",
        "sys.path.insert(0,'/content/drive/My Drive/Colab Notebooks')\n",
        "\n",
        "# 03.  Import your module or file\n",
        "#import my_module\n",
        "\n"
      ],
      "metadata": {
        "colab": {
          "base_uri": "https://localhost:8080/"
        },
        "id": "s6xszdr4RZVw",
        "outputId": "9fc44f6b-9505-4d64-aa65-92870c66bb08"
      },
      "execution_count": null,
      "outputs": [
        {
          "output_type": "stream",
          "name": "stdout",
          "text": [
            "Mounted at /content/drive\n"
          ]
        }
      ]
    },
    {
      "cell_type": "code",
      "source": [
        "#Ejercicio 1\n",
        "#Reading Files with Open\n",
        "#\n",
        "\n",
        "with open('Example1.txt','r') as File1:\n",
        "  archivo_leido = File1.read()\n",
        "  print('-|',archivo_leido)\n",
        "print(File1.closed)\n",
        "print(archivo_leido)\n",
        "\n",
        "\n",
        "print('-----------------------------------------------------------------------')\n",
        "\n",
        "\n",
        "\n",
        "\n",
        "#pip install -r /content/requirements.txt\n",
        "\n",
        "## Uncomment these if working locally, else let the following code cell run.\n",
        "\n",
        "# import urllib.request\n",
        "# url = 'https://cf-courses-data.s3.us.cloud-object-storage.appdomain.cloud/IBMDeveloperSkillsNetwork-PY0101EN-SkillsNetwork/labs/Module%204/data/example1.txt'\n",
        "# filename = 'Example1.txt'\n",
        "# urllib.request.urlretrieve(url, filename)\n",
        "\n",
        "# Download Example file\n",
        "# !wget -O /resources/data/Example1.txt https://cf-courses-data.s3.us.cloud-object-storage.appdomain.cloud/IBMDeveloperSkillsNetwork-PY0101EN-SkillsNetwork/labs/Module%204/data/example1.txt\n",
        "\n",
        "\n",
        "\n",
        "'''filename = \"https://cf-courses-data.s3.us.cloud-object-storage.appdomain.cloud/IBMDeveloperSkillsNetwork-PY0101EN-SkillsNetwork/labs/Module%204/data/example1.txt\"\n",
        "\n",
        "async def download(url, filename):\n",
        "    response = await pyfetch(url)\n",
        "    if response.status == 200:\n",
        "        with open(filename, \"wb\") as f:\n",
        "            f.write(await response.bytes())\n",
        "\n",
        "\n",
        "await download(filename, \"Example1.txt\")'''\n",
        "\n",
        "\n",
        "print('-----------------------------------------------------------------------')\n",
        "# Read the Example1.txt\n",
        "example1 = \"Example1.txt\"\n",
        "file1 = open(example1, \"r\")\n",
        "\n",
        "\n",
        "print('-----------------------------------------------------------------------')\n",
        "# Print the path of file\n",
        "file1.name\n",
        "print('File name:',file1.name)\n",
        "\n",
        "\n",
        "print('-----------------------------------------------------------------------')\n",
        "# Print the mode of file, either 'r' or 'w'\n",
        "file1.mode\n",
        "\n",
        "\n",
        "print('File mode:',file1.mode)\n",
        "# Read the file\n",
        "FileContent = file1.read()\n",
        "FileContent\n",
        "\n",
        "\n",
        "print('-----------------------------------------------------------------------')\n",
        "# Print the file with '\\n' as a new line\n",
        "print(FileContent)\n",
        "\n",
        "\n",
        "print('-----------------------------------------------------------------------')\n",
        "# Type of file content\n",
        "type(FileContent)\n",
        "print('FileContent:',type(FileContent))\n",
        "\n",
        "\n",
        "print('-----------------------------------------------------------------------')\n",
        "# Close file after finish\n",
        "file1.close()\n",
        "print('Estatus',file1.close())\n"
      ],
      "metadata": {
        "id": "V8GJMkRkbuMn",
        "colab": {
          "base_uri": "https://localhost:8080/"
        },
        "outputId": "d78a00e0-63fc-4509-e959-4b31a5c4ce76"
      },
      "execution_count": null,
      "outputs": [
        {
          "output_type": "stream",
          "name": "stdout",
          "text": [
            "-| A; B; C;\n",
            "1; 2; 3;\n",
            "4; 2; 4;\n",
            "5; 1; 5;\n",
            "True\n",
            "A; B; C;\n",
            "1; 2; 3;\n",
            "4; 2; 4;\n",
            "5; 1; 5;\n",
            "-----------------------------------------------------------------------\n",
            "-----------------------------------------------------------------------\n",
            "-----------------------------------------------------------------------\n",
            "File name: Example1.txt\n",
            "-----------------------------------------------------------------------\n",
            "File mode: r\n",
            "-----------------------------------------------------------------------\n",
            "A; B; C;\n",
            "1; 2; 3;\n",
            "4; 2; 4;\n",
            "5; 1; 5;\n",
            "-----------------------------------------------------------------------\n",
            "FileContent: <class 'str'>\n",
            "-----------------------------------------------------------------------\n",
            "Estatus None\n"
          ]
        }
      ]
    },
    {
      "cell_type": "code",
      "source": [
        "#Ejercicio 2\n",
        "#Reading Files with Open\n",
        "#\n",
        "\n",
        "# Open file using with\n",
        "\n",
        "with open(example1, \"r\") as file1:\n",
        "    FileContent = file1.read()\n",
        "    print(FileContent)\n",
        "\n",
        "\n",
        "print('-----------------------------------------------------------------------')\n",
        "# Verify if the file is closed\n",
        "file1.closed\n",
        "print('File closed:',file1.closed)\n",
        "\n",
        "\n",
        "print('-----------------------------------------------------------------------')\n",
        "# See the content of file\n",
        "print(FileContent)\n",
        "\n",
        "\n",
        "print('-----------------------------------------------------------------------')\n",
        "# Read first four characters\n",
        "with open(example1, \"r\") as file1:\n",
        "    print('Primeros 8 caracteres:')\n",
        "    print(file1.read(8))\n",
        "\n",
        "\n",
        "print('-----------------------------------------------------------------------')\n",
        "# Read certain amount of characters\n",
        "\n",
        "with open(example1, \"r\") as file1:\n",
        "    print('01-->',file1.read(15))\n",
        "    print('02-->',file1.read(15))\n",
        "    print('03-->',file1.read(15))\n",
        "    print('04-->',file1.read(15))\n",
        "\n",
        "\n",
        "print('-----------------------------------------------------------------------')\n",
        "# Read certain amount of characters\n",
        "with open(example1, \"r\") as file1:\n",
        "    print(file1.read(15))\n",
        "    print(file1.read(5))\n",
        "    print(file1.read(9))\n",
        "\n",
        "\n",
        "print('-----------------------------------------------------------------------')\n",
        "# Read one line\n",
        "with open(example1, \"r\") as file1:\n",
        "    print(\"first line: \" + file1.readline())\n",
        "\n",
        "# Se puede utilizar read() o readline()\n",
        "\n",
        "\n",
        "print('-----------------------------------------------------------------------')\n",
        "# Aunque la cantidad de caracteres sea mayor al tamaño de la línea, con readline(n) se acota solo a traer caracteres de la linea \n",
        "with open(example1, \"r\") as file1:\n",
        "    print(file1.readline(20)) # does not read past the end of line\n",
        "    print(file1.read(20)) # Returns the next 20 chars\n",
        "\n",
        "\n",
        "print('-----------------------------------------------------------------------')\n",
        "# Presentación por loop de las filas\n",
        "with open(example1,\"r\") as file1:\n",
        "        i = 0;\n",
        "        for line in file1:\n",
        "            print(\"Iteración:\", str(i), \": \", line)\n",
        "            i = i + 1\n",
        "            \n",
        "            \n",
        "print('-----------------------------------------------------------------------')\n",
        "# Leer líneas y guardarlas como lista\n",
        "with open(example1, \"r\") as file1:\n",
        "    FileasList = file1.readlines()\n",
        "\n",
        "print('Archivo como lista:',FileasList)\n",
        "# Imprimiendo la primer línea\n",
        "print('Primer fila',FileasList[0])\n",
        "print('Segunda fila',FileasList[1])\n"
      ],
      "metadata": {
        "colab": {
          "base_uri": "https://localhost:8080/"
        },
        "id": "BWTKZXG_bYpp",
        "outputId": "01dc6e45-1dfe-41b0-9cee-0a8b266f96b2"
      },
      "execution_count": null,
      "outputs": [
        {
          "output_type": "stream",
          "name": "stdout",
          "text": [
            "12345678901234\n",
            "This is line 1 \n",
            "This is line 2\n",
            "This is line 3\n",
            "-----------------------------------------------------------------------\n",
            "File closed: True\n",
            "-----------------------------------------------------------------------\n",
            "12345678901234\n",
            "This is line 1 \n",
            "This is line 2\n",
            "This is line 3\n",
            "-----------------------------------------------------------------------\n",
            "Primeros 8 caracteres:\n",
            "12345678\n",
            "-----------------------------------------------------------------------\n",
            "01--> 12345678901234\n",
            "\n",
            "02--> This is line 1 \n",
            "03--> \n",
            "This is line 2\n",
            "04--> \n",
            "This is line 3\n",
            "-----------------------------------------------------------------------\n",
            "12345678901234\n",
            "\n",
            "This \n",
            "is line 1\n",
            "-----------------------------------------------------------------------\n",
            "first line: 12345678901234\n",
            "\n",
            "-----------------------------------------------------------------------\n",
            "12345678901234\n",
            "\n",
            "This is line 1 \n",
            "This\n",
            "-----------------------------------------------------------------------\n",
            "Iteración: 0 :  12345678901234\n",
            "\n",
            "Iteración: 1 :  This is line 1 \n",
            "\n",
            "Iteración: 2 :  This is line 2\n",
            "\n",
            "Iteración: 3 :  This is line 3\n",
            "-----------------------------------------------------------------------\n",
            "Archivo como lista: ['12345678901234\\n', 'This is line 1 \\n', 'This is line 2\\n', 'This is line 3']\n",
            "Primer fila 12345678901234\n",
            "\n",
            "Segunda fila This is line 1 \n",
            "\n"
          ]
        }
      ]
    },
    {
      "cell_type": "code",
      "source": [
        "#Ejercicio 3\n",
        "#Writing Files with Open\n",
        "#\n",
        "\n",
        "\n",
        "\n",
        "print('-----------------------------------------------------------------------')\n",
        "print('-----------------------------------------------------------------------')\n",
        "print('-----------------------------------------------------------------------')\n",
        "\n",
        "print('-----------------------------------------------------------------------')\n",
        "print('-----------------------------------------------------------------------')\n",
        "print('-----------------------------------------------------------------------')\n",
        "\n",
        "print('-----------------------------------------------------------------------')\n",
        "print('-----------------------------------------------------------------------')\n",
        "print('-----------------------------------------------------------------------')\n"
      ],
      "metadata": {
        "id": "h8Nvpd6KIu6M"
      },
      "execution_count": null,
      "outputs": []
    },
    {
      "cell_type": "code",
      "source": [
        "#Ejercicio 4\n",
        "# Cargando datos con Pandas\n",
        "#\n",
        "\n",
        "import pandas\n",
        "csv_path='Example1.txt'\n",
        "df=pandas.read_csv(csv_path)\n",
        "print('df: \\n',df)\n"
      ],
      "metadata": {
        "id": "-HEMLwbsIvVn",
        "colab": {
          "base_uri": "https://localhost:8080/"
        },
        "outputId": "61440b1e-6a6d-4bc2-ac5b-bb02a2cfab32"
      },
      "execution_count": 33,
      "outputs": [
        {
          "output_type": "stream",
          "name": "stdout",
          "text": [
            "df: \n",
            "    A; B; C;\n",
            "0  1; 2; 3;\n",
            "1  4; 2; 4;\n",
            "2  5; 1; 5;\n"
          ]
        }
      ]
    },
    {
      "cell_type": "code",
      "source": [
        "#Ejercicio 4\n",
        "# Cargando datos con Pandas\n",
        "#\n",
        "\n",
        "import pandas as pd\n",
        "csv_path='Example1.txt'\n",
        "df=pd.read_csv(csv_path)\n",
        "print('df: \\n',df)\n",
        "print('-----------------------------------------------------------------------')\n",
        "\n",
        "print('df.head:\\n',df.head(2))\n",
        "print('-----------------------------------------------------------------------')\n",
        "\n",
        "canciones = {'Album':['Thriller','Back in Black','The dark Side of the Moon',\\\n",
        "                      'The Bodyguard','Bat Out of Hell'],\n",
        "             'Released':[1982,1980,1973,1992,1977],\n",
        "             'Duracion':['00:42:19','00:42:11','00:42:49','00:57:44','00:46:33']}\n",
        "songs_frame = pd.DataFrame(canciones)\n",
        "print('Canciones:\\n',songs_frame)\n",
        "print('-----------------------------------------------------------------------')\n",
        "\n",
        "h=songs_frame[['Duracion']]\n",
        "print('Songs frame - Duración:\\n',h)\n",
        "print('-----------------------------------------------------------------------')\n",
        "\n",
        "# De esta manera se pueden leer datos a partir de los indices\n",
        "print('Canciones:\\n',songs_frame)\n",
        "asong = songs_frame.iloc[0,0]\n",
        "bsong = songs_frame.iloc[2,1]\n",
        "print('Index(0,0):',asong)\n",
        "print('Index(3,1):',bsong)\n",
        "print('-----------------------------------------------------------------------')\n",
        "\n",
        "# También es posible incorporar directamente elementos al data frame\n",
        "\n",
        "z=songs_frame.iloc[0:2,0:3]\n",
        "print('z:',z)\n",
        "print('-----------------------------------------------------------------------')\n",
        "\n"
      ],
      "metadata": {
        "colab": {
          "base_uri": "https://localhost:8080/"
        },
        "id": "Z6sPu8JYcGuZ",
        "outputId": "266995fb-f873-4f6f-f25a-41bc46267481"
      },
      "execution_count": 46,
      "outputs": [
        {
          "output_type": "stream",
          "name": "stdout",
          "text": [
            "df: \n",
            "    A; B; C;\n",
            "0  1; 2; 3;\n",
            "1  4; 2; 4;\n",
            "2  5; 1; 5;\n",
            "-----------------------------------------------------------------------\n",
            "df.head:\n",
            "    A; B; C;\n",
            "0  1; 2; 3;\n",
            "1  4; 2; 4;\n",
            "-----------------------------------------------------------------------\n",
            "Canciones:\n",
            "                        Album  Released  Duracion\n",
            "0                   Thriller      1982  00:42:19\n",
            "1              Back in Black      1980  00:42:11\n",
            "2  The dark Side of the Moon      1973  00:42:49\n",
            "3              The Bodyguard      1992  00:57:44\n",
            "4            Bat Out of Hell      1977  00:46:33\n",
            "-----------------------------------------------------------------------\n",
            "Songs frame - Duración:\n",
            "    Duracion\n",
            "0  00:42:19\n",
            "1  00:42:11\n",
            "2  00:42:49\n",
            "3  00:57:44\n",
            "4  00:46:33\n",
            "-----------------------------------------------------------------------\n",
            "Canciones:\n",
            "                        Album  Released  Duracion\n",
            "0                   Thriller      1982  00:42:19\n",
            "1              Back in Black      1980  00:42:11\n",
            "2  The dark Side of the Moon      1973  00:42:49\n",
            "3              The Bodyguard      1992  00:57:44\n",
            "4            Bat Out of Hell      1977  00:46:33\n",
            "Index(0,0): Thriller\n",
            "Index(3,1): 1973\n",
            "-----------------------------------------------------------------------\n",
            "z:            Album  Released  Duracion\n",
            "0       Thriller      1982  00:42:19\n",
            "1  Back in Black      1980  00:42:11\n",
            "-----------------------------------------------------------------------\n"
          ]
        }
      ]
    },
    {
      "cell_type": "code",
      "source": [
        "# Ejercicio de importar panda como otro valor\n",
        "import pandas as perro\n",
        "\n",
        "df=perro.DataFrame({'a':[11,21,31,34,1,67,24],'b':[21,22,23,56,34,5,23]})\n",
        "df.head()\n",
        "print('-----------------------------------------------------------------------')\n",
        "\n",
        "df1=pd.DataFrame({'a':[21,21,31],'b':[21,11,31]})\n",
        "print('DataFrame:\\n',df1)\n",
        "print('\\n')\n",
        "print('df1\\n',df1['a']==11)\n",
        "print('-----------------------------------------------------------------------')\n",
        "\n",
        "# Agregar datos en el file\n",
        "with open(\"Example2.txt\",\"w\") as writefile:\n",
        "  writefile.write(\"This is line A\\n\")\n",
        "  writefile.write(\"This is line B\\n\")\n",
        "print('-----------------------------------------------------------------------')\n",
        "\n",
        "# Vista de dataframe\n",
        "print('df.head',df.head())\n",
        "print('-----------------------------------------------------------------------')\n",
        "print('-----------------------------------------------------------------------')\n",
        "print('-----------------------------------------------------------------------')\n",
        "print('-----------------------------------------------------------------------')\n",
        "\n",
        "\n",
        "\n",
        "print('-----------------------------------------------------------------------')\n",
        "\n"
      ],
      "metadata": {
        "colab": {
          "base_uri": "https://localhost:8080/"
        },
        "id": "jcirx3KSkzhO",
        "outputId": "15ebd9dd-c760-4cda-f88d-9befefa4e328"
      },
      "execution_count": 62,
      "outputs": [
        {
          "output_type": "stream",
          "name": "stdout",
          "text": [
            "-----------------------------------------------------------------------\n",
            "DataFrame:\n",
            "     a   b\n",
            "0  21  21\n",
            "1  21  11\n",
            "2  31  31\n",
            "\n",
            "\n",
            "df1\n",
            " 0    False\n",
            "1    False\n",
            "2    False\n",
            "Name: a, dtype: bool\n",
            "-----------------------------------------------------------------------\n",
            "-----------------------------------------------------------------------\n",
            "df.head     a   b\n",
            "0  11  21\n",
            "1  21  22\n",
            "2  31  23\n",
            "3  34  56\n",
            "4   1  34\n",
            "-----------------------------------------------------------------------\n",
            "-----------------------------------------------------------------------\n",
            "-----------------------------------------------------------------------\n",
            "-----------------------------------------------------------------------\n",
            "-----------------------------------------------------------------------\n"
          ]
        }
      ]
    },
    {
      "cell_type": "code",
      "source": [
        "# Ejercicio 5\n",
        "# Trabajar y guardar datos con pandas\n",
        "\n",
        "# Seleccionar columnas específicas en una línea\n",
        "#df1 = songs_frame[songs_frame[['Released']>1980]]\n",
        "print('-----------------------------------------------------------------------')\n",
        "\n",
        "z.to_csv('Nueva_lista.csv')\n",
        "print('-----------------------------------------------------------------------')\n",
        "print('-----------------------------------------------------------------------')\n",
        "print('-----------------------------------------------------------------------')\n",
        "print('-----------------------------------------------------------------------')\n",
        "print('-----------------------------------------------------------------------')\n"
      ],
      "metadata": {
        "colab": {
          "base_uri": "https://localhost:8080/"
        },
        "id": "7_j9Dj2Vnu2j",
        "outputId": "4b950af0-1c53-4de7-e77f-005dc95558cb"
      },
      "execution_count": 52,
      "outputs": [
        {
          "output_type": "stream",
          "name": "stdout",
          "text": [
            "-----------------------------------------------------------------------\n",
            "-----------------------------------------------------------------------\n",
            "-----------------------------------------------------------------------\n",
            "-----------------------------------------------------------------------\n",
            "-----------------------------------------------------------------------\n",
            "-----------------------------------------------------------------------\n"
          ]
        }
      ]
    },
    {
      "cell_type": "code",
      "source": [
        "#Ejercicio 6\n",
        "#\n",
        "#\n",
        "\n",
        "x=1\n",
        "\n",
        "if(x!=1):\n",
        "  print('Hello')\n",
        "else:\n",
        "  print('Hi')\n",
        "\n",
        "print('Mike')\n",
        "\n",
        "print('-----------------------------------------------------------------------')\n",
        "A = ['1','2','3']\n",
        "\n",
        "for a in A:\n",
        "  print(2*a)\n",
        "\n",
        "print('-----------------------------------------------------------------------')\n",
        "def Delta(x):\n",
        "  if x==0:\n",
        "    y=1;\n",
        "  else:\n",
        "    y=0;\n",
        "  return(y)\n",
        "\n",
        "print(Delta(0))\n",
        "\n",
        "print('-----------------------------------------------------------------------')\n",
        "B = [5,6,7,4,3,2,1]\n",
        "print('B:',B)\n",
        "B.sort()\n",
        "print('B:',B)\n",
        "\n",
        "print('-----------------------------------------------------------------------')\n",
        "C = {'a':1,'b':2}\n",
        "print('C.keys:',C.keys())\n",
        "\n"
      ],
      "metadata": {
        "id": "MS10SY0MIvee",
        "colab": {
          "base_uri": "https://localhost:8080/"
        },
        "outputId": "2b256d53-f2b4-4184-be21-a16eebe913d6"
      },
      "execution_count": null,
      "outputs": [
        {
          "output_type": "stream",
          "name": "stdout",
          "text": [
            "Hi\n",
            "Mike\n",
            "-----------------------------------------------------------------------\n",
            "11\n",
            "22\n",
            "33\n",
            "-----------------------------------------------------------------------\n",
            "1\n",
            "-----------------------------------------------------------------------\n",
            "B: [5, 6, 7, 4, 3, 2, 1]\n",
            "B: [1, 2, 3, 4, 5, 6, 7]\n",
            "-----------------------------------------------------------------------\n",
            "C.keys: dict_keys(['a', 'b'])\n",
            "-----------------------------------------------------------------------\n",
            "-----------------------------------------------------------------------\n",
            "-----------------------------------------------------------------------\n",
            "-----------------------------------------------------------------------\n",
            "-----------------------------------------------------------------------\n"
          ]
        }
      ]
    },
    {
      "cell_type": "markdown",
      "source": [
        "Evidencias:\n",
        "\n",
        "![image.png](data:image/png;base64,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)\n"
      ],
      "metadata": {
        "id": "Z9tW7Eu5ww1g"
      }
    },
    {
      "cell_type": "code",
      "source": [],
      "metadata": {
        "id": "L2DWPw8ZtjiM"
      },
      "execution_count": null,
      "outputs": []
    }
  ]
}