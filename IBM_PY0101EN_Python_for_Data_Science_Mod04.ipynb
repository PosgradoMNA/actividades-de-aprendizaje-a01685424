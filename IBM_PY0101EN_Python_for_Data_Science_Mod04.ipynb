{
  "nbformat": 4,
  "nbformat_minor": 0,
  "metadata": {
    "colab": {
      "provenance": [],
      "collapsed_sections": [],
      "include_colab_link": true
    },
    "kernelspec": {
      "name": "python3",
      "display_name": "Python 3"
    },
    "language_info": {
      "name": "python"
    }
  },
  "cells": [
    {
      "cell_type": "markdown",
      "metadata": {
        "id": "view-in-github",
        "colab_type": "text"
      },
      "source": [
        "<a href=\"https://colab.research.google.com/github/PosgradoMNA/actividades-de-aprendizaje-a01685424/blob/main/IBM_PY0101EN_Python_for_Data_Science_Mod04.ipynb\" target=\"_parent\"><img src=\"https://colab.research.google.com/assets/colab-badge.svg\" alt=\"Open In Colab\"/></a>"
      ]
    },
    {
      "cell_type": "code",
      "execution_count": null,
      "metadata": {
        "id": "C4WWlSnQbnpo"
      },
      "outputs": [],
      "source": [
        "# IBM Course \n",
        "\n",
        "# Modulo 4"
      ]
    },
    {
      "cell_type": "code",
      "source": [
        "#from pyodide.http import pyfetch\n",
        "\n",
        "!pip install pyfetch\n",
        "\n",
        "import pandas as pd\n"
      ],
      "metadata": {
        "id": "ZAp9lyAPJzRL",
        "outputId": "3d19208c-3e3e-49d2-c887-d25a5dc38681",
        "colab": {
          "base_uri": "https://localhost:8080/"
        }
      },
      "execution_count": null,
      "outputs": [
        {
          "output_type": "stream",
          "name": "stdout",
          "text": [
            "Looking in indexes: https://pypi.org/simple, https://us-python.pkg.dev/colab-wheels/public/simple/\n",
            "Requirement already satisfied: pyfetch in /usr/local/lib/python3.7/dist-packages (0.2.0)\n",
            "Requirement already satisfied: colorama in /usr/local/lib/python3.7/dist-packages (from pyfetch) (0.4.5)\n"
          ]
        }
      ]
    },
    {
      "cell_type": "code",
      "source": [
        "#from pyodide.http import pyfetch\n",
        "\n",
        "\n",
        "# 01. Mount your google drive in google colab\n",
        "from google.colab import drive\n",
        "drive.mount('/content/drive')\n",
        "\n",
        "# 02. Insert the directory\n",
        "import sys\n",
        "sys.path.insert(0,'/content/drive/My Drive/Colab Notebooks')\n",
        "\n",
        "# 03.  Import your module or file\n",
        "#import my_module\n",
        "\n"
      ],
      "metadata": {
        "colab": {
          "base_uri": "https://localhost:8080/"
        },
        "id": "s6xszdr4RZVw",
        "outputId": "9fc44f6b-9505-4d64-aa65-92870c66bb08"
      },
      "execution_count": null,
      "outputs": [
        {
          "output_type": "stream",
          "name": "stdout",
          "text": [
            "Mounted at /content/drive\n"
          ]
        }
      ]
    },
    {
      "cell_type": "code",
      "source": [],
      "metadata": {
        "id": "PJIxaMM4Jxxd"
      },
      "execution_count": null,
      "outputs": []
    },
    {
      "cell_type": "code",
      "source": [
        "#Ejercicio 1\n",
        "#Reading Files with Open\n",
        "#\n",
        "\n",
        "with open('Example1.txt','r') as File1:\n",
        "  archivo_leido = File1.read()\n",
        "  print('-|',archivo_leido)\n",
        "print(File1.closed)\n",
        "print(archivo_leido)\n",
        "\n",
        "\n",
        "print('-----------------------------------------------------------------------')\n",
        "\n",
        "\n",
        "\n",
        "\n",
        "#pip install -r /content/requirements.txt\n",
        "\n",
        "## Uncomment these if working locally, else let the following code cell run.\n",
        "\n",
        "# import urllib.request\n",
        "# url = 'https://cf-courses-data.s3.us.cloud-object-storage.appdomain.cloud/IBMDeveloperSkillsNetwork-PY0101EN-SkillsNetwork/labs/Module%204/data/example1.txt'\n",
        "# filename = 'Example1.txt'\n",
        "# urllib.request.urlretrieve(url, filename)\n",
        "\n",
        "# Download Example file\n",
        "# !wget -O /resources/data/Example1.txt https://cf-courses-data.s3.us.cloud-object-storage.appdomain.cloud/IBMDeveloperSkillsNetwork-PY0101EN-SkillsNetwork/labs/Module%204/data/example1.txt\n",
        "\n",
        "\n",
        "\n",
        "'''filename = \"https://cf-courses-data.s3.us.cloud-object-storage.appdomain.cloud/IBMDeveloperSkillsNetwork-PY0101EN-SkillsNetwork/labs/Module%204/data/example1.txt\"\n",
        "\n",
        "async def download(url, filename):\n",
        "    response = await pyfetch(url)\n",
        "    if response.status == 200:\n",
        "        with open(filename, \"wb\") as f:\n",
        "            f.write(await response.bytes())\n",
        "\n",
        "\n",
        "await download(filename, \"Example1.txt\")'''\n",
        "\n",
        "\n",
        "print('-----------------------------------------------------------------------')\n",
        "# Read the Example1.txt\n",
        "example1 = \"Example1.txt\"\n",
        "file1 = open(example1, \"r\")\n",
        "\n",
        "\n",
        "print('-----------------------------------------------------------------------')\n",
        "# Print the path of file\n",
        "file1.name\n",
        "print('File name:',file1.name)\n",
        "\n",
        "\n",
        "print('-----------------------------------------------------------------------')\n",
        "# Print the mode of file, either 'r' or 'w'\n",
        "file1.mode\n",
        "\n",
        "\n",
        "print('File mode:',file1.mode)\n",
        "# Read the file\n",
        "FileContent = file1.read()\n",
        "FileContent\n",
        "\n",
        "\n",
        "print('-----------------------------------------------------------------------')\n",
        "# Print the file with '\\n' as a new line\n",
        "print(FileContent)\n",
        "\n",
        "\n",
        "print('-----------------------------------------------------------------------')\n",
        "# Type of file content\n",
        "type(FileContent)\n",
        "print('FileContent:',type(FileContent))\n",
        "\n",
        "\n",
        "print('-----------------------------------------------------------------------')\n",
        "# Close file after finish\n",
        "file1.close()\n",
        "print('Estatus',file1.close())\n"
      ],
      "metadata": {
        "id": "V8GJMkRkbuMn",
        "colab": {
          "base_uri": "https://localhost:8080/"
        },
        "outputId": "d78a00e0-63fc-4509-e959-4b31a5c4ce76"
      },
      "execution_count": null,
      "outputs": [
        {
          "output_type": "stream",
          "name": "stdout",
          "text": [
            "-| A; B; C;\n",
            "1; 2; 3;\n",
            "4; 2; 4;\n",
            "5; 1; 5;\n",
            "True\n",
            "A; B; C;\n",
            "1; 2; 3;\n",
            "4; 2; 4;\n",
            "5; 1; 5;\n",
            "-----------------------------------------------------------------------\n",
            "-----------------------------------------------------------------------\n",
            "-----------------------------------------------------------------------\n",
            "File name: Example1.txt\n",
            "-----------------------------------------------------------------------\n",
            "File mode: r\n",
            "-----------------------------------------------------------------------\n",
            "A; B; C;\n",
            "1; 2; 3;\n",
            "4; 2; 4;\n",
            "5; 1; 5;\n",
            "-----------------------------------------------------------------------\n",
            "FileContent: <class 'str'>\n",
            "-----------------------------------------------------------------------\n",
            "Estatus None\n"
          ]
        }
      ]
    },
    {
      "cell_type": "code",
      "source": [
        "#continua Ejercicio 1\n",
        "#Reading Files with Open\n",
        "#\n",
        "\n",
        "# Open file using with\n",
        "\n",
        "with open(example1, \"r\") as file1:\n",
        "    FileContent = file1.read()\n",
        "    print(FileContent)\n",
        "\n",
        "\n",
        "print('-----------------------------------------------------------------------')\n",
        "# Verify if the file is closed\n",
        "file1.closed\n",
        "print('File closed:',file1.closed)\n",
        "\n",
        "\n",
        "print('-----------------------------------------------------------------------')\n",
        "# See the content of file\n",
        "print(FileContent)\n",
        "\n",
        "\n",
        "print('-----------------------------------------------------------------------')\n",
        "# Read first four characters\n",
        "with open(example1, \"r\") as file1:\n",
        "    print('Primeros 8 caracteres:')\n",
        "    print(file1.read(8))\n",
        "\n",
        "\n",
        "print('-----------------------------------------------------------------------')\n",
        "# Read certain amount of characters\n",
        "\n",
        "with open(example1, \"r\") as file1:\n",
        "    print('01-->',file1.read(15))\n",
        "    print('02-->',file1.read(15))\n",
        "    print('03-->',file1.read(15))\n",
        "    print('04-->',file1.read(15))\n",
        "\n",
        "\n",
        "print('-----------------------------------------------------------------------')\n",
        "# Read certain amount of characters\n",
        "with open(example1, \"r\") as file1:\n",
        "    print(file1.read(15))\n",
        "    print(file1.read(5))\n",
        "    print(file1.read(9))\n",
        "\n",
        "\n",
        "print('-----------------------------------------------------------------------')\n",
        "# Read one line\n",
        "with open(example1, \"r\") as file1:\n",
        "    print(\"first line: \" + file1.readline())\n",
        "\n",
        "# Se puede utilizar read() o readline()\n",
        "\n",
        "\n",
        "print('-----------------------------------------------------------------------')\n",
        "# Aunque la cantidad de caracteres sea mayor al tamaño de la línea, con readline(n) se acota solo a traer caracteres de la linea \n",
        "with open(example1, \"r\") as file1:\n",
        "    print(file1.readline(20)) # does not read past the end of line\n",
        "    print(file1.read(20)) # Returns the next 20 chars\n",
        "\n",
        "\n",
        "print('-----------------------------------------------------------------------')\n",
        "# Presentación por loop de las filas\n",
        "with open(example1,\"r\") as file1:\n",
        "        i = 0;\n",
        "        for line in file1:\n",
        "            print(\"Iteración:\", str(i), \": \", line)\n",
        "            i = i + 1\n",
        "            \n",
        "            \n",
        "print('-----------------------------------------------------------------------')\n",
        "# Leer líneas y guardarlas como lista\n",
        "with open(example1, \"r\") as file1:\n",
        "    FileasList = file1.readlines()\n",
        "\n",
        "print('Archivo como lista:',FileasList)\n",
        "# Imprimiendo la primer línea\n",
        "print('Primer fila',FileasList[0])\n",
        "print('Segunda fila',FileasList[1])\n"
      ],
      "metadata": {
        "colab": {
          "base_uri": "https://localhost:8080/"
        },
        "id": "BWTKZXG_bYpp",
        "outputId": "01dc6e45-1dfe-41b0-9cee-0a8b266f96b2"
      },
      "execution_count": null,
      "outputs": [
        {
          "output_type": "stream",
          "name": "stdout",
          "text": [
            "12345678901234\n",
            "This is line 1 \n",
            "This is line 2\n",
            "This is line 3\n",
            "-----------------------------------------------------------------------\n",
            "File closed: True\n",
            "-----------------------------------------------------------------------\n",
            "12345678901234\n",
            "This is line 1 \n",
            "This is line 2\n",
            "This is line 3\n",
            "-----------------------------------------------------------------------\n",
            "Primeros 8 caracteres:\n",
            "12345678\n",
            "-----------------------------------------------------------------------\n",
            "01--> 12345678901234\n",
            "\n",
            "02--> This is line 1 \n",
            "03--> \n",
            "This is line 2\n",
            "04--> \n",
            "This is line 3\n",
            "-----------------------------------------------------------------------\n",
            "12345678901234\n",
            "\n",
            "This \n",
            "is line 1\n",
            "-----------------------------------------------------------------------\n",
            "first line: 12345678901234\n",
            "\n",
            "-----------------------------------------------------------------------\n",
            "12345678901234\n",
            "\n",
            "This is line 1 \n",
            "This\n",
            "-----------------------------------------------------------------------\n",
            "Iteración: 0 :  12345678901234\n",
            "\n",
            "Iteración: 1 :  This is line 1 \n",
            "\n",
            "Iteración: 2 :  This is line 2\n",
            "\n",
            "Iteración: 3 :  This is line 3\n",
            "-----------------------------------------------------------------------\n",
            "Archivo como lista: ['12345678901234\\n', 'This is line 1 \\n', 'This is line 2\\n', 'This is line 3']\n",
            "Primer fila 12345678901234\n",
            "\n",
            "Segunda fila This is line 1 \n",
            "\n"
          ]
        }
      ]
    },
    {
      "cell_type": "code",
      "source": [
        "#Ejercicio 2\n",
        "#Writing Files with Open\n",
        "#\n",
        "\n",
        "\n",
        "\n",
        "print('-----------------------------------------------------------------------')\n",
        "print('-----------------------------------------------------------------------')\n",
        "print('-----------------------------------------------------------------------')\n",
        "\n",
        "print('-----------------------------------------------------------------------')\n",
        "print('-----------------------------------------------------------------------')\n",
        "print('-----------------------------------------------------------------------')\n",
        "\n",
        "print('-----------------------------------------------------------------------')\n",
        "print('-----------------------------------------------------------------------')\n",
        "print('-----------------------------------------------------------------------')\n"
      ],
      "metadata": {
        "id": "h8Nvpd6KIu6M"
      },
      "execution_count": null,
      "outputs": []
    },
    {
      "cell_type": "code",
      "source": [
        "#Ejercicio 3\n",
        "#\n",
        "#\n",
        "\n",
        "\n",
        "print('-----------------------------------------------------------------------')\n",
        "print('-----------------------------------------------------------------------')\n",
        "print('-----------------------------------------------------------------------')\n",
        "\n",
        "print('-----------------------------------------------------------------------')\n",
        "print('-----------------------------------------------------------------------')\n",
        "print('-----------------------------------------------------------------------')\n",
        "\n",
        "print('-----------------------------------------------------------------------')\n",
        "print('-----------------------------------------------------------------------')\n",
        "print('-----------------------------------------------------------------------')\n"
      ],
      "metadata": {
        "id": "vlD8fukgIvJo"
      },
      "execution_count": null,
      "outputs": []
    },
    {
      "cell_type": "code",
      "source": [
        "#Ejercicio 4\n",
        "#\n",
        "#\n",
        "\n",
        "\n",
        "print('-----------------------------------------------------------------------')\n",
        "print('-----------------------------------------------------------------------')\n",
        "print('-----------------------------------------------------------------------')\n",
        "\n",
        "print('-----------------------------------------------------------------------')\n",
        "print('-----------------------------------------------------------------------')\n",
        "print('-----------------------------------------------------------------------')\n",
        "\n",
        "print('-----------------------------------------------------------------------')\n",
        "print('-----------------------------------------------------------------------')\n",
        "print('-----------------------------------------------------------------------')\n"
      ],
      "metadata": {
        "id": "-HEMLwbsIvVn"
      },
      "execution_count": null,
      "outputs": []
    },
    {
      "cell_type": "code",
      "source": [
        "#Ejercicio 5\n",
        "#\n",
        "#\n",
        "\n",
        "x=1\n",
        "\n",
        "if(x!=1):\n",
        "  print('Hello')\n",
        "else:\n",
        "  print('Hi')\n",
        "\n",
        "print('Mike')\n",
        "\n",
        "print('-----------------------------------------------------------------------')\n",
        "A = ['1','2','3']\n",
        "\n",
        "for a in A:\n",
        "  print(2*a)\n",
        "\n",
        "print('-----------------------------------------------------------------------')\n",
        "def Delta(x):\n",
        "  if x==0:\n",
        "    y=1;\n",
        "  else:\n",
        "    y=0;\n",
        "  return(y)\n",
        "\n",
        "print(Delta(0))\n",
        "\n",
        "print('-----------------------------------------------------------------------')\n",
        "B = [5,6,7,4,3,2,1]\n",
        "print('B:',B)\n",
        "B.sort()\n",
        "print('B:',B)\n",
        "\n",
        "print('-----------------------------------------------------------------------')\n",
        "C = {'a':1,'b':2}\n",
        "print('C.keys:',C.keys())\n",
        "\n",
        "print('-----------------------------------------------------------------------')\n",
        "print('-----------------------------------------------------------------------')\n",
        "\n",
        "print('-----------------------------------------------------------------------')\n",
        "print('-----------------------------------------------------------------------')\n",
        "print('-----------------------------------------------------------------------')\n"
      ],
      "metadata": {
        "id": "MS10SY0MIvee",
        "colab": {
          "base_uri": "https://localhost:8080/"
        },
        "outputId": "2b256d53-f2b4-4184-be21-a16eebe913d6"
      },
      "execution_count": 16,
      "outputs": [
        {
          "output_type": "stream",
          "name": "stdout",
          "text": [
            "Hi\n",
            "Mike\n",
            "-----------------------------------------------------------------------\n",
            "11\n",
            "22\n",
            "33\n",
            "-----------------------------------------------------------------------\n",
            "1\n",
            "-----------------------------------------------------------------------\n",
            "B: [5, 6, 7, 4, 3, 2, 1]\n",
            "B: [1, 2, 3, 4, 5, 6, 7]\n",
            "-----------------------------------------------------------------------\n",
            "C.keys: dict_keys(['a', 'b'])\n",
            "-----------------------------------------------------------------------\n",
            "-----------------------------------------------------------------------\n",
            "-----------------------------------------------------------------------\n",
            "-----------------------------------------------------------------------\n",
            "-----------------------------------------------------------------------\n"
          ]
        }
      ]
    },
    {
      "cell_type": "code",
      "source": [],
      "metadata": {
        "id": "BRlv62DevD_x"
      },
      "execution_count": null,
      "outputs": []
    }
  ]
}