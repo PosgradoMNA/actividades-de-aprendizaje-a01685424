{
  "nbformat": 4,
  "nbformat_minor": 0,
  "metadata": {
    "colab": {
      "provenance": [],
      "collapsed_sections": [],
      "authorship_tag": "ABX9TyPmuDTeGSwxMD2EF9ci7OXb",
      "include_colab_link": true
    },
    "kernelspec": {
      "name": "python3",
      "display_name": "Python 3"
    },
    "language_info": {
      "name": "python"
    }
  },
  "cells": [
    {
      "cell_type": "markdown",
      "metadata": {
        "id": "view-in-github",
        "colab_type": "text"
      },
      "source": [
        "<a href=\"https://colab.research.google.com/github/PosgradoMNA/actividades-de-aprendizaje-a01685424/blob/main/IBM_PY0101EN_Python_for_Data_Science_Mod04.ipynb\" target=\"_parent\"><img src=\"https://colab.research.google.com/assets/colab-badge.svg\" alt=\"Open In Colab\"/></a>"
      ]
    },
    {
      "cell_type": "code",
      "execution_count": null,
      "metadata": {
        "id": "C4WWlSnQbnpo"
      },
      "outputs": [],
      "source": [
        "# IBM Course \n",
        "\n",
        "# Modulo 4"
      ]
    },
    {
      "cell_type": "code",
      "source": [
        "#Ejercicio 1\n",
        "#\n",
        "#"
      ],
      "metadata": {
        "id": "V8GJMkRkbuMn"
      },
      "execution_count": 1,
      "outputs": []
    },
    {
      "cell_type": "code",
      "source": [
        "#Ejercicio 2\n",
        "#\n",
        "#"
      ],
      "metadata": {
        "id": "h8Nvpd6KIu6M"
      },
      "execution_count": null,
      "outputs": []
    },
    {
      "cell_type": "code",
      "source": [
        "#Ejercicio 3\n",
        "#\n",
        "#"
      ],
      "metadata": {
        "id": "vlD8fukgIvJo"
      },
      "execution_count": null,
      "outputs": []
    },
    {
      "cell_type": "code",
      "source": [
        "#Ejercicio 4\n",
        "#\n",
        "#"
      ],
      "metadata": {
        "id": "-HEMLwbsIvVn"
      },
      "execution_count": null,
      "outputs": []
    },
    {
      "cell_type": "code",
      "source": [
        "#Ejercicio 5\n",
        "#\n",
        "#"
      ],
      "metadata": {
        "id": "MS10SY0MIvee"
      },
      "execution_count": null,
      "outputs": []
    }
  ]
}