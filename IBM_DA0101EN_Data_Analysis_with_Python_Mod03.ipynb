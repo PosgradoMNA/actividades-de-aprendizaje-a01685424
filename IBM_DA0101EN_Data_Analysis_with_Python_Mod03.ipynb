{
  "nbformat": 4,
  "nbformat_minor": 0,
  "metadata": {
    "colab": {
      "provenance": [],
      "collapsed_sections": [],
      "include_colab_link": true
    },
    "kernelspec": {
      "name": "python3",
      "display_name": "Python 3"
    },
    "language_info": {
      "name": "python"
    }
  },
  "cells": [
    {
      "cell_type": "markdown",
      "metadata": {
        "id": "view-in-github",
        "colab_type": "text"
      },
      "source": [
        "<a href=\"https://colab.research.google.com/github/PosgradoMNA/actividades-de-aprendizaje-a01685424/blob/main/IBM_DA0101EN_Data_Analysis_with_Python_Mod03.ipynb\" target=\"_parent\"><img src=\"https://colab.research.google.com/assets/colab-badge.svg\" alt=\"Open In Colab\"/></a>"
      ]
    },
    {
      "cell_type": "markdown",
      "source": [
        "># **IBM Course: DA0101EN**\n",
        ">**Data Analysis with Python**\n",
        "> \n",
        "> *Fernando Alfredo Rojas Estrella - A01685424*\n",
        "> \n",
        "> **Temas:**\n",
        "1. Exploratory Data Analysis 1:20\n",
        "2. Descriptive Statistics 4:39\n",
        "3. GroupBy in Python 3:20\n",
        "4. Analysis of Variance ANOVA 3:58\n",
        "5. Correlation 2:29\n",
        "6. Correlation - Statistics 2:37"
      ],
      "metadata": {
        "id": "mHbN_JwAQ8zs"
      }
    },
    {
      "cell_type": "code",
      "source": [
        "# - - - - - - - - - - - - - - - - - - - - - - - - - - - \n",
        "# Ejercicio 1\n",
        "\n",
        "# Preprocesamiento de datos en Python\n",
        "\n",
        "# \n",
        "\n",
        "\n",
        "import pandas as pd\n",
        "import numpy as np\n",
        "\n",
        "URL = \"/content/sample_data/california_housing_test.csv\"\n",
        "dfdat = pd.read_csv(URL)\n",
        "\n",
        "#print('Dataframe:\\n',dfdat.head(4))\n",
        "print('\\n- - - - - - - - - - - - - - - - - - - - - \\n')\n",
        "\n",
        "# - - - - - - - - - - - - - - - - - - - - - - - - - - - \n",
        "\n",
        "print('\\n- - - - - - - - - - - - - - - - - - - - - \\n')"
      ],
      "metadata": {
        "id": "tWf_dywAQwW8",
        "colab": {
          "base_uri": "https://localhost:8080/"
        },
        "outputId": "bbfd3f40-a821-46a3-e75c-16b72eb28b63"
      },
      "execution_count": 2,
      "outputs": [
        {
          "output_type": "stream",
          "name": "stdout",
          "text": [
            "\n",
            "- - - - - - - - - - - - - - - - - - - - - \n",
            "\n",
            "\n",
            "- - - - - - - - - - - - - - - - - - - - - \n",
            "\n"
          ]
        }
      ]
    },
    {
      "cell_type": "code",
      "source": [
        "# - - - - - - - - - - - - - - - - - - - - - - - - - - - \n",
        "# Ejercicio \n",
        "\n",
        "# Preprocesamiento de datos en Python\n",
        "\n",
        "# \n",
        "\n",
        "\n",
        "import pandas as pd\n",
        "import numpy as np\n",
        "\n",
        "\n",
        "\n",
        "print('\\n- - - - - - - - - - - - - - - - - - - - - \\n')\n",
        "\n",
        "# - - - - - - - - - - - - - - - - - - - - - - - - - - - \n",
        "\n",
        "print('\\n- - - - - - - - - - - - - - - - - - - - - \\n')"
      ],
      "metadata": {
        "id": "PnqWznqSbKNl"
      },
      "execution_count": null,
      "outputs": []
    },
    {
      "cell_type": "code",
      "source": [
        "# - - - - - - - - - - - - - - - - - - - - - - - - - - - \n",
        "# Ejercicio \n",
        "\n",
        "# Preprocesamiento de datos en Python\n",
        "\n",
        "# \n",
        "\n",
        "\n",
        "import pandas as pd\n",
        "import numpy as np\n",
        "\n",
        "\n",
        "\n",
        "print('\\n- - - - - - - - - - - - - - - - - - - - - \\n')\n",
        "\n",
        "# - - - - - - - - - - - - - - - - - - - - - - - - - - - \n",
        "\n",
        "print('\\n- - - - - - - - - - - - - - - - - - - - - \\n')"
      ],
      "metadata": {
        "id": "4IGI_lR9bKRP"
      },
      "execution_count": null,
      "outputs": []
    },
    {
      "cell_type": "code",
      "source": [
        "# - - - - - - - - - - - - - - - - - - - - - - - - - - - \n",
        "# Ejercicio \n",
        "\n",
        "# Preprocesamiento de datos en Python\n",
        "\n",
        "# \n",
        "\n",
        "\n",
        "import pandas as pd\n",
        "import numpy as np\n",
        "\n",
        "\n",
        "\n",
        "print('\\n- - - - - - - - - - - - - - - - - - - - - \\n')\n",
        "\n",
        "# - - - - - - - - - - - - - - - - - - - - - - - - - - - \n",
        "\n",
        "print('\\n- - - - - - - - - - - - - - - - - - - - - \\n')"
      ],
      "metadata": {
        "id": "PJWR8N4UbKU4"
      },
      "execution_count": null,
      "outputs": []
    },
    {
      "cell_type": "code",
      "source": [
        "# - - - - - - - - - - - - - - - - - - - - - - - - - - - \n",
        "# Ejercicio \n",
        "\n",
        "# Preprocesamiento de datos en Python\n",
        "\n",
        "# \n",
        "\n",
        "\n",
        "import pandas as pd\n",
        "import numpy as np\n",
        "\n",
        "\n",
        "\n",
        "print('\\n- - - - - - - - - - - - - - - - - - - - - \\n')\n",
        "\n",
        "# - - - - - - - - - - - - - - - - - - - - - - - - - - - \n",
        "\n",
        "print('\\n- - - - - - - - - - - - - - - - - - - - - \\n')"
      ],
      "metadata": {
        "id": "29IBFueDbKYX"
      },
      "execution_count": null,
      "outputs": []
    },
    {
      "cell_type": "code",
      "source": [
        "# - - - - - - - - - - - - - - - - - - - - - - - - - - - \n",
        "# Ejercicio \n",
        "\n",
        "# Preprocesamiento de datos en Python\n",
        "\n",
        "# \n",
        "\n",
        "\n",
        "import pandas as pd\n",
        "import numpy as np\n",
        "\n",
        "\n",
        "\n",
        "print('\\n- - - - - - - - - - - - - - - - - - - - - \\n')\n",
        "\n",
        "# - - - - - - - - - - - - - - - - - - - - - - - - - - - \n",
        "\n",
        "print('\\n- - - - - - - - - - - - - - - - - - - - - \\n')"
      ],
      "metadata": {
        "id": "yhHRqkx9bKbl"
      },
      "execution_count": null,
      "outputs": []
    },
    {
      "cell_type": "code",
      "source": [
        "# - - - - - - - - - - - - - - - - - - - - - - - - - - - \n",
        "# Ejercicio \n",
        "\n",
        "# Preprocesamiento de datos en Python\n",
        "\n",
        "# \n",
        "\n",
        "\n",
        "import pandas as pd\n",
        "import numpy as np\n",
        "\n",
        "\n",
        "\n",
        "print('\\n- - - - - - - - - - - - - - - - - - - - - \\n')\n",
        "\n",
        "# - - - - - - - - - - - - - - - - - - - - - - - - - - - \n",
        "\n",
        "print('\\n- - - - - - - - - - - - - - - - - - - - - \\n')"
      ],
      "metadata": {
        "id": "4Flr2JeIbKe7"
      },
      "execution_count": null,
      "outputs": []
    },
    {
      "cell_type": "code",
      "source": [
        "# - - - - - - - - - - - - - - - - - - - - - - - - - - - \n",
        "# Ejercicio \n",
        "\n",
        "# Preprocesamiento de datos en Python\n",
        "\n",
        "# \n",
        "\n",
        "\n",
        "import pandas as pd\n",
        "import numpy as np\n",
        "\n",
        "\n",
        "\n",
        "print('\\n- - - - - - - - - - - - - - - - - - - - - \\n')\n",
        "\n",
        "# - - - - - - - - - - - - - - - - - - - - - - - - - - - \n",
        "\n",
        "print('\\n- - - - - - - - - - - - - - - - - - - - - \\n')"
      ],
      "metadata": {
        "id": "Rbt3FDhgbKh_"
      },
      "execution_count": null,
      "outputs": []
    },
    {
      "cell_type": "code",
      "source": [
        "# - - - - - - - - - - - - - - - - - - - - - - - - - - - \n",
        "# Ejercicio \n",
        "\n",
        "# Preprocesamiento de datos en Python\n",
        "\n",
        "# \n",
        "\n",
        "\n",
        "import pandas as pd\n",
        "import numpy as np\n",
        "\n",
        "\n",
        "\n",
        "print('\\n- - - - - - - - - - - - - - - - - - - - - \\n')\n",
        "\n",
        "# - - - - - - - - - - - - - - - - - - - - - - - - - - - \n",
        "\n",
        "print('\\n- - - - - - - - - - - - - - - - - - - - - \\n')"
      ],
      "metadata": {
        "id": "bHCzLL6LbKkj"
      },
      "execution_count": null,
      "outputs": []
    },
    {
      "cell_type": "code",
      "source": [
        "# - - - - - - - - - - - - - - - - - - - - - - - - - - - \n",
        "# Ejercicio \n",
        "\n",
        "# Preprocesamiento de datos en Python\n",
        "\n",
        "# \n",
        "\n",
        "\n",
        "import pandas as pd\n",
        "import numpy as np\n",
        "\n",
        "\n",
        "\n",
        "print('\\n- - - - - - - - - - - - - - - - - - - - - \\n')\n",
        "\n",
        "# - - - - - - - - - - - - - - - - - - - - - - - - - - - \n",
        "\n",
        "print('\\n- - - - - - - - - - - - - - - - - - - - - \\n')"
      ],
      "metadata": {
        "id": "3m4xXRJibKnn"
      },
      "execution_count": null,
      "outputs": []
    }
  ]
}