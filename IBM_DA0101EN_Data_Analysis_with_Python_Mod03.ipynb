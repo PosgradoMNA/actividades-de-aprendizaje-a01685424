{
  "nbformat": 4,
  "nbformat_minor": 0,
  "metadata": {
    "colab": {
      "provenance": [],
      "collapsed_sections": [],
      "include_colab_link": true
    },
    "kernelspec": {
      "name": "python3",
      "display_name": "Python 3"
    },
    "language_info": {
      "name": "python"
    }
  },
  "cells": [
    {
      "cell_type": "markdown",
      "metadata": {
        "id": "view-in-github",
        "colab_type": "text"
      },
      "source": [
        "<a href=\"https://colab.research.google.com/github/PosgradoMNA/actividades-de-aprendizaje-a01685424/blob/main/IBM_DA0101EN_Data_Analysis_with_Python_Mod03.ipynb\" target=\"_parent\"><img src=\"https://colab.research.google.com/assets/colab-badge.svg\" alt=\"Open In Colab\"/></a>"
      ]
    },
    {
      "cell_type": "markdown",
      "source": [
        "># **IBM Course: DA0101EN**\n",
        ">**Data Analysis with Python**\n",
        "> \n",
        "> *Fernando Alfredo Rojas Estrella - A01685424*\n",
        "> \n",
        "> **Temas:**\n",
        "1. Exploratory Data Analysis 1:20\n",
        "2. Descriptive Statistics 4:39\n",
        "3. GroupBy in Python 3:20\n",
        "4. Analysis of Variance ANOVA 3:58\n",
        "5. Correlation 2:29\n",
        "6. Correlation - Statistics 2:37"
      ],
      "metadata": {
        "id": "mHbN_JwAQ8zs"
      }
    },
    {
      "cell_type": "code",
      "source": [
        "# - - - - - - - - - - - - - - - - - - - - - - - - - - - \n",
        "# Ejercicio 1\n",
        "\n",
        "# Análisis exploratorio de datos\n",
        "\n",
        "# Realización del Análisis Exploratorio de los Datos (EDA)\n",
        "# 1. Resumir principales características de los datos\n",
        "# 2. Obtener mejor comprensión de los datos\n",
        "# 3. Descubrir relaciones entre las variables\n",
        "# 4. Extraer variables importantes\n",
        "# Es importante conocer sobre: Estadísticas descriptivas,\n",
        "# características del conjunto de datos, agrupaciones con\n",
        "# GroupBy, análisis de varianza con ANOVA, correlación en-\n",
        "# tre variables y correlación avanzada.\n",
        "\n",
        "\n",
        "import pandas as pd\n",
        "import numpy as np\n",
        "\n",
        "URL = \"/content/sample_data/california_housing_test.csv\"\n",
        "dfdat = pd.read_csv(URL)\n",
        "\n",
        "#print('Dataframe:\\n',dfdat.head(4))\n",
        "print('\\n- - - - - - - - - - - - - - - - - - - - - \\n')\n",
        "\n",
        "# - - - - - - - - - - - - - - - - - - - - - - - - - - - \n",
        "\n",
        "print('\\n- - - - - - - - - - - - - - - - - - - - - \\n')"
      ],
      "metadata": {
        "id": "tWf_dywAQwW8",
        "colab": {
          "base_uri": "https://localhost:8080/"
        },
        "outputId": "ac1a580c-2e2f-4592-d832-90d800bab59a"
      },
      "execution_count": 4,
      "outputs": [
        {
          "output_type": "stream",
          "name": "stdout",
          "text": [
            "\n",
            "- - - - - - - - - - - - - - - - - - - - - \n",
            "\n",
            "\n",
            "- - - - - - - - - - - - - - - - - - - - - \n",
            "\n"
          ]
        }
      ]
    },
    {
      "cell_type": "code",
      "source": [
        "# - - - - - - - - - - - - - - - - - - - - - - - - - - - \n",
        "# Ejercicio \n",
        "\n",
        "# Estadísticas descriptivas\n",
        "\n",
        "# Ayuda a describir las catacterísticas básicas de un\n",
        "# conjunto de datos y obtiene un resumen sobre la muestra\n",
        "# y medidas.\n",
        "\n",
        "\n",
        "import pandas as pd\n",
        "import numpy as np\n",
        "\n",
        "print('dfdat.describe:',dfdat.describe())\n",
        "\n",
        "\n",
        "\n",
        "print('\\n- - - - - - - - - - - - - - - - - - - - - \\n')\n",
        "\n",
        "# - - - - - - - - - - - - - - - - - - - - - - - - - - - \n",
        "\n",
        "print('\\n- - - - - - - - - - - - - - - - - - - - - \\n')"
      ],
      "metadata": {
        "colab": {
          "base_uri": "https://localhost:8080/"
        },
        "id": "PnqWznqSbKNl",
        "outputId": "d649bcd2-eb68-4eac-d7a1-212dcb6da120"
      },
      "execution_count": 6,
      "outputs": [
        {
          "output_type": "stream",
          "name": "stdout",
          "text": [
            "dfdat.describe:          longitude    latitude  housing_median_age   total_rooms  \\\n",
            "count  3000.000000  3000.00000         3000.000000   3000.000000   \n",
            "mean   -119.589200    35.63539           28.845333   2599.578667   \n",
            "std       1.994936     2.12967           12.555396   2155.593332   \n",
            "min    -124.180000    32.56000            1.000000      6.000000   \n",
            "25%    -121.810000    33.93000           18.000000   1401.000000   \n",
            "50%    -118.485000    34.27000           29.000000   2106.000000   \n",
            "75%    -118.020000    37.69000           37.000000   3129.000000   \n",
            "max    -114.490000    41.92000           52.000000  30450.000000   \n",
            "\n",
            "       total_bedrooms    population  households  median_income  \\\n",
            "count     3000.000000   3000.000000  3000.00000    3000.000000   \n",
            "mean       529.950667   1402.798667   489.91200       3.807272   \n",
            "std        415.654368   1030.543012   365.42271       1.854512   \n",
            "min          2.000000      5.000000     2.00000       0.499900   \n",
            "25%        291.000000    780.000000   273.00000       2.544000   \n",
            "50%        437.000000   1155.000000   409.50000       3.487150   \n",
            "75%        636.000000   1742.750000   597.25000       4.656475   \n",
            "max       5419.000000  11935.000000  4930.00000      15.000100   \n",
            "\n",
            "       median_house_value  \n",
            "count          3000.00000  \n",
            "mean         205846.27500  \n",
            "std          113119.68747  \n",
            "min           22500.00000  \n",
            "25%          121200.00000  \n",
            "50%          177650.00000  \n",
            "75%          263975.00000  \n",
            "max          500001.00000  \n",
            "\n",
            "- - - - - - - - - - - - - - - - - - - - - \n",
            "\n",
            "\n",
            "- - - - - - - - - - - - - - - - - - - - - \n",
            "\n"
          ]
        }
      ]
    },
    {
      "cell_type": "code",
      "source": [
        "# - - - - - - - - - - - - - - - - - - - - - - - - - - - \n",
        "# Ejercicio \n",
        "\n",
        "# Python\n",
        "\n",
        "# \n",
        "\n",
        "\n",
        "import pandas as pd\n",
        "import numpy as np\n",
        "\n",
        "\n",
        "\n",
        "print('\\n- - - - - - - - - - - - - - - - - - - - - \\n')\n",
        "\n",
        "# - - - - - - - - - - - - - - - - - - - - - - - - - - - \n",
        "\n",
        "print('\\n- - - - - - - - - - - - - - - - - - - - - \\n')"
      ],
      "metadata": {
        "id": "4IGI_lR9bKRP"
      },
      "execution_count": null,
      "outputs": []
    },
    {
      "cell_type": "code",
      "source": [
        "# - - - - - - - - - - - - - - - - - - - - - - - - - - - \n",
        "# Ejercicio \n",
        "\n",
        "# Python\n",
        "\n",
        "# \n",
        "\n",
        "\n",
        "import pandas as pd\n",
        "import numpy as np\n",
        "\n",
        "\n",
        "\n",
        "print('\\n- - - - - - - - - - - - - - - - - - - - - \\n')\n",
        "\n",
        "# - - - - - - - - - - - - - - - - - - - - - - - - - - - \n",
        "\n",
        "print('\\n- - - - - - - - - - - - - - - - - - - - - \\n')"
      ],
      "metadata": {
        "id": "PJWR8N4UbKU4"
      },
      "execution_count": null,
      "outputs": []
    },
    {
      "cell_type": "code",
      "source": [
        "# - - - - - - - - - - - - - - - - - - - - - - - - - - - \n",
        "# Ejercicio \n",
        "\n",
        "# Python\n",
        "\n",
        "# \n",
        "\n",
        "\n",
        "import pandas as pd\n",
        "import numpy as np\n",
        "\n",
        "\n",
        "\n",
        "print('\\n- - - - - - - - - - - - - - - - - - - - - \\n')\n",
        "\n",
        "# - - - - - - - - - - - - - - - - - - - - - - - - - - - \n",
        "\n",
        "print('\\n- - - - - - - - - - - - - - - - - - - - - \\n')"
      ],
      "metadata": {
        "id": "29IBFueDbKYX"
      },
      "execution_count": null,
      "outputs": []
    },
    {
      "cell_type": "code",
      "source": [
        "# - - - - - - - - - - - - - - - - - - - - - - - - - - - \n",
        "# Ejercicio \n",
        "\n",
        "# Python\n",
        "\n",
        "# \n",
        "\n",
        "\n",
        "import pandas as pd\n",
        "import numpy as np\n",
        "\n",
        "\n",
        "\n",
        "print('\\n- - - - - - - - - - - - - - - - - - - - - \\n')\n",
        "\n",
        "# - - - - - - - - - - - - - - - - - - - - - - - - - - - \n",
        "\n",
        "print('\\n- - - - - - - - - - - - - - - - - - - - - \\n')"
      ],
      "metadata": {
        "id": "yhHRqkx9bKbl"
      },
      "execution_count": null,
      "outputs": []
    },
    {
      "cell_type": "code",
      "source": [
        "# - - - - - - - - - - - - - - - - - - - - - - - - - - - \n",
        "# Ejercicio \n",
        "\n",
        "# Python\n",
        "\n",
        "# \n",
        "\n",
        "\n",
        "import pandas as pd\n",
        "import numpy as np\n",
        "\n",
        "\n",
        "\n",
        "print('\\n- - - - - - - - - - - - - - - - - - - - - \\n')\n",
        "\n",
        "# - - - - - - - - - - - - - - - - - - - - - - - - - - - \n",
        "\n",
        "print('\\n- - - - - - - - - - - - - - - - - - - - - \\n')"
      ],
      "metadata": {
        "id": "4Flr2JeIbKe7"
      },
      "execution_count": null,
      "outputs": []
    },
    {
      "cell_type": "code",
      "source": [
        "# - - - - - - - - - - - - - - - - - - - - - - - - - - - \n",
        "# Ejercicio \n",
        "\n",
        "# Python\n",
        "\n",
        "# \n",
        "\n",
        "\n",
        "import pandas as pd\n",
        "import numpy as np\n",
        "\n",
        "\n",
        "\n",
        "print('\\n- - - - - - - - - - - - - - - - - - - - - \\n')\n",
        "\n",
        "# - - - - - - - - - - - - - - - - - - - - - - - - - - - \n",
        "\n",
        "print('\\n- - - - - - - - - - - - - - - - - - - - - \\n')"
      ],
      "metadata": {
        "id": "Rbt3FDhgbKh_"
      },
      "execution_count": null,
      "outputs": []
    },
    {
      "cell_type": "code",
      "source": [
        "# - - - - - - - - - - - - - - - - - - - - - - - - - - - \n",
        "# Ejercicio \n",
        "\n",
        "# Python\n",
        "\n",
        "# \n",
        "\n",
        "\n",
        "import pandas as pd\n",
        "import numpy as np\n",
        "\n",
        "\n",
        "\n",
        "print('\\n- - - - - - - - - - - - - - - - - - - - - \\n')\n",
        "\n",
        "# - - - - - - - - - - - - - - - - - - - - - - - - - - - \n",
        "\n",
        "print('\\n- - - - - - - - - - - - - - - - - - - - - \\n')"
      ],
      "metadata": {
        "id": "bHCzLL6LbKkj"
      },
      "execution_count": null,
      "outputs": []
    },
    {
      "cell_type": "code",
      "source": [
        "# - - - - - - - - - - - - - - - - - - - - - - - - - - - \n",
        "# Ejercicio \n",
        "\n",
        "# Python\n",
        "\n",
        "# \n",
        "\n",
        "\n",
        "import pandas as pd\n",
        "import numpy as np\n",
        "\n",
        "\n",
        "\n",
        "print('\\n- - - - - - - - - - - - - - - - - - - - - \\n')\n",
        "\n",
        "# - - - - - - - - - - - - - - - - - - - - - - - - - - - \n",
        "\n",
        "print('\\n- - - - - - - - - - - - - - - - - - - - - \\n')"
      ],
      "metadata": {
        "id": "3m4xXRJibKnn"
      },
      "execution_count": null,
      "outputs": []
    }
  ]
}