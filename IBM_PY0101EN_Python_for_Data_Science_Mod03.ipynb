{
  "nbformat": 4,
  "nbformat_minor": 0,
  "metadata": {
    "colab": {
      "provenance": [],
      "collapsed_sections": [],
      "authorship_tag": "ABX9TyMcOFkJJQ7/mBu/zjidQ8pC",
      "include_colab_link": true
    },
    "kernelspec": {
      "name": "python3",
      "display_name": "Python 3"
    },
    "language_info": {
      "name": "python"
    }
  },
  "cells": [
    {
      "cell_type": "markdown",
      "metadata": {
        "id": "view-in-github",
        "colab_type": "text"
      },
      "source": [
        "<a href=\"https://colab.research.google.com/github/PosgradoMNA/actividades-de-aprendizaje-a01685424/blob/main/IBM_PY0101EN_Python_for_Data_Science_Mod03.ipynb\" target=\"_parent\"><img src=\"https://colab.research.google.com/assets/colab-badge.svg\" alt=\"Open In Colab\"/></a>"
      ]
    },
    {
      "cell_type": "code",
      "execution_count": null,
      "metadata": {
        "id": "C4WWlSnQbnpo"
      },
      "outputs": [],
      "source": [
        "# IBM Course \n",
        "\n",
        "# Modulo 3"
      ]
    },
    {
      "cell_type": "code",
      "source": [
        "#Ejercicio 1\n",
        "#Conditions and Branching\n",
        "\n",
        "#if\n",
        "age=17\n",
        "if(age>18):\n",
        "  print('Puedes entrar')\n",
        "else:\n",
        "  print('Acceso denegado')\n",
        "print('Movámonos')\n",
        "print('')\n",
        "\n",
        "#elseif\n",
        "if(age>18):\n",
        "  print('Puedes entrar')\n",
        "elif(age==18):\n",
        "  print('Entra al otro concierto')\n",
        "else:\n",
        "  print('Acceso contundentemente denegado')\n",
        "\n",
        "print('Continuemos')\n",
        "print('')\n",
        "\n",
        "#Logic operators\n",
        "A=False\n",
        "B=True\n",
        "C=not(A)\n",
        "print('C:',C)\n",
        "print('')\n",
        "\n",
        "\n",
        "album_year = 1990\n",
        "\n",
        "if(album_year < 1980) or (album_year > 1989):\n",
        "  print('El album fue grabado en los 70s o en los 90s')\n",
        "else:\n",
        "  print('El album fue grabado en los 80s')\n",
        "print('')\n",
        "\n",
        "if(album_year > 1979) and (album_year < 1090):\n",
        "  print('El album fue grabado en los 80s')\n",
        "else:\n",
        "  print('El album no fue grabado en los 80s')\n",
        "print('')\n",
        "\n",
        "\n",
        "i=1\n",
        "i!=0\n",
        "\n",
        "\n",
        "album_year = 1983\n",
        "if not (album_year == 1984):\n",
        "  print('El año del album no es 1984')\n",
        "print('')\n",
        "\n",
        "\n",
        "#Quiz\n",
        "\n",
        "rating_back_in_Black=8.5\n",
        "if (rating_back_in_Black>8):\n",
        "  print('Este album es increible')\n",
        "print('')\n",
        "\n",
        "year=1991\n",
        "if (year<1980) or (year==1991) or (year==1993):\n",
        "  print('El año del album es:',year)\n",
        "print('Año seleccionado:',year)"
      ],
      "metadata": {
        "colab": {
          "base_uri": "https://localhost:8080/"
        },
        "id": "V8GJMkRkbuMn",
        "outputId": "35f09ca1-d5ea-40ee-cc0d-4875b351549c"
      },
      "execution_count": 22,
      "outputs": [
        {
          "output_type": "stream",
          "name": "stdout",
          "text": [
            "Acceso denegado\n",
            "Movámonos\n",
            "\n",
            "Acceso contundentemente denegado\n",
            "Continuemos\n",
            "\n",
            "C: True\n",
            "\n",
            "El album fue grabado en los 70s o en los 90s\n",
            "\n",
            "El album no fue grabado en los 80s\n",
            "\n",
            "El año del album no es 1984\n",
            "\n",
            "Este album es increible\n",
            "\n",
            "El año del album es: 1991\n",
            "Año seleccionado: 1991\n"
          ]
        }
      ]
    },
    {
      "cell_type": "code",
      "source": [
        "#Ejercicio 2\n",
        "#Loops\n",
        "\n"
      ],
      "metadata": {
        "id": "YY0njydJbyok"
      },
      "execution_count": null,
      "outputs": []
    },
    {
      "cell_type": "code",
      "source": [
        "#Ejercicio 3\n",
        "#Functions\n",
        "\n"
      ],
      "metadata": {
        "id": "NHJkFtZbbzpw"
      },
      "execution_count": null,
      "outputs": []
    },
    {
      "cell_type": "code",
      "source": [
        "#Ejercicio 4\n",
        "#Objects and Classes\n",
        "\n"
      ],
      "metadata": {
        "id": "QsxedgJsb0si"
      },
      "execution_count": null,
      "outputs": []
    },
    {
      "cell_type": "code",
      "source": [
        "#Ejercicio 5\n",
        "#\n",
        "\n"
      ],
      "metadata": {
        "id": "-M27poyEb1wR"
      },
      "execution_count": null,
      "outputs": []
    }
  ]
}