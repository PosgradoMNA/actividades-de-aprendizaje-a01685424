{
  "nbformat": 4,
  "nbformat_minor": 0,
  "metadata": {
    "colab": {
      "provenance": [],
      "collapsed_sections": [],
      "include_colab_link": true
    },
    "kernelspec": {
      "name": "python3",
      "display_name": "Python 3"
    },
    "language_info": {
      "name": "python"
    }
  },
  "cells": [
    {
      "cell_type": "markdown",
      "metadata": {
        "id": "view-in-github",
        "colab_type": "text"
      },
      "source": [
        "<a href=\"https://colab.research.google.com/github/PosgradoMNA/actividades-de-aprendizaje-a01685424/blob/main/IBM_PY0101EN_Python_for_Data_Science_Mod05.ipynb\" target=\"_parent\"><img src=\"https://colab.research.google.com/assets/colab-badge.svg\" alt=\"Open In Colab\"/></a>"
      ]
    },
    {
      "cell_type": "code",
      "execution_count": null,
      "metadata": {
        "id": "C4WWlSnQbnpo"
      },
      "outputs": [],
      "source": [
        "# IBM Course \n",
        "\n",
        "# Modulo 5"
      ]
    },
    {
      "cell_type": "code",
      "source": [
        "# Ejercicio 1\n",
        "# Numpy en 1D\n",
        "\n",
        "import numpy as np\n",
        "\n",
        "# Creación de arrays con Numpy\n",
        "a=np.array([0,1,2,3,4,5,6,7,8,9])\n",
        "print('a:',a)\n",
        "print('type  a:',type(a))\n",
        "print('dtype a:',a.dtype)\n",
        "print('size  a:',a.size)\n",
        "print('ndim  a:',a.ndim)\n",
        "print('shape a:',a.shape)\n",
        "print('- - - - - - - - - - ')\n",
        "\n",
        "# Creación de array con numeros flotantes\n",
        "b=np.array([3.1,11.02,6.2,213.2,5.2,45.0,13.2,8.3,1.23,90.2])\n",
        "print('b:',b)\n",
        "print('type  b:',type(b))\n",
        "print('dtype b:',b.dtype)\n",
        "print('- - - - - - - - - - ')\n",
        "\n",
        "# Usando métodos de indexado y división\n",
        "c = np.array([23,45,2,6,4])\n",
        "print('c:',c)\n",
        "c[0]=100\n",
        "print('c:',c)\n",
        "c[4]=0\n",
        "print('c:',c)\n",
        "print('- - - - - - - - - - ')\n",
        "\n",
        "# Seleccionando a partir del índice\n",
        "d=c[1:4]\n",
        "print('c[1:4]:',d)\n",
        "print('c[3:5]:',c[3:5])\n",
        "print('- - - - - - - - - - ')\n",
        "\n",
        "# Operaciones básicas de Numpy\n",
        "N=[10,5]\n",
        "M=[10,20]\n",
        "Ñ=[]\n",
        "for n,m in zip(N,M):\n",
        "  Ñ.append(n+m)\n",
        "\n",
        "print('Ñ:',Ñ)\n",
        "print('\\n')\n",
        "print('N+M:',N+M)\n",
        "print('- - - - - - - - - - ')\n",
        "\n",
        "# Multiplicación\n",
        "xnp = [1,2]\n",
        "ynp = []\n",
        "for n in xnp:\n",
        "  ynp.append(2*n)\n",
        "\n",
        "print('ynp:',ynp)\n",
        "print('\\n2da forma:\\n')\n",
        "xn = np.array([1,2])\n",
        "yn=2*xn\n",
        "print('yn:',yn)\n",
        "print('- - - - - - - - - - ')\n",
        "\n",
        "# producto escalar\n",
        "upe=np.array([1,2])\n",
        "vpe=np.array([1,2])\n",
        "rpe=np.dot(upe,vpe)\n",
        "print('Resultado producto escalar:',rpe)\n",
        "rs2=upe+100\n",
        "print('Resultado upe+100:',rs2)\n",
        "rpe=np.dot(upe,vpe)\n",
        "print('Resultado producto escalar con rs2:',np.dot(upe,rs2))\n",
        "print('- - - - - - - - - - ')\n",
        "\n",
        "# Funciones universales\n",
        "c = np.array([1,2,9,7,6,4,9,10,8,7,6,9,10])\n",
        "max_c = c.max()\n",
        "print('Max:',max_c)\n",
        "mean_c = c.mean()\n",
        "print('Mean: %.3f' % mean_c)\n",
        "print('np.pi: %.50f'% np.pi)\n",
        "xf=np.array([0,np.pi/2,np.pi])\n",
        "print('x: ', xf)\n",
        "yf=np.sin(xf)\n",
        "print('sin(y): ', yf)\n",
        "print('- - - - - - - - - - ')\n",
        "ls1 = np.linspace(-2,2,num=5) # crea una línea de de números espaciados uniformemente\n",
        "print('Números espaciados uniformemente:',ls1)\n",
        "ls2 = np.linspace(-2,2,num=12) # crea una línea de de números espaciados uniformemente\n",
        "print('Números espaciados uniformemente:',ls2)\n",
        "print('- - - - - - - - - - ')\n",
        "\n",
        "# Plotting Mathematical Functions\n",
        "import matplotlib.pyplot as graf\n",
        "xg=np.linspace(0,2*np.pi,100)\n",
        "yg=np.sin(xg)\n",
        "graf.plot(yg,xg)    # Se gráfica el seno de la función con los ejes invertidos\n",
        "print('- - - - - - - - - - ')"
      ],
      "metadata": {
        "id": "L2DWPw8ZtjiM",
        "colab": {
          "base_uri": "https://localhost:8080/",
          "height": 1000
        },
        "outputId": "f4828def-ac06-4b70-ee7c-4d13caf64624"
      },
      "execution_count": 47,
      "outputs": [
        {
          "output_type": "stream",
          "name": "stdout",
          "text": [
            "a: [0 1 2 3 4 5 6 7 8 9]\n",
            "type  a: <class 'numpy.ndarray'>\n",
            "dtype a: int64\n",
            "size  a: 10\n",
            "ndim  a: 1\n",
            "shape a: (10,)\n",
            "- - - - - - - - - - \n",
            "b: [  3.1   11.02   6.2  213.2    5.2   45.    13.2    8.3    1.23  90.2 ]\n",
            "type  b: <class 'numpy.ndarray'>\n",
            "dtype b: float64\n",
            "- - - - - - - - - - \n",
            "c: [23 45  2  6  4]\n",
            "c: [100  45   2   6   4]\n",
            "c: [100  45   2   6   0]\n",
            "- - - - - - - - - - \n",
            "c[1:4]: [45  2  6]\n",
            "c[3:5]: [6 0]\n",
            "- - - - - - - - - - \n",
            "Ñ: [20, 25]\n",
            "\n",
            "\n",
            "N+M: [10, 5, 10, 20]\n",
            "- - - - - - - - - - \n",
            "ynp: [2, 4]\n",
            "\n",
            "2da forma:\n",
            "\n",
            "yn: [2 4]\n",
            "- - - - - - - - - - \n",
            "Resultado producto escalar: 5\n",
            "Resultado upe+100: [101 102]\n",
            "Resultado producto escalar con rs2: 305\n",
            "- - - - - - - - - - \n",
            "Max: 10\n",
            "Mean: 6.769\n",
            "np.pi: 3.14159265358979311599796346854418516159057617187500\n",
            "x:  [0.         1.57079633 3.14159265]\n",
            "sin(y):  [0.0000000e+00 1.0000000e+00 1.2246468e-16]\n",
            "- - - - - - - - - - \n",
            "Números espaciados uniformemente: [-2. -1.  0.  1.  2.]\n",
            "Números espaciados uniformemente: [-2.         -1.63636364 -1.27272727 -0.90909091 -0.54545455 -0.18181818\n",
            "  0.18181818  0.54545455  0.90909091  1.27272727  1.63636364  2.        ]\n",
            "- - - - - - - - - - \n",
            "- - - - - - - - - - \n"
          ]
        },
        {
          "output_type": "display_data",
          "data": {
            "text/plain": [
              "<Figure size 432x288 with 1 Axes>"
            ],
            "image/png": "[encoded data removed]"
          },
          "metadata": {
            "needs_background": "light"
          }
        }
      ]
    },
    {
      "cell_type": "code",
      "source": [
        "# Ejercicio lab ----------------------------------------------------------------\n",
        "\n",
        "u = np.array([1, 0])\n",
        "v = np.array([0, 1])\n",
        "print('u - v:',u - v)\n",
        "print('- - - - - - - - - - ')\n",
        "z = np.array([2, 4])*-2\n",
        "print('z:',z)\n",
        "print('- - - - - - - - - - ')\n",
        "mul=np.array([1, 2, 3, 4, 5])*np.array([1, 0, 1, 0, 1])\n",
        "print('Multiplicación de 2 arrays:',mul)\n",
        "print('- - - - - - - - - - ')\n",
        "# Import the libraries\n",
        "\n",
        "import time \n",
        "import sys\n",
        "import numpy as np \n",
        "\n",
        "import matplotlib.pyplot as plt\n",
        "%matplotlib inline  \n",
        "\n",
        "def Plotvec2(a,b):\n",
        "    ax = plt.axes()# to generate the full window axes\n",
        "    ax.arrow(0, 0, *a, head_width=0.05, color ='r', head_length=0.1)#Add an arrow to the  a Axes with arrow head width 0.05, color red and arrow head length 0.1\n",
        "    plt.text(*(a + 0.1), 'a')\n",
        "    ax.arrow(0, 0, *b, head_width=0.05, color ='b', head_length=0.1)#Add an arrow to the  b Axes with arrow head width 0.05, color blue and arrow head length 0.1\n",
        "    plt.text(*(b + 0.1), 'b')\n",
        "    plt.ylim(-2, 2)#set the ylim to bottom(-2), top(2)\n",
        "    plt.xlim(-2, 2)#set the xlim to left(-2), right(2)\n",
        "\n",
        "ap=np.array([-1, 1])\n",
        "bp=np.array([1, 1])\n",
        "Plotvec2(ap,bp)\n",
        "print('Gráfico de vectores:',ap,bp)\n",
        "print(\"Producto punto\", np.dot(ap,bp))\n",
        "print('\\n')\n",
        "ap2=np.array([1, 0])\n",
        "bp2=np.array([0, 1])\n",
        "Plotvec2(ap2,bp2)\n",
        "print('Gráfico de vectores:',ap2,bp2)\n",
        "print(\"Producto punto\", np.dot(ap2,bp2))\n",
        "print('- - - - - - - - - - ')\n",
        "\n",
        "# Operaciones con arrays\n",
        "arr1=np.array([1, 2, 3])\n",
        "arr2=np.array([8, 9, 10])\n",
        "arrA=np.add(arr1, arr2)\n",
        "print('Suma:',arrA)\n",
        "arrS=np.subtract(arr1, arr2)\n",
        "print('Resta:',arrS)\n",
        "arrM=np.multiply(arr1, arr2)\n",
        "print('Multiplicación:',arrM)\n",
        "arrD=np.divide(arr1, arr2)\n",
        "print('División:',arrD)\n",
        "arrDt=np.dot(arr1, arr2)\n",
        "print('Producto punto:',arrDt)\n",
        "print(':',)\n",
        "print('- - - - - - - - - - ')\n",
        "\n",
        "# Extrayendo valores de los arreglos\n",
        "arr1=np.array([1, 2, 3, 4, 5])\n",
        "arr2=np.array([6, 7, 8, 9, 10])\n",
        "x = arr1[1:8:2]\n",
        "print('Pares:',x)\n",
        "y = arr2[0:8:2]\n",
        "print('Pares:',y)   \n",
        "x = arr1[0:8:2]\n",
        "print('Nones:',x)\n",
        "y = arr2[1:8:2]\n",
        "print('Nones:',y)   \n",
        "print('- - - - - - - - - - ')\n"
      ],
      "metadata": {
        "colab": {
          "base_uri": "https://localhost:8080/",
          "height": 758
        },
        "id": "050dd-WNBdtP",
        "outputId": "9c03e80c-c3aa-4977-d2a1-93935f74b1f8"
      },
      "execution_count": 61,
      "outputs": [
        {
          "output_type": "stream",
          "name": "stdout",
          "text": [
            "u - v: [ 1 -1]\n",
            "- - - - - - - - - - \n",
            "z: [-4 -8]\n",
            "- - - - - - - - - - \n",
            "Multiplicación de 2 arrays: [1 0 3 0 5]\n",
            "- - - - - - - - - - \n",
            "Gráfico de vectores: [-1  1] [1 1]\n",
            "Producto punto 0\n",
            "\n",
            "\n",
            "Gráfico de vectores: [1 0] [0 1]\n",
            "Producto punto 0\n",
            "- - - - - - - - - - \n",
            "Suma: [ 9 11 13]\n",
            "Resta: [-7 -7 -7]\n",
            "Multiplicación: [ 8 18 30]\n",
            "División: [0.125      0.22222222 0.3       ]\n",
            "Producto punto: 56\n",
            ":\n",
            "- - - - - - - - - - \n",
            "Pares: [2 4]\n",
            "Pares: [ 6  8 10]\n",
            "Nones: [1 3 5]\n",
            "Nones: [7 9]\n",
            "- - - - - - - - - - \n"
          ]
        },
        {
          "output_type": "stream",
          "name": "stderr",
          "text": [
            "/usr/local/lib/python3.7/dist-packages/ipykernel_launcher.py:23: MatplotlibDeprecationWarning: Adding an axes using the same arguments as a previous axes currently reuses the earlier instance.  In a future version, a new instance will always be created and returned.  Meanwhile, this warning can be suppressed, and the future behavior ensured, by passing a unique label to each axes instance.\n"
          ]
        },
        {
          "output_type": "display_data",
          "data": {
            "text/plain": [
              "<Figure size 432x288 with 1 Axes>"
            ],
            "image/png": "[encoded data removed]"
          },
          "metadata": {
            "needs_background": "light"
          }
        }
      ]
    },
    {
      "cell_type": "code",
      "source": [
        "# Ejercicio 2\n",
        "# Matrices\n",
        "\n",
        "a = [[1.1,1.2,1.3],[2.1,2.2,2.3],[3.1,3.2,3.3]] # Array\n",
        "A = np.array(a)\n",
        "print('Array a:',a)\n",
        "print('Matriz A:\\n',A)\n",
        "print('- - - - - - - - - - ')\n",
        "# Dimensiones\n",
        "print('Dimensiones:',A.ndim)\n",
        "print('Forma:',A.shape)\n",
        "print('Size',A.size)\n",
        "print('- - - - - - - - - - ')\n",
        "# Mostrando los valores a través de los índices\n",
        "print('A[0,0]:',A[0,0])\n",
        "print('A[2,2]:',A[2,2])\n",
        "print('A[0:2,1]:',A[0:2,1])\n",
        "print('- - - - - - - - - - ')\n",
        "# Suma de vectores\n",
        "X = np.array([[1,0],[0,1]])\n",
        "Y = np.array([[2,1],[1,2]])\n",
        "Z = X + Y\n",
        "print('Suma de matrices:\\n',Z)\n",
        "print('Multiplicación:\\n',X*2)\n",
        "print('Producto de Hadamard:',X*Y)\n",
        "# Multiplicación de matrices\n",
        "X1 = np.array([[0,1,2],[0,1,2]])\n",
        "Y1 = np.array([[1,2],[1,2],[1,2]])\n",
        "print('X1\\n:',X1)\n",
        "print('Y1\\n:',Y1)\n",
        "print('Producto punto X1,Y1:\\n',np.dot(X1,Y1))\n",
        "print('- - - - - - - - - - ')\n",
        "print('',)\n",
        "print('- - - - - - - - - - ')\n",
        "print('',)\n",
        "print('- - - - - - - - - - ')"
      ],
      "metadata": {
        "colab": {
          "base_uri": "https://localhost:8080/"
        },
        "id": "ErGdzpeRxbAI",
        "outputId": "f0262192-615b-45f6-9610-52ca3f34a31a"
      },
      "execution_count": 83,
      "outputs": [
        {
          "output_type": "stream",
          "name": "stdout",
          "text": [
            "Array a: [[1.1, 1.2, 1.3], [2.1, 2.2, 2.3], [3.1, 3.2, 3.3]]\n",
            "Matriz A:\n",
            " [[1.1 1.2 1.3]\n",
            " [2.1 2.2 2.3]\n",
            " [3.1 3.2 3.3]]\n",
            "- - - - - - - - - - \n",
            "Dimensiones: 2\n",
            "Forma: (3, 3)\n",
            "Size 9\n",
            "- - - - - - - - - - \n",
            "A[0,0]: 1.1\n",
            "A[2,2]: 3.3\n",
            "A[0:2,1]: [1.2 2.2]\n",
            "- - - - - - - - - - \n",
            "Suma de matrices:\n",
            " [[3 1]\n",
            " [1 3]]\n",
            "Multiplicación:\n",
            " [[2 0]\n",
            " [0 2]]\n",
            "Producto de Hadamard: [[2 0]\n",
            " [0 2]]\n",
            "X1\n",
            ": [[0 1 2]\n",
            " [0 1 2]]\n",
            "Y1\n",
            ": [[1 2]\n",
            " [1 2]\n",
            " [1 2]]\n",
            "Producto punto X1,Y1:\n",
            " [[3 6]\n",
            " [3 6]]\n",
            "- - - - - - - - - - \n",
            "\n",
            "- - - - - - - - - - \n",
            "\n",
            "- - - - - - - - - - \n"
          ]
        }
      ]
    },
    {
      "cell_type": "code",
      "source": [
        "# Ejercicio 3\n",
        "# Application Program Interfaces (API)\n",
        "\n",
        "import requests\n",
        "\n",
        "import os \n",
        "from PIL import Image\n",
        "from IPython.display import IFrame\n",
        "\n",
        "url='https://www.ibm.com/'\n",
        "r=requests.get(url)\n",
        "print('r:',r)\n",
        "rs = r.status_code\n",
        "print('Status code:',rs,'\\n')\n",
        "# Observando los request headers y body\n",
        "print('request headers:\\n',r.request.headers,'\\n')\n",
        "print('request body:\\n', r.request.body)\n",
        "# HTTP response header\n",
        "header=r.headers\n",
        "print('\\nHTTP response header:\\n',r.headers,'\\n')\n",
        "# Fecha\n",
        "print('Fecha:\\n',header['date'],'\\n')\n",
        "print('Content-Type:\\n',header['Content-Type'],'\\n')\n",
        "print('Encoding:\\n',r.encoding,'\\n')\n",
        "# Viendo el HTML\n",
        "print('r.text[0:100]',r.text[0:100],'\\n')\n",
        "print('- - - - - - - - - - - - - - - - - - - - ')\n",
        "url='https://cf-courses-data.s3.us.cloud-object-storage.appdomain.cloud/IBMDeveloperSkillsNetwork-PY0101EN-SkillsNetwork/IDSNlogo.png'\n",
        "r=requests.get(url)\n",
        "print('Headers:\\n',r.headers,'\\n')\n",
        "print('Tipo:\\n',r.headers['Content-Type'],'\\n')\n",
        "\n",
        "path=os.path.join(os.getcwd(),'image.png')\n",
        "print('path:\\n',path,'\\n')\n",
        "\n",
        "# Guardando el archivo\n",
        "with open(path,'wb') as f:\n",
        "    f.write(r.content)\n",
        "# Abriendo el archivo\n",
        "Image.open(path)"
      ],
      "metadata": {
        "colab": {
          "base_uri": "https://localhost:8080/",
          "height": 1000
        },
        "id": "9BG6suAfxbFD",
        "outputId": "6426764f-2200-45fa-9f9c-bbb5a7cf516c"
      },
      "execution_count": 125,
      "outputs": [
        {
          "output_type": "stream",
          "name": "stdout",
          "text": [
            "r: <Response [200]>\n",
            "Status code: 200 \n",
            "\n",
            "request headers:\n",
            " {'User-Agent': 'python-requests/2.23.0', 'Accept-Encoding': 'gzip, deflate', 'Accept': '*/*', 'Connection': 'keep-alive', 'Cookie': '_abck=4E173D602613FBECB38286892F732E5C~-1~YAAQZPTVFx5qb1aDAQAAreVdpgj6eJp9KCn1le8Oi7DaGZHij/+ZJpZl+25LYewBZ7MiG1nSd2f/ozdPITAuXMSZ0OAlOTrUcVVxWvu9lBOr4wOozz3YPHK6axZSKvVUJIjGVjUA8wFLg6cGxJ67lW7rCsVRXUqE+wDQGUnQKQZ6mqyyJ7avFG/xdV4iGXGnVd1YPqNS9GVRt35LktVByrgAYWVunQKRIQ5CkpeXLfL6BoXLK9zH61Ye8bpA/byAj6FveLjQY8iquZtQIr3w1FdA593jHZKAfJSRMWKEvvAfU3UoZIL1zNdxutjEDy7mMoSSc6ZbpH0b//APeDyb+/oP/AjfCK3/Hdztk4YNGsumaQ0VYoQ=~-1~-1~-1; bm_sz=57CF993BA0E098C9ECE3C5F06203B769~YAAQZPTVFx9qb1aDAQAAreVdphEkrh89wD5mauJa/54OkKxdPJa1EgqW74NYfuvRib+Edp25xIaDNq19Wc3i4Yz64D+zZ5FnPoh9aMxCwj0nAaC9jj0MxOAy9SSYhsL8UF45c7q47vXmIFwl8Cfz6mmZvzKj/r/YDiIiaXgJDkJMoIWZ3o57AlSjwmbAcdKy3Keqy+jcdp3zysEgUnceZ5JxXCbwZq+QGuOl/kHUxpOAaZOauwKrKkZbRTJGoKzrc8gwTO3yTja5/xYlKYCoe4yCoPP196dB6kOt201E73c=~4538945~3555893'} \n",
            "\n",
            "request body:\n",
            " None\n",
            "\n",
            "HTTP response header:\n",
            " {'Server': 'Apache', 'Last-Modified': 'Mon, 03 Oct 2022 12:34:16 GMT', 'ETag': '\"17fce-5ea208fcd503e-gzip\"', 'Accept-Ranges': 'bytes', 'Content-Encoding': 'gzip', 'Content-Type': 'text/html', 'Cache-Control': 'max-age=3600', 'Expires': 'Wed, 05 Oct 2022 05:18:35 GMT', 'X-Akamai-Transformed': '9 21227 0 pmb=mTOE,2', 'Date': 'Wed, 05 Oct 2022 04:18:35 GMT', 'Content-Length': '21405', 'Connection': 'keep-alive', 'Vary': 'Accept-Encoding', 'x-content-type-options': 'nosniff', 'X-XSS-Protection': '1; mode=block', 'Content-Security-Policy': 'upgrade-insecure-requests', 'Strict-Transport-Security': 'max-age=31536000'} \n",
            "\n",
            "Fecha:\n",
            " Wed, 05 Oct 2022 04:18:35 GMT \n",
            "\n",
            "Content-Type:\n",
            " text/html \n",
            "\n",
            "Encoding:\n",
            " ISO-8859-1 \n",
            "\n",
            "r.text[0:100] <!DOCTYPE html><html lang=\"en-US\"><head><meta name=\"viewport\" content=\"width=device-width\"/><meta ch \n",
            "\n",
            "- - - - - - - - - - - - - - - - - - - - \n",
            "Headers:\n",
            " {'Date': 'Wed, 05 Oct 2022 04:18:35 GMT', 'X-Clv-Request-Id': 'c33d78d9-d73b-4a45-a709-ef1e9670bb69', 'Server': 'Cleversafe', 'X-Clv-S3-Version': '2.5', 'Accept-Ranges': 'bytes', 'x-amz-request-id': 'c33d78d9-d73b-4a45-a709-ef1e9670bb69', 'Cache-Control': 'max-age=0,public', 'ETag': '\"a831e767d02efd21b904ec485ac0c769\"', 'Content-Type': 'image/png', 'Last-Modified': 'Wed, 14 Sep 2022 05:47:46 GMT', 'Content-Length': '21590'} \n",
            "\n",
            "Tipo:\n",
            " image/png \n",
            "\n",
            "path:\n",
            " /content/image.png \n",
            "\n"
          ]
        },
        {
          "output_type": "execute_result",
          "data": {
            "text/plain": [
              "<PIL.PngImagePlugin.PngImageFile image mode=P size=800x800 at 0x7F1D8AEE51D0>"
            ],
            "image/png": "[encoded data removed]"
          },
          "metadata": {},
          "execution_count": 125
        }
      ]
    },
    {
      "cell_type": "code",
      "source": [
        "# Ejercicio 4\n",
        "#\n",
        "\n",
        "print('- - - - - - - - - - ')\n",
        "\n",
        "print('- - - - - - - - - - ')\n",
        "\n",
        "print('- - - - - - - - - - ')\n",
        "\n",
        "print('- - - - - - - - - - ')\n",
        "\n",
        "print('- - - - - - - - - - ')\n",
        "\n",
        "print('- - - - - - - - - - ')"
      ],
      "metadata": {
        "id": "B6O1nhXAxbIZ"
      },
      "execution_count": null,
      "outputs": []
    },
    {
      "cell_type": "code",
      "source": [
        "# Ejercicios varios\n",
        "#\n",
        "\n",
        "e01=np.array([1,-1])*np.array([1,1])\n",
        "print('e01:',e01)   # Producto\n",
        "print('- - - - - - - - - - ')\n",
        "e02=np.dot(np.array([1,-1]),np.array([1,1]))\n",
        "print('e02:',e02)   # Producto punto\n",
        "print('- - - - - - - - - - ')\n",
        "# Múltiples renglones\n",
        "Ar = np.array([[1,2],[3,4],[5,6],[7,8]])\n",
        "print('Ar:',Ar)\n",
        "print('- - - - - - - - - - ')\n",
        "# Operación no posible\n",
        "At = np.array([[1,2],[3,4],[5,6]])\n",
        "Bt = np.array([[1,2,3],[4,5,6],[7,8,9]])\n",
        "print('At:\\n',At)\n",
        "print('Bt:\\n',Bt)\n",
        "np.dot(Bt,At)\n",
        "print('- - - - - - - - - - ')\n",
        "\n",
        "print('- - - - - - - - - - ')\n",
        "\n",
        "print('- - - - - - - - - - ')"
      ],
      "metadata": {
        "colab": {
          "base_uri": "https://localhost:8080/"
        },
        "id": "XwpwePFpxbSL",
        "outputId": "12dd2a25-b2e5-4ec4-801f-9059b2a5efc3"
      },
      "execution_count": 90,
      "outputs": [
        {
          "output_type": "stream",
          "name": "stdout",
          "text": [
            "e01: [ 1 -1]\n",
            "- - - - - - - - - - \n",
            "e02: 0\n",
            "- - - - - - - - - - \n",
            "Ar: [[1 2]\n",
            " [3 4]\n",
            " [5 6]\n",
            " [7 8]]\n",
            "- - - - - - - - - - \n",
            "At:\n",
            " [[1 2]\n",
            " [3 4]\n",
            " [5 6]]\n",
            "Bt:\n",
            " [[1 2 3]\n",
            " [4 5 6]\n",
            " [7 8 9]]\n",
            "- - - - - - - - - - \n",
            "- - - - - - - - - - \n",
            "- - - - - - - - - - \n"
          ]
        }
      ]
    },
    {
      "cell_type": "code",
      "source": [
        "class Car:\n",
        "\n",
        "    def __init__(self,make,model,color):\n",
        "        self.make = \"a\"\n",
        "        self.model = \"a\"\n",
        "        self.color = \"a\"\n",
        "\n",
        "Car(\"Honda\",\"Accord\",\"blue\")\n",
        "print(Car)\n",
        "Car(\"Honda\",\"Accord\",\"blue\")\n",
        "print(Car)\n",
        "Car(make=\"Honda\",model=\"Accord\",color=\"blue\")\n",
        "print(Car)\n",
        "Car(model=\"Accord\",make=\"Honda\",color=\"blue\")\n",
        "print(Car)"
      ],
      "metadata": {
        "colab": {
          "base_uri": "https://localhost:8080/"
        },
        "id": "2m792Izf_ksQ",
        "outputId": "74329973-3573-4f64-accf-1f368afa1d0f"
      },
      "execution_count": 100,
      "outputs": [
        {
          "output_type": "stream",
          "name": "stdout",
          "text": [
            "<class '__main__.Car'>\n",
            "<class '__main__.Car'>\n",
            "<class '__main__.Car'>\n",
            "<class '__main__.Car'>\n"
          ]
        }
      ]
    },
    {
      "cell_type": "code",
      "source": [],
      "metadata": {
        "id": "OFQ7e5q5PDfM"
      },
      "execution_count": null,
      "outputs": []
    }
  ]
}