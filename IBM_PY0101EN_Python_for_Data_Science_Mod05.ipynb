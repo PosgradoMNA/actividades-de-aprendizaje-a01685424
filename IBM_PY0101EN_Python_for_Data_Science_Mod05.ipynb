{
  "nbformat": 4,
  "nbformat_minor": 0,
  "metadata": {
    "colab": {
      "provenance": [],
      "collapsed_sections": [],
      "include_colab_link": true
    },
    "kernelspec": {
      "name": "python3",
      "display_name": "Python 3"
    },
    "language_info": {
      "name": "python"
    }
  },
  "cells": [
    {
      "cell_type": "markdown",
      "metadata": {
        "id": "view-in-github",
        "colab_type": "text"
      },
      "source": [
        "<a href=\"https://colab.research.google.com/github/PosgradoMNA/actividades-de-aprendizaje-a01685424/blob/main/IBM_PY0101EN_Python_for_Data_Science_Mod05.ipynb\" target=\"_parent\"><img src=\"https://colab.research.google.com/assets/colab-badge.svg\" alt=\"Open In Colab\"/></a>"
      ]
    },
    {
      "cell_type": "code",
      "execution_count": null,
      "metadata": {
        "id": "C4WWlSnQbnpo"
      },
      "outputs": [],
      "source": [
        "# IBM Course \n",
        "\n",
        "# Modulo 5"
      ]
    },
    {
      "cell_type": "code",
      "source": [
        "# Ejercicio 1\n",
        "# Numpy en 1D\n",
        "\n",
        "import numpy as np\n",
        "\n",
        "a=np.array([0,1,2,3,4,5,6,7,8,9])\n",
        "print('a:',a)\n",
        "print('- - - - - - - - - - ')\n",
        "\n",
        "print('- - - - - - - - - - ')\n",
        "\n",
        "print('- - - - - - - - - - ')\n",
        "\n",
        "print('- - - - - - - - - - ')\n",
        "\n",
        "print('- - - - - - - - - - ')\n",
        "\n",
        "print('- - - - - - - - - - ')"
      ],
      "metadata": {
        "id": "L2DWPw8ZtjiM",
        "colab": {
          "base_uri": "https://localhost:8080/"
        },
        "outputId": "da0f2f40-9427-4c0a-aabb-883298fc5ebb"
      },
      "execution_count": 1,
      "outputs": [
        {
          "output_type": "stream",
          "name": "stdout",
          "text": [
            "a: [0 1 2 3 4 5 6 7 8 9]\n",
            "- - - - - - - - - - \n",
            "- - - - - - - - - - \n",
            "- - - - - - - - - - \n",
            "- - - - - - - - - - \n",
            "- - - - - - - - - - \n",
            "- - - - - - - - - - \n"
          ]
        }
      ]
    },
    {
      "cell_type": "code",
      "source": [
        "# Ejercicio 2\n",
        "#\n",
        "\n",
        "print('- - - - - - - - - - ')\n",
        "\n",
        "print('- - - - - - - - - - ')\n",
        "\n",
        "print('- - - - - - - - - - ')\n",
        "\n",
        "print('- - - - - - - - - - ')\n",
        "\n",
        "print('- - - - - - - - - - ')\n",
        "\n",
        "print('- - - - - - - - - - ')"
      ],
      "metadata": {
        "id": "ErGdzpeRxbAI"
      },
      "execution_count": null,
      "outputs": []
    },
    {
      "cell_type": "code",
      "source": [
        "# Ejercicio 3\n",
        "#\n",
        "\n",
        "print('- - - - - - - - - - ')\n",
        "\n",
        "print('- - - - - - - - - - ')\n",
        "\n",
        "print('- - - - - - - - - - ')\n",
        "\n",
        "print('- - - - - - - - - - ')\n",
        "\n",
        "print('- - - - - - - - - - ')\n",
        "\n",
        "print('- - - - - - - - - - ')"
      ],
      "metadata": {
        "id": "9BG6suAfxbFD"
      },
      "execution_count": null,
      "outputs": []
    },
    {
      "cell_type": "code",
      "source": [
        "# Ejercicio 4\n",
        "#\n",
        "\n",
        "print('- - - - - - - - - - ')\n",
        "\n",
        "print('- - - - - - - - - - ')\n",
        "\n",
        "print('- - - - - - - - - - ')\n",
        "\n",
        "print('- - - - - - - - - - ')\n",
        "\n",
        "print('- - - - - - - - - - ')\n",
        "\n",
        "print('- - - - - - - - - - ')"
      ],
      "metadata": {
        "id": "B6O1nhXAxbIZ"
      },
      "execution_count": null,
      "outputs": []
    },
    {
      "cell_type": "code",
      "source": [
        "# Ejercicio 5\n",
        "#\n",
        "\n",
        "print('- - - - - - - - - - ')\n",
        "\n",
        "print('- - - - - - - - - - ')\n",
        "\n",
        "print('- - - - - - - - - - ')\n",
        "\n",
        "print('- - - - - - - - - - ')\n",
        "\n",
        "print('- - - - - - - - - - ')\n",
        "\n",
        "print('- - - - - - - - - - ')"
      ],
      "metadata": {
        "id": "XwpwePFpxbSL"
      },
      "execution_count": null,
      "outputs": []
    }
  ]
}