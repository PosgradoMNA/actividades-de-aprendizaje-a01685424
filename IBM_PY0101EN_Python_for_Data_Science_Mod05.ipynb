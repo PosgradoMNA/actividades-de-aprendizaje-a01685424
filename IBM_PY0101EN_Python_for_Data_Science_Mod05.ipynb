{
  "nbformat": 4,
  "nbformat_minor": 0,
  "metadata": {
    "colab": {
      "provenance": [],
      "collapsed_sections": [],
      "include_colab_link": true
    },
    "kernelspec": {
      "name": "python3",
      "display_name": "Python 3"
    },
    "language_info": {
      "name": "python"
    }
  },
  "cells": [
    {
      "cell_type": "markdown",
      "metadata": {
        "id": "view-in-github",
        "colab_type": "text"
      },
      "source": [
        "<a href=\"https://colab.research.google.com/github/PosgradoMNA/actividades-de-aprendizaje-a01685424/blob/main/IBM_PY0101EN_Python_for_Data_Science_Mod05.ipynb\" target=\"_parent\"><img src=\"https://colab.research.google.com/assets/colab-badge.svg\" alt=\"Open In Colab\"/></a>"
      ]
    },
    {
      "cell_type": "code",
      "execution_count": null,
      "metadata": {
        "id": "C4WWlSnQbnpo"
      },
      "outputs": [],
      "source": [
        "# IBM Course \n",
        "\n",
        "# Modulo 5"
      ]
    },
    {
      "cell_type": "code",
      "source": [
        "# Ejercicio 1\n",
        "# Numpy en 1D\n",
        "\n",
        "import numpy as np\n",
        "\n",
        "# Creación de arrays con Numpy\n",
        "a=np.array([0,1,2,3,4,5,6,7,8,9])\n",
        "print('a:',a)\n",
        "print('type  a:',type(a))\n",
        "print('dtype a:',a.dtype)\n",
        "print('size  a:',a.size)\n",
        "print('ndim  a:',a.ndim)\n",
        "print('shape a:',a.shape)\n",
        "print('- - - - - - - - - - ')\n",
        "\n",
        "# Creación de array con numeros flotantes\n",
        "b=np.array([3.1,11.02,6.2,213.2,5.2,45.0,13.2,8.3,1.23,90.2])\n",
        "print('b:',b)\n",
        "print('type  b:',type(b))\n",
        "print('dtype b:',b.dtype)\n",
        "print('- - - - - - - - - - ')\n",
        "\n",
        "# Usando métodos de indexado y división\n",
        "c = np.array([23,45,2,6,4])\n",
        "print('c:',c)\n",
        "c[0]=100\n",
        "print('c:',c)\n",
        "c[4]=0\n",
        "print('c:',c)\n",
        "print('- - - - - - - - - - ')\n",
        "\n",
        "# Seleccionando a partir del índice\n",
        "\n",
        "d=c[1:4]\n",
        "print('c[1:4]:',d)\n",
        "print('c[3:5]:',c[3:5])\n",
        "print('- - - - - - - - - - ')\n",
        "\n",
        "# Operaciones básicas de Numpy\n",
        "\n",
        "N=[10,5]\n",
        "M=[10,20]\n",
        "Ñ=[]\n",
        "for n,m in zip(N,M):\n",
        "  Ñ.append(n+m)\n",
        "\n",
        "print('Ñ:',Ñ)\n",
        "print('\\n')\n",
        "print('N+M:',N+M)\n",
        "print('- - - - - - - - - - ')\n",
        "\n",
        "# Multiplicación\n",
        "\n",
        "xnp = [1,2]\n",
        "ynp = []\n",
        "for n in xnp:\n",
        "  ynp.append(2*n)\n",
        "\n",
        "print('ynp:',ynp)\n",
        "print('\\n2da forma:\\n')\n",
        "xn = np.array([1,2])\n",
        "yn=2*xn\n",
        "print('yn:',yn)\n",
        "print('- - - - - - - - - - ')"
      ],
      "metadata": {
        "id": "L2DWPw8ZtjiM",
        "colab": {
          "base_uri": "https://localhost:8080/"
        },
        "outputId": "b3577a7e-c2ad-432d-abe4-1cf5e2c6574e"
      },
      "execution_count": 24,
      "outputs": [
        {
          "output_type": "stream",
          "name": "stdout",
          "text": [
            "a: [0 1 2 3 4 5 6 7 8 9]\n",
            "type  a: <class 'numpy.ndarray'>\n",
            "dtype a: int64\n",
            "size  a: 10\n",
            "ndim  a: 1\n",
            "shape a: (10,)\n",
            "- - - - - - - - - - \n",
            "b: [  3.1   11.02   6.2  213.2    5.2   45.    13.2    8.3    1.23  90.2 ]\n",
            "type  b: <class 'numpy.ndarray'>\n",
            "dtype b: float64\n",
            "- - - - - - - - - - \n",
            "c: [23 45  2  6  4]\n",
            "c: [100  45   2   6   4]\n",
            "c: [100  45   2   6   0]\n",
            "- - - - - - - - - - \n",
            "c[1:4]: [45  2  6]\n",
            "c[3:5]: [6 0]\n",
            "- - - - - - - - - - \n",
            "Ñ: [20, 25]\n",
            "\n",
            "\n",
            "N+M: [10, 5, 10, 20]\n",
            "- - - - - - - - - - \n",
            "ynp: [2, 4]\n",
            "\n",
            "2da forma:\n",
            "\n",
            "yn: [2 4]\n",
            "- - - - - - - - - - \n"
          ]
        }
      ]
    },
    {
      "cell_type": "code",
      "source": [
        "# Ejercicio 2\n",
        "#\n",
        "\n",
        "print('- - - - - - - - - - ')\n",
        "\n",
        "print('- - - - - - - - - - ')\n",
        "\n",
        "print('- - - - - - - - - - ')\n",
        "\n",
        "print('- - - - - - - - - - ')\n",
        "\n",
        "print('- - - - - - - - - - ')\n",
        "\n",
        "print('- - - - - - - - - - ')"
      ],
      "metadata": {
        "id": "ErGdzpeRxbAI"
      },
      "execution_count": null,
      "outputs": []
    },
    {
      "cell_type": "code",
      "source": [
        "# Ejercicio 3\n",
        "#\n",
        "\n",
        "print('- - - - - - - - - - ')\n",
        "\n",
        "print('- - - - - - - - - - ')\n",
        "\n",
        "print('- - - - - - - - - - ')\n",
        "\n",
        "print('- - - - - - - - - - ')\n",
        "\n",
        "print('- - - - - - - - - - ')\n",
        "\n",
        "print('- - - - - - - - - - ')"
      ],
      "metadata": {
        "id": "9BG6suAfxbFD"
      },
      "execution_count": null,
      "outputs": []
    },
    {
      "cell_type": "code",
      "source": [
        "# Ejercicio 4\n",
        "#\n",
        "\n",
        "print('- - - - - - - - - - ')\n",
        "\n",
        "print('- - - - - - - - - - ')\n",
        "\n",
        "print('- - - - - - - - - - ')\n",
        "\n",
        "print('- - - - - - - - - - ')\n",
        "\n",
        "print('- - - - - - - - - - ')\n",
        "\n",
        "print('- - - - - - - - - - ')"
      ],
      "metadata": {
        "id": "B6O1nhXAxbIZ"
      },
      "execution_count": null,
      "outputs": []
    },
    {
      "cell_type": "code",
      "source": [
        "# Ejercicio 5\n",
        "#\n",
        "\n",
        "print('- - - - - - - - - - ')\n",
        "\n",
        "print('- - - - - - - - - - ')\n",
        "\n",
        "print('- - - - - - - - - - ')\n",
        "\n",
        "print('- - - - - - - - - - ')\n",
        "\n",
        "print('- - - - - - - - - - ')\n",
        "\n",
        "print('- - - - - - - - - - ')"
      ],
      "metadata": {
        "id": "XwpwePFpxbSL"
      },
      "execution_count": null,
      "outputs": []
    }
  ]
}