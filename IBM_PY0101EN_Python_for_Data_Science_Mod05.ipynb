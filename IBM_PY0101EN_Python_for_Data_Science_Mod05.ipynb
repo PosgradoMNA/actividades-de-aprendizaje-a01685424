{
  "nbformat": 4,
  "nbformat_minor": 0,
  "metadata": {
    "colab": {
      "provenance": [],
      "collapsed_sections": [],
      "include_colab_link": true
    },
    "kernelspec": {
      "name": "python3",
      "display_name": "Python 3"
    },
    "language_info": {
      "name": "python"
    }
  },
  "cells": [
    {
      "cell_type": "markdown",
      "metadata": {
        "id": "view-in-github",
        "colab_type": "text"
      },
      "source": [
        "<a href=\"https://colab.research.google.com/github/PosgradoMNA/actividades-de-aprendizaje-a01685424/blob/main/IBM_PY0101EN_Python_for_Data_Science_Mod05.ipynb\" target=\"_parent\"><img src=\"https://colab.research.google.com/assets/colab-badge.svg\" alt=\"Open In Colab\"/></a>"
      ]
    },
    {
      "cell_type": "code",
      "execution_count": null,
      "metadata": {
        "id": "C4WWlSnQbnpo"
      },
      "outputs": [],
      "source": [
        "# IBM Course \n",
        "\n",
        "# Modulo 5"
      ]
    },
    {
      "cell_type": "code",
      "source": [
        "# Ejercicio 1\n",
        "# Numpy en 1D\n",
        "\n",
        "import numpy as np\n",
        "\n",
        "# Creación de arrays con Numpy\n",
        "a=np.array([0,1,2,3,4,5,6,7,8,9])\n",
        "print('a:',a)\n",
        "print('type  a:',type(a))\n",
        "print('dtype a:',a.dtype)\n",
        "print('size  a:',a.size)\n",
        "print('ndim  a:',a.ndim)\n",
        "print('shape a:',a.shape)\n",
        "print('- - - - - - - - - - ')\n",
        "\n",
        "# Creación de array con numeros flotantes\n",
        "b=np.array([3.1,11.02,6.2,213.2,5.2,45.0,13.2,8.3,1.23,90.2])\n",
        "print('b:',b)\n",
        "print('type  b:',type(b))\n",
        "print('dtype b:',b.dtype)\n",
        "print('- - - - - - - - - - ')\n",
        "\n",
        "# Usando métodos de indexado y división\n",
        "c = np.array([23,45,2,6,4])\n",
        "print('c:',c)\n",
        "c[0]=100\n",
        "print('c:',c)\n",
        "c[4]=0\n",
        "print('c:',c)\n",
        "print('- - - - - - - - - - ')\n",
        "\n",
        "# Seleccionando a partir del índice\n",
        "d=c[1:4]\n",
        "print('c[1:4]:',d)\n",
        "print('c[3:5]:',c[3:5])\n",
        "print('- - - - - - - - - - ')\n",
        "\n",
        "# Operaciones básicas de Numpy\n",
        "N=[10,5]\n",
        "M=[10,20]\n",
        "Ñ=[]\n",
        "for n,m in zip(N,M):\n",
        "  Ñ.append(n+m)\n",
        "\n",
        "print('Ñ:',Ñ)\n",
        "print('\\n')\n",
        "print('N+M:',N+M)\n",
        "print('- - - - - - - - - - ')\n",
        "\n",
        "# Multiplicación\n",
        "xnp = [1,2]\n",
        "ynp = []\n",
        "for n in xnp:\n",
        "  ynp.append(2*n)\n",
        "\n",
        "print('ynp:',ynp)\n",
        "print('\\n2da forma:\\n')\n",
        "xn = np.array([1,2])\n",
        "yn=2*xn\n",
        "print('yn:',yn)\n",
        "print('- - - - - - - - - - ')\n",
        "\n",
        "# producto escalar\n",
        "upe=np.array([1,2])\n",
        "vpe=np.array([1,2])\n",
        "rpe=np.dot(upe,vpe)\n",
        "print('Resultado producto escalar:',rpe)\n",
        "rs2=upe+100\n",
        "print('Resultado upe+100:',rs2)\n",
        "rpe=np.dot(upe,vpe)\n",
        "print('Resultado producto escalar con rs2:',np.dot(upe,rs2))\n",
        "print('- - - - - - - - - - ')\n",
        "\n",
        "# Funciones universales\n",
        "c = np.array([1,2,9,7,6,4,9,10,8,7,6,9,10])\n",
        "max_c = c.max()\n",
        "print('Max:',max_c)\n",
        "mean_c = c.mean()\n",
        "print('Mean: %.3f' % mean_c)\n",
        "print('np.pi: %.50f'% np.pi)\n",
        "xf=np.array([0,np.pi/2,np.pi])\n",
        "print('x: ', xf)\n",
        "yf=np.sin(xf)\n",
        "print('sin(y): ', yf)\n",
        "print('- - - - - - - - - - ')\n",
        "ls1 = np.linspace(-2,2,num=5) # crea una línea de de números espaciados uniformemente\n",
        "print('Números espaciados uniformemente:',ls1)\n",
        "ls2 = np.linspace(-2,2,num=12) # crea una línea de de números espaciados uniformemente\n",
        "print('Números espaciados uniformemente:',ls2)\n",
        "print('- - - - - - - - - - ')\n",
        "\n",
        "# Plotting Mathematical Functions\n",
        "import matplotlib.pyplot as graf\n",
        "xg=np.linspace(0,2*np.pi,100)\n",
        "yg=np.sin(xg)\n",
        "graf.plot(yg,xg)    # Se gráfica el seno de la función con los ejes invertidos\n",
        "print('- - - - - - - - - - ')"
      ],
      "metadata": {
        "id": "L2DWPw8ZtjiM",
        "colab": {
          "base_uri": "https://localhost:8080/",
          "height": 1000
        },
        "outputId": "f4828def-ac06-4b70-ee7c-4d13caf64624"
      },
      "execution_count": 47,
      "outputs": [
        {
          "output_type": "stream",
          "name": "stdout",
          "text": [
            "a: [0 1 2 3 4 5 6 7 8 9]\n",
            "type  a: <class 'numpy.ndarray'>\n",
            "dtype a: int64\n",
            "size  a: 10\n",
            "ndim  a: 1\n",
            "shape a: (10,)\n",
            "- - - - - - - - - - \n",
            "b: [  3.1   11.02   6.2  213.2    5.2   45.    13.2    8.3    1.23  90.2 ]\n",
            "type  b: <class 'numpy.ndarray'>\n",
            "dtype b: float64\n",
            "- - - - - - - - - - \n",
            "c: [23 45  2  6  4]\n",
            "c: [100  45   2   6   4]\n",
            "c: [100  45   2   6   0]\n",
            "- - - - - - - - - - \n",
            "c[1:4]: [45  2  6]\n",
            "c[3:5]: [6 0]\n",
            "- - - - - - - - - - \n",
            "Ñ: [20, 25]\n",
            "\n",
            "\n",
            "N+M: [10, 5, 10, 20]\n",
            "- - - - - - - - - - \n",
            "ynp: [2, 4]\n",
            "\n",
            "2da forma:\n",
            "\n",
            "yn: [2 4]\n",
            "- - - - - - - - - - \n",
            "Resultado producto escalar: 5\n",
            "Resultado upe+100: [101 102]\n",
            "Resultado producto escalar con rs2: 305\n",
            "- - - - - - - - - - \n",
            "Max: 10\n",
            "Mean: 6.769\n",
            "np.pi: 3.14159265358979311599796346854418516159057617187500\n",
            "x:  [0.         1.57079633 3.14159265]\n",
            "sin(y):  [0.0000000e+00 1.0000000e+00 1.2246468e-16]\n",
            "- - - - - - - - - - \n",
            "Números espaciados uniformemente: [-2. -1.  0.  1.  2.]\n",
            "Números espaciados uniformemente: [-2.         -1.63636364 -1.27272727 -0.90909091 -0.54545455 -0.18181818\n",
            "  0.18181818  0.54545455  0.90909091  1.27272727  1.63636364  2.        ]\n",
            "- - - - - - - - - - \n",
            "- - - - - - - - - - \n"
          ]
        },
        {
          "output_type": "display_data",
          "data": {
            "text/plain": [
              "<Figure size 432x288 with 1 Axes>"
            ],
            "image/png": "[encoded data removed]"
          },
          "metadata": {
            "needs_background": "light"
          }
        }
      ]
    },
    {
      "cell_type": "code",
      "source": [
        "# Ejercicio lab ----------------------------------------------------------------\n",
        "\n",
        "u = np.array([1, 0])\n",
        "v = np.array([0, 1])\n",
        "print('u - v:',u - v)\n",
        "print('- - - - - - - - - - ')\n",
        "z = np.array([2, 4])*-2\n",
        "print('z:',z)\n",
        "print('- - - - - - - - - - ')\n",
        "mul=np.array([1, 2, 3, 4, 5])*np.array([1, 0, 1, 0, 1])\n",
        "print('Multiplicación de 2 arrays:',mul)\n",
        "print('- - - - - - - - - - ')\n",
        "# Import the libraries\n",
        "\n",
        "import time \n",
        "import sys\n",
        "import numpy as np \n",
        "\n",
        "import matplotlib.pyplot as plt\n",
        "%matplotlib inline  \n",
        "\n",
        "def Plotvec2(a,b):\n",
        "    ax = plt.axes()# to generate the full window axes\n",
        "    ax.arrow(0, 0, *a, head_width=0.05, color ='r', head_length=0.1)#Add an arrow to the  a Axes with arrow head width 0.05, color red and arrow head length 0.1\n",
        "    plt.text(*(a + 0.1), 'a')\n",
        "    ax.arrow(0, 0, *b, head_width=0.05, color ='b', head_length=0.1)#Add an arrow to the  b Axes with arrow head width 0.05, color blue and arrow head length 0.1\n",
        "    plt.text(*(b + 0.1), 'b')\n",
        "    plt.ylim(-2, 2)#set the ylim to bottom(-2), top(2)\n",
        "    plt.xlim(-2, 2)#set the xlim to left(-2), right(2)\n",
        "\n",
        "ap=np.array([-1, 1])\n",
        "bp=np.array([1, 1])\n",
        "Plotvec2(ap,bp)\n",
        "print('Gráfico de vectores:',ap,bp)\n",
        "print(\"Producto punto\", np.dot(ap,bp))\n",
        "print('\\n')\n",
        "ap2=np.array([1, 0])\n",
        "bp2=np.array([0, 1])\n",
        "Plotvec2(ap2,bp2)\n",
        "print('Gráfico de vectores:',ap2,bp2)\n",
        "print(\"Producto punto\", np.dot(ap2,bp2))\n",
        "print('- - - - - - - - - - ')\n",
        "\n",
        "# Operaciones con arrays\n",
        "arr1=np.array([1, 2, 3])\n",
        "arr2=np.array([8, 9, 10])\n",
        "arrA=np.add(arr1, arr2)\n",
        "print('Suma:',arrA)\n",
        "arrS=np.subtract(arr1, arr2)\n",
        "print('Resta:',arrS)\n",
        "arrM=np.multiply(arr1, arr2)\n",
        "print('Multiplicación:',arrM)\n",
        "arrD=np.divide(arr1, arr2)\n",
        "print('División:',arrD)\n",
        "arrDt=np.dot(arr1, arr2)\n",
        "print('Producto punto:',arrDt)\n",
        "print(':',)\n",
        "print('- - - - - - - - - - ')\n",
        "\n",
        "# Extrayendo valores de los arreglos\n",
        "arr1=np.array([1, 2, 3, 4, 5])\n",
        "arr2=np.array([6, 7, 8, 9, 10])\n",
        "x = arr1[1:8:2]\n",
        "print('Pares:',x)\n",
        "y = arr2[0:8:2]\n",
        "print('Pares:',y)   \n",
        "x = arr1[0:8:2]\n",
        "print('Nones:',x)\n",
        "y = arr2[1:8:2]\n",
        "print('Nones:',y)   \n",
        "print('- - - - - - - - - - ')\n"
      ],
      "metadata": {
        "colab": {
          "base_uri": "https://localhost:8080/",
          "height": 758
        },
        "id": "050dd-WNBdtP",
        "outputId": "9c03e80c-c3aa-4977-d2a1-93935f74b1f8"
      },
      "execution_count": 61,
      "outputs": [
        {
          "output_type": "stream",
          "name": "stdout",
          "text": [
            "u - v: [ 1 -1]\n",
            "- - - - - - - - - - \n",
            "z: [-4 -8]\n",
            "- - - - - - - - - - \n",
            "Multiplicación de 2 arrays: [1 0 3 0 5]\n",
            "- - - - - - - - - - \n",
            "Gráfico de vectores: [-1  1] [1 1]\n",
            "Producto punto 0\n",
            "\n",
            "\n",
            "Gráfico de vectores: [1 0] [0 1]\n",
            "Producto punto 0\n",
            "- - - - - - - - - - \n",
            "Suma: [ 9 11 13]\n",
            "Resta: [-7 -7 -7]\n",
            "Multiplicación: [ 8 18 30]\n",
            "División: [0.125      0.22222222 0.3       ]\n",
            "Producto punto: 56\n",
            ":\n",
            "- - - - - - - - - - \n",
            "Pares: [2 4]\n",
            "Pares: [ 6  8 10]\n",
            "Nones: [1 3 5]\n",
            "Nones: [7 9]\n",
            "- - - - - - - - - - \n"
          ]
        },
        {
          "output_type": "stream",
          "name": "stderr",
          "text": [
            "/usr/local/lib/python3.7/dist-packages/ipykernel_launcher.py:23: MatplotlibDeprecationWarning: Adding an axes using the same arguments as a previous axes currently reuses the earlier instance.  In a future version, a new instance will always be created and returned.  Meanwhile, this warning can be suppressed, and the future behavior ensured, by passing a unique label to each axes instance.\n"
          ]
        },
        {
          "output_type": "display_data",
          "data": {
            "text/plain": [
              "<Figure size 432x288 with 1 Axes>"
            ],
            "image/png": "[encoded data removed]"
          },
          "metadata": {
            "needs_background": "light"
          }
        }
      ]
    },
    {
      "cell_type": "code",
      "source": [
        "# Ejercicio 2\n",
        "# Matrices\n",
        "\n",
        "a = [[1.1,1.2,1.3],[2.1,2.2,2.3],[3.1,3.2,3.3]] # Array\n",
        "A = np.array(a)\n",
        "print('Array a:',a)\n",
        "print('Matriz A:\\n',A)\n",
        "print('- - - - - - - - - - ')\n",
        "# Dimensiones\n",
        "print('Dimensiones:',A.ndim)\n",
        "print('Forma:',A.shape)\n",
        "print('Size',A.size)\n",
        "print('- - - - - - - - - - ')\n",
        "# Mostrando los valores a través de los índices\n",
        "print('A[0,0]:',A[0,0])\n",
        "print('A[2,2]:',A[2,2])\n",
        "print('A[0:2,1]:',A[0:2,1])\n",
        "print('- - - - - - - - - - ')\n",
        "# Suma de vectores\n",
        "X = np.array([[1,0],[0,1]])\n",
        "Y = np.array([[2,1],[1,2]])\n",
        "Z = X + Y\n",
        "print('Suma de matrices:\\n',Z)\n",
        "print('Multiplicación:\\n',X*2)\n",
        "print('Producto de Hadamard:',X*Y)\n",
        "# Multiplicación de matrices\n",
        "X1 = np.array([[0,1,2],[0,1,2]])\n",
        "Y1 = np.array([[1,2],[1,2],[1,2]])\n",
        "print('X1\\n:',X1)\n",
        "print('Y1\\n:',Y1)\n",
        "print('Producto punto X1,Y1:\\n',np.dot(X1,Y1))\n",
        "print('- - - - - - - - - - ')\n",
        "print('',)\n",
        "print('- - - - - - - - - - ')\n",
        "print('',)\n",
        "print('- - - - - - - - - - ')"
      ],
      "metadata": {
        "colab": {
          "base_uri": "https://localhost:8080/"
        },
        "id": "ErGdzpeRxbAI",
        "outputId": "f0262192-615b-45f6-9610-52ca3f34a31a"
      },
      "execution_count": 83,
      "outputs": [
        {
          "output_type": "stream",
          "name": "stdout",
          "text": [
            "Array a: [[1.1, 1.2, 1.3], [2.1, 2.2, 2.3], [3.1, 3.2, 3.3]]\n",
            "Matriz A:\n",
            " [[1.1 1.2 1.3]\n",
            " [2.1 2.2 2.3]\n",
            " [3.1 3.2 3.3]]\n",
            "- - - - - - - - - - \n",
            "Dimensiones: 2\n",
            "Forma: (3, 3)\n",
            "Size 9\n",
            "- - - - - - - - - - \n",
            "A[0,0]: 1.1\n",
            "A[2,2]: 3.3\n",
            "A[0:2,1]: [1.2 2.2]\n",
            "- - - - - - - - - - \n",
            "Suma de matrices:\n",
            " [[3 1]\n",
            " [1 3]]\n",
            "Multiplicación:\n",
            " [[2 0]\n",
            " [0 2]]\n",
            "Producto de Hadamard: [[2 0]\n",
            " [0 2]]\n",
            "X1\n",
            ": [[0 1 2]\n",
            " [0 1 2]]\n",
            "Y1\n",
            ": [[1 2]\n",
            " [1 2]\n",
            " [1 2]]\n",
            "Producto punto X1,Y1:\n",
            " [[3 6]\n",
            " [3 6]]\n",
            "- - - - - - - - - - \n",
            "\n",
            "- - - - - - - - - - \n",
            "\n",
            "- - - - - - - - - - \n"
          ]
        }
      ]
    },
    {
      "cell_type": "code",
      "source": [
        "# Ejercicio 3\n",
        "#\n",
        "\n",
        "print('- - - - - - - - - - ')\n",
        "\n",
        "print('- - - - - - - - - - ')\n",
        "\n",
        "print('- - - - - - - - - - ')\n",
        "\n",
        "print('- - - - - - - - - - ')\n",
        "\n",
        "print('- - - - - - - - - - ')\n",
        "\n",
        "print('- - - - - - - - - - ')"
      ],
      "metadata": {
        "id": "9BG6suAfxbFD"
      },
      "execution_count": null,
      "outputs": []
    },
    {
      "cell_type": "code",
      "source": [
        "# Ejercicio 4\n",
        "#\n",
        "\n",
        "print('- - - - - - - - - - ')\n",
        "\n",
        "print('- - - - - - - - - - ')\n",
        "\n",
        "print('- - - - - - - - - - ')\n",
        "\n",
        "print('- - - - - - - - - - ')\n",
        "\n",
        "print('- - - - - - - - - - ')\n",
        "\n",
        "print('- - - - - - - - - - ')"
      ],
      "metadata": {
        "id": "B6O1nhXAxbIZ"
      },
      "execution_count": null,
      "outputs": []
    },
    {
      "cell_type": "code",
      "source": [
        "# Ejercicios varios\n",
        "#\n",
        "\n",
        "e01=np.array([1,-1])*np.array([1,1])\n",
        "print('e01:',e01)   # Producto\n",
        "print('- - - - - - - - - - ')\n",
        "e02=np.dot(np.array([1,-1]),np.array([1,1]))\n",
        "print('e02:',e02)   # Producto punto\n",
        "print('- - - - - - - - - - ')\n",
        "\n",
        "print('- - - - - - - - - - ')\n",
        "\n",
        "print('- - - - - - - - - - ')\n",
        "\n",
        "print('- - - - - - - - - - ')\n",
        "\n",
        "print('- - - - - - - - - - ')"
      ],
      "metadata": {
        "colab": {
          "base_uri": "https://localhost:8080/"
        },
        "id": "XwpwePFpxbSL",
        "outputId": "f8a73e9d-d9af-4c21-e565-35b595ca032d"
      },
      "execution_count": 49,
      "outputs": [
        {
          "output_type": "stream",
          "name": "stdout",
          "text": [
            "e01: [ 1 -1]\n",
            "- - - - - - - - - - \n",
            "e02: 0\n",
            "- - - - - - - - - - \n",
            "- - - - - - - - - - \n",
            "- - - - - - - - - - \n",
            "- - - - - - - - - - \n",
            "- - - - - - - - - - \n"
          ]
        }
      ]
    },
    {
      "cell_type": "code",
      "source": [],
      "metadata": {
        "id": "2m792Izf_ksQ"
      },
      "execution_count": null,
      "outputs": []
    }
  ]
}