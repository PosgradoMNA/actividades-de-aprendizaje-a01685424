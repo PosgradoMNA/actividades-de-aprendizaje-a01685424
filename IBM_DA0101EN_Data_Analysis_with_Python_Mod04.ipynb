{
  "nbformat": 4,
  "nbformat_minor": 0,
  "metadata": {
    "colab": {
      "provenance": [],
      "collapsed_sections": [],
      "include_colab_link": true
    },
    "kernelspec": {
      "name": "python3",
      "display_name": "Python 3"
    },
    "language_info": {
      "name": "python"
    }
  },
  "cells": [
    {
      "cell_type": "markdown",
      "metadata": {
        "id": "view-in-github",
        "colab_type": "text"
      },
      "source": [
        "<a href=\"https://colab.research.google.com/github/PosgradoMNA/actividades-de-aprendizaje-a01685424/blob/main/IBM_DA0101EN_Data_Analysis_with_Python_Mod04.ipynb\" target=\"_parent\"><img src=\"https://colab.research.google.com/assets/colab-badge.svg\" alt=\"Open In Colab\"/></a>"
      ]
    },
    {
      "cell_type": "markdown",
      "source": [
        "># **IBM Course: DA0101EN**\n",
        ">**Data Analysis with Python**\n",
        "> \n",
        "> *Fernando Alfredo Rojas Estrella - A01685424*\n",
        "> \n",
        "> **Temas:**\n",
        "1. Desarrollo de modelos 1:44\n",
        "2. Regresión lineal y regresión lineal múltiple 6:34\n",
        "3. Evaluación del modelo usando Visualización 4:44\n",
        "4. Regresión polinomial y canalizaciones 4:25\n",
        "5. Medidas para la evaluación dentro de la muestra 3:37\n",
        "6. Predicción y toma de decisiones"
      ],
      "metadata": {
        "id": "mHbN_JwAQ8zs"
      }
    },
    {
      "cell_type": "code",
      "source": [
        "# - - - - - - - - - - - - - - - - - - - - - - - - - - - \n",
        "# Ejercicio 1\n",
        "\n",
        "# Desarrollo de modelos\n",
        "\n",
        "# 1. Regresión lineal simple y múltiple\n",
        "# 2. Evalluación de modelos usando visualización\n",
        "# 3. Regresión polinomial y pipelines\n",
        "# 4. R-cuadrado y MSE para evaluación dentro de la muestra\n",
        "# 5. Predicción y toma de decisiones\n",
        "\n",
        "# Implementación de un modelo: Un modelo se puede considerar como una ecuación \n",
        "# matemática utilizada para predecir un o unos valores dados. Además un modelo\n",
        "# relaciona una o más variables o características independientes a través de \n",
        "# variables dependientes\n",
        "\n",
        "# Entre más relevante sea la información, más preciso será el modelo.\n",
        "\n",
        "# Existen diferentes tipos de modelo:\n",
        "# a. Regresión lineal simple\n",
        "# b. Regresión lineal múltiple\n",
        "# c. Regresión polinomial \n",
        "\n",
        "import pandas as pd\n",
        "import numpy as np\n",
        "\n",
        "URL = 'https://cf-courses-data.s3.us.cloud-object-storage.appdomain.cloud/IBMDeveloperSkillsNetwork-DA0101EN-SkillsNetwork/labs/Data%20files/automobileEDA.csv'\n",
        "df = pd.read_csv(URL)\n",
        "\n",
        "print('Dataframe:\\n',df.head(4))\n",
        "print('\\n- - - - - - - - - - - - - - - - - - - - - \\n')"
      ],
      "metadata": {
        "id": "tWf_dywAQwW8",
        "colab": {
          "base_uri": "https://localhost:8080/"
        },
        "outputId": "36c54695-4772-4a69-bede-56e2eecf25a3"
      },
      "execution_count": 2,
      "outputs": [
        {
          "output_type": "stream",
          "name": "stdout",
          "text": [
            "Dataframe:\n",
            "    symboling  normalized-losses         make aspiration num-of-doors  \\\n",
            "0          3                122  alfa-romero        std          two   \n",
            "1          3                122  alfa-romero        std          two   \n",
            "2          1                122  alfa-romero        std          two   \n",
            "3          2                164         audi        std         four   \n",
            "\n",
            "    body-style drive-wheels engine-location  wheel-base    length  ...  \\\n",
            "0  convertible          rwd           front        88.6  0.811148  ...   \n",
            "1  convertible          rwd           front        88.6  0.811148  ...   \n",
            "2    hatchback          rwd           front        94.5  0.822681  ...   \n",
            "3        sedan          fwd           front        99.8  0.848630  ...   \n",
            "\n",
            "   compression-ratio  horsepower  peak-rpm city-mpg highway-mpg    price  \\\n",
            "0                9.0       111.0    5000.0       21          27  13495.0   \n",
            "1                9.0       111.0    5000.0       21          27  16500.0   \n",
            "2                9.0       154.0    5000.0       19          26  16500.0   \n",
            "3               10.0       102.0    5500.0       24          30  13950.0   \n",
            "\n",
            "  city-L/100km  horsepower-binned  diesel  gas  \n",
            "0    11.190476             Medium       0    1  \n",
            "1    11.190476             Medium       0    1  \n",
            "2    12.368421             Medium       0    1  \n",
            "3     9.791667             Medium       0    1  \n",
            "\n",
            "[4 rows x 29 columns]\n",
            "\n",
            "- - - - - - - - - - - - - - - - - - - - - \n",
            "\n"
          ]
        }
      ]
    },
    {
      "cell_type": "code",
      "source": [
        "# - - - - - - - - - - - - - - - - - - - - - - - - - - - \n",
        "# Ejercicio 2\n",
        "\n",
        "# Regresión lineal y regresión lineal múltiple\n",
        "\n",
        "\n",
        "import pandas as pd\n",
        "import matplotlib.pyplot as plt\n",
        "import seaborn as sns \n",
        "import numpy as np\n",
        "\n",
        "from sklearn.linear_model import LinearRegression\n",
        "\n",
        "# - - - - - - - - - - - - - - - - - - - - - - - - - - - \n",
        "print('\\n- - - - - - - - - - - - - - - - - - - - - \\n')\n",
        "lm = LinearRegression()\n",
        "print('lm:\\n',lm)\n",
        "\n",
        "print('\\n- - - - - - - - - - - - - - - - - - - - - \\n')\n",
        "X = df[['highway-mpg']]\n",
        "Y = df['price']\n",
        "print('X:\\n',X)\n",
        "print('Y:\\n',Y)\n",
        "\n",
        "print('\\n- - - - - - - - - - - - - - - - - - - - - \\n')\n",
        "lm.fit(X,Y)\n",
        "print('Haciendo fit de los datos:\\n',)\n",
        "\n",
        "print('\\n- - - - - - - - - - - - - - - - - - - - - \\n')\n",
        "Yhat= lm.predict(X)  \n",
        "print('predicción del modelo:\\n',Yhat[0:5])\n",
        "\n",
        "print('\\n- - - - - - - - - - - - - - - - - - - - - \\n')\n",
        "print('Yhat=a+bX')\n",
        "lm_intercept= lm.intercept_\n",
        "print('Intercept a:\\n',lm_intercept)\n",
        "lm_coef= lm.coef_\n",
        "print('Coeficiente b:\\n',lm_coef)\n",
        "\n",
        "\n",
        "# - - - - - - - - - - - - - - - - - - - - - - - - - - - \n",
        "# Regresión múltiple\n",
        "print('\\n- - - - - - - - - - - - - - - - - - - - - \\n')\n",
        "RegMul = df[['horsepower', 'curb-weight', 'engine-size', 'highway-mpg']]\n",
        "print('X múltiple:\\n',RegMul)\n",
        "lm.fit(RegMul, df['price'])\n",
        "print('Y:\\n',Y)\n",
        "\n",
        "print('\\n- - - - - - - - - - - - - - - - - - - - - \\n')\n",
        "am= lm.intercept_\n",
        "bm= lm.coef_\n",
        "print('a del modelo regresión líneal múltiple:\\n',am)\n",
        "print('b del modelo regresión líneal múltiple:\\n',bm)"
      ],
      "metadata": {
        "id": "4Flr2JeIbKe7",
        "colab": {
          "base_uri": "https://localhost:8080/"
        },
        "outputId": "caeac14b-ffd3-4196-f46a-d5dde006a51e"
      },
      "execution_count": 3,
      "outputs": [
        {
          "output_type": "stream",
          "name": "stdout",
          "text": [
            "\n",
            "- - - - - - - - - - - - - - - - - - - - - \n",
            "\n",
            "lm:\n",
            " LinearRegression()\n",
            "\n",
            "- - - - - - - - - - - - - - - - - - - - - \n",
            "\n",
            "X:\n",
            "      highway-mpg\n",
            "0             27\n",
            "1             27\n",
            "2             26\n",
            "3             30\n",
            "4             22\n",
            "..           ...\n",
            "196           28\n",
            "197           25\n",
            "198           23\n",
            "199           27\n",
            "200           25\n",
            "\n",
            "[201 rows x 1 columns]\n",
            "Y:\n",
            " 0      13495.0\n",
            "1      16500.0\n",
            "2      16500.0\n",
            "3      13950.0\n",
            "4      17450.0\n",
            "        ...   \n",
            "196    16845.0\n",
            "197    19045.0\n",
            "198    21485.0\n",
            "199    22470.0\n",
            "200    22625.0\n",
            "Name: price, Length: 201, dtype: float64\n",
            "\n",
            "- - - - - - - - - - - - - - - - - - - - - \n",
            "\n",
            "Haciendo fit de los datos:\n",
            "\n",
            "\n",
            "- - - - - - - - - - - - - - - - - - - - - \n",
            "\n",
            "predicción del modelo:\n",
            " [16236.50464347 16236.50464347 17058.23802179 13771.3045085\n",
            " 20345.17153508]\n",
            "\n",
            "- - - - - - - - - - - - - - - - - - - - - \n",
            "\n",
            "Yhat=a+bX\n",
            "Intercept a:\n",
            " 38423.3058581574\n",
            "Coeficiente b:\n",
            " [-821.73337832]\n",
            "\n",
            "- - - - - - - - - - - - - - - - - - - - - \n",
            "\n",
            "X múltiple:\n",
            "      horsepower  curb-weight  engine-size  highway-mpg\n",
            "0         111.0         2548          130           27\n",
            "1         111.0         2548          130           27\n",
            "2         154.0         2823          152           26\n",
            "3         102.0         2337          109           30\n",
            "4         115.0         2824          136           22\n",
            "..          ...          ...          ...          ...\n",
            "196       114.0         2952          141           28\n",
            "197       160.0         3049          141           25\n",
            "198       134.0         3012          173           23\n",
            "199       106.0         3217          145           27\n",
            "200       114.0         3062          141           25\n",
            "\n",
            "[201 rows x 4 columns]\n",
            "Y:\n",
            " 0      13495.0\n",
            "1      16500.0\n",
            "2      16500.0\n",
            "3      13950.0\n",
            "4      17450.0\n",
            "        ...   \n",
            "196    16845.0\n",
            "197    19045.0\n",
            "198    21485.0\n",
            "199    22470.0\n",
            "200    22625.0\n",
            "Name: price, Length: 201, dtype: float64\n",
            "\n",
            "- - - - - - - - - - - - - - - - - - - - - \n",
            "\n",
            "a del modelo regresión líneal múltiple:\n",
            " -15806.62462632922\n",
            "b del modelo regresión líneal múltiple:\n",
            " [53.49574423  4.70770099 81.53026382 36.05748882]\n"
          ]
        }
      ]
    },
    {
      "cell_type": "code",
      "source": [
        "# - - - - - - - - - - - - - - - - - - - - - - - - - - - \n",
        "# Ejercicio 3\n",
        "\n",
        "# Evaluación del modelo usando Visualización\n",
        "\n",
        "import seaborn as sns\n",
        "from sklearn.preprocessing import PolynomialFeatures\n",
        "from sklearn.pipeline import Pipeline\n",
        "from sklearn.preprocessing import StandardScaler\n",
        "\n",
        "# - - - - - - - - - - - - - - - - - - - - - - - - - - - \n",
        "print('\\n- - - - - - - - - - - - - - - - - - - - - \\n')\n",
        "def Visualiza_reg_plot(df,xl,yl,w,h):\n",
        "  width = w\n",
        "  height = h\n",
        "  plt.figure(figsize=(width, height))\n",
        "  #sns.regplot(x=\"highway-mpg\", y=\"price\", data=df)\n",
        "  sns.regplot(xl, yl, data=df)\n",
        "  plt.ylim(0,)\n",
        "  plt.show()\n",
        "\n",
        "print('Usando función gráfica: Regression Plot:\\n',)\n",
        "Visualiza_reg_plot(df, \"highway-mpg\", \"price\", 5, 6)\n",
        "\n",
        "# - - - - - - - - - - - - - - - - - - - - - - - - - - - \n",
        "print('\\n- - - - - - - - - - - - - - - - - - - - - \\n')\n",
        "def Visualiza_plot(df,xl,yl,w,h):\n",
        "  width = w\n",
        "  height = h\n",
        "  plt.figure(figsize=(width, height))\n",
        "  sns.regplot(xl, yl, data=df)\n",
        "  plt.ylim(0,)\n",
        "  plt.show()\n",
        "\n",
        "print('Usando función gráfica: Plot:\\n',)\n",
        "Visualiza_plot(df, \"peak-rpm\", \"price\", 5, 6)\n",
        "\n",
        "# - - - - - - - - - - - - - - - - - - - - - - - - - - - \n",
        "print('\\n- - - - - - - - - - - - - - - - - - - - - \\n')\n",
        "def Visualiza_head_map(datos_,w,h):\n",
        "  plt.figure(figsize=(w, h))\n",
        "  sns.heatmap(datos_.corr(), annot= True, cmap= \"crest\")\n",
        "  plt.show()\n",
        "\n",
        "print('Correlación:\\n',df[['horsepower','highway-mpg','price']].corr())\n",
        "Visualiza_head_map(df[['horsepower','highway-mpg','price']].corr(), 7, 7)\n",
        "\n",
        "# - - - - - - - - - - - - - - - - - - - - - - - - - - - \n",
        "print('\\n- - - - - - - - - - - - - - - - - - - - - \\n')\n",
        "def Visualiza_residual_plot(datos_,w,h):\n",
        "  plt.figure(figsize=(w, h))\n",
        "  sns.residplot(x=df['highway-mpg'],y=df['price'])\n",
        "  plt.show()\n",
        "\n",
        "# - - - - - - - - - - - - - - - - - - - - - - - - - - - \n",
        "'''print('\\n- - - - - - - - - - - - - - - - - - - - - \\n')\n",
        "Z = df[['horsepower', 'curb-weight', 'engine-size', 'highway-mpg']]\n",
        "Y_hat = lm.predict(df['price'])\n",
        "\n",
        "print('Usando función gráfica: Residual Plot:\\n',)\n",
        "Visualiza_residual_plot(df,5,6)\n",
        "\n",
        "print('\\n- - - - - - - - - - - - - - - - - - - - - \\n')\n",
        "print('Graficando regresión múltiple:\\n',)\n",
        "plt.figure(figsize=(5, 6))\n",
        "\n",
        "ax1 = sns.distplot(df['price'], hist=False, color=\"r\", label=\"Actual Value\")\n",
        "sns.distplot(Y_hat, hist=False, color=\"b\", label=\"Fitted Values\" , ax=ax1)\n",
        "\n",
        "plt.title('Actual vs Fitted Values for Price')\n",
        "plt.xlabel('Price (in dollars)')\n",
        "plt.ylabel('Proportion of Cars')\n",
        "\n",
        "plt.show()\n",
        "plt.close()'''\n",
        "\n",
        "# - - - - - - - - - - - - - - - - - - - - - - - - - - - \n",
        "print('\\n- - - - - - - - - - - - - - - - - - - - - \\n')\n",
        "\n",
        "def PlotPolly(model, independent_variable, dependent_variabble, Name):\n",
        "    x_new = np.linspace(15, 55, 100)\n",
        "    y_new = model(x_new)\n",
        "\n",
        "    plt.plot(independent_variable, dependent_variabble, '.', x_new, y_new, '-')\n",
        "    plt.title('Polynomial Fit with Matplotlib for Price ~ Length')\n",
        "    ax = plt.gca()\n",
        "    ax.set_facecolor((0.898, 0.898, 0.898))\n",
        "    fig = plt.gcf()\n",
        "    plt.xlabel(Name)\n",
        "    plt.ylabel('Price of Cars')\n",
        "\n",
        "    plt.show()\n",
        "    plt.close()\n",
        "\n",
        "print('\\n- - - - - - - - - - - - - - - - - - - - - \\n')\n",
        "x = df['highway-mpg']\n",
        "y = df['price']\n",
        "\n",
        "# r (cubic) \n",
        "f = np.polyfit(x, y, 3)\n",
        "p = np.poly1d(f)\n",
        "\n",
        "PlotPolly(p, x, y, 'highway-mpg')\n",
        "\n",
        "\n"
      ],
      "metadata": {
        "id": "lUAb6T9zQ-NU",
        "colab": {
          "base_uri": "https://localhost:8080/",
          "height": 1000
        },
        "outputId": "7404cfd6-d157-4104-a40c-545018f28f53"
      },
      "execution_count": 11,
      "outputs": [
        {
          "output_type": "stream",
          "name": "stdout",
          "text": [
            "\n",
            "- - - - - - - - - - - - - - - - - - - - - \n",
            "\n",
            "Usando función gráfica: Regression Plot:\n",
            "\n"
          ]
        },
        {
          "output_type": "stream",
          "name": "stderr",
          "text": [
            "/usr/local/lib/python3.7/dist-packages/seaborn/_decorators.py:43: FutureWarning: Pass the following variables as keyword args: x, y. From version 0.12, the only valid positional argument will be `data`, and passing other arguments without an explicit keyword will result in an error or misinterpretation.\n",
            "  FutureWarning\n"
          ]
        },
        {
          "output_type": "display_data",
          "data": {
            "text/plain": [
              "<Figure size 360x432 with 1 Axes>"
            ],
            "image/png": "[encoded data removed]"
          },
          "metadata": {
            "needs_background": "light"
          }
        },
        {
          "output_type": "stream",
          "name": "stdout",
          "text": [
            "\n",
            "- - - - - - - - - - - - - - - - - - - - - \n",
            "\n",
            "Usando función gráfica: Plot:\n",
            "\n"
          ]
        },
        {
          "output_type": "stream",
          "name": "stderr",
          "text": [
            "/usr/local/lib/python3.7/dist-packages/seaborn/_decorators.py:43: FutureWarning: Pass the following variables as keyword args: x, y. From version 0.12, the only valid positional argument will be `data`, and passing other arguments without an explicit keyword will result in an error or misinterpretation.\n",
            "  FutureWarning\n"
          ]
        },
        {
          "output_type": "display_data",
          "data": {
            "text/plain": [
              "<Figure size 360x432 with 1 Axes>"
            ],
            "image/png": "[encoded data removed]"
          },
          "metadata": {
            "needs_background": "light"
          }
        },
        {
          "output_type": "stream",
          "name": "stdout",
          "text": [
            "\n",
            "- - - - - - - - - - - - - - - - - - - - - \n",
            "\n",
            "Correlación:\n",
            "              horsepower  highway-mpg     price\n",
            "horsepower     1.000000    -0.804575  0.809575\n",
            "highway-mpg   -0.804575     1.000000 -0.704692\n",
            "price          0.809575    -0.704692  1.000000\n"
          ]
        },
        {
          "output_type": "display_data",
          "data": {
            "text/plain": [
              "<Figure size 504x504 with 2 Axes>"
            ],
            "image/png": "[encoded data removed]"
          },
          "metadata": {
            "needs_background": "light"
          }
        },
        {
          "output_type": "stream",
          "name": "stdout",
          "text": [
            "\n",
            "- - - - - - - - - - - - - - - - - - - - - \n",
            "\n",
            "\n",
            "- - - - - - - - - - - - - - - - - - - - - \n",
            "\n",
            "\n",
            "- - - - - - - - - - - - - - - - - - - - - \n",
            "\n"
          ]
        },
        {
          "output_type": "display_data",
          "data": {
            "text/plain": [
              "<Figure size 432x288 with 1 Axes>"
            ],
            "image/png": "[encoded data removed]"
          },
          "metadata": {
            "needs_background": "light"
          }
        }
      ]
    },
    {
      "cell_type": "code",
      "source": [
        "# - - - - - - - - - - - - - - - - - - - - - - - - - - - \n",
        "# Ejercicio 4\n",
        "\n",
        "# Regresión polinomial y canalizaciones\n",
        "\n",
        "# - - - - - - - - - - - - - - - - - - - - - - - - - - - \n",
        "print('\\n- - - - - - - - - - - - - - - - - - - - - \\n')\n",
        "print('Multivariate Polynomial function:\\n')\n",
        "pr= PolynomialFeatures(degree=2)\n",
        "print('pr:',pr)\n",
        "Z= RegMul\n",
        "print('Z:',Z.head(4))\n",
        "Z_pr= pr.fit_transform(Z)\n",
        "print('Z.shape:\\n',Z.shape)\n",
        "print('Z_pr.shape:\\n',Z_pr.shape)\n",
        "\n",
        "print('\\n- - - - - - - - - - - - - - - - - - - - - \\n')\n",
        "print('Creando el pipeline:\\n')\n",
        "pipe= [('scale',StandardScaler()),\n",
        "        ('polynomial', PolynomialFeatures(include_bias=False)),\n",
        "        ('model',LinearRegression())]\n",
        "\n",
        "pipe= Pipeline(pipe)\n",
        "print('Pipe:\\n',pipe)\n",
        "\n",
        "Z= Z.astype(float)\n",
        "pipe.fit(Z,y)\n",
        "\n",
        "Ypipe= pipe.predict(Z)\n",
        "print('Ypipe:\\n',Ypipe[0:4])\n"
      ],
      "metadata": {
        "id": "6gHIm43JQ9yC",
        "colab": {
          "base_uri": "https://localhost:8080/"
        },
        "outputId": "f519e852-d18d-424a-f9f0-6500fa026bc5"
      },
      "execution_count": 14,
      "outputs": [
        {
          "output_type": "stream",
          "name": "stdout",
          "text": [
            "\n",
            "- - - - - - - - - - - - - - - - - - - - - \n",
            "\n",
            "Multivariate Polynomial function:\n",
            "\n",
            "pr: PolynomialFeatures()\n",
            "Z:    horsepower  curb-weight  engine-size  highway-mpg\n",
            "0       111.0         2548          130           27\n",
            "1       111.0         2548          130           27\n",
            "2       154.0         2823          152           26\n",
            "3       102.0         2337          109           30\n",
            "Z.shape:\n",
            " (201, 4)\n",
            "Z_pr.shape:\n",
            " (201, 15)\n",
            "\n",
            "- - - - - - - - - - - - - - - - - - - - - \n",
            "\n",
            "Creando el pipeline:\n",
            "\n",
            "Pipe:\n",
            " Pipeline(steps=[('scale', StandardScaler()),\n",
            "                ('polynomial', PolynomialFeatures(include_bias=False)),\n",
            "                ('model', LinearRegression())])\n",
            "Ypipe:\n",
            " [13102.74784201 13102.74784201 18225.54572197 10390.29636555]\n"
          ]
        }
      ]
    },
    {
      "cell_type": "code",
      "source": [
        "# - - - - - - - - - - - - - - - - - - - - - - - - - - - \n",
        "# Ejercicio 5\n",
        "\n",
        "# Medidas para la evaluación dentro de la muestra\n",
        "# 1. R-squared: Conocido como el coeficiente de determinación, es una \n",
        "#               medida para indicar qué tan cerca están los datos de la línea \n",
        "#               de regresión ajustada. Se conoce como el porcentaje de la variable\n",
        "#               de respuesta (dependiente y) explicado mediante un modelo lineal.\n",
        "# 2. Mean Squared Error (MSE): El error cuadrático medio de un estimador mide el \n",
        "#               promedio de los errores al cuadrado, es decir, la diferencia entre \n",
        "#               el estimador y lo que se estima.\n",
        "\n",
        "from sklearn.metrics import mean_squared_error\n",
        "from sklearn.metrics import r2_score\n",
        "\n",
        "# - - - - - - - - - - - - - - - - - - - - - - - - - - - \n",
        "print('\\n- - - - - - - - - - - - - - - - - - - - - \\n')\n",
        "print('Modelo de regresión lineal simple\\n',)\n",
        "lm.fit(X, Y)\n",
        "print('Calculando la R cuadrada:\\n',round(lm.score(X, Y)*100,2),'%')\n",
        "\n",
        "print('\\n- - - - - - - - - - - - - - - - - - - - - \\n')\n",
        "Yhat=lm.predict(X)\n",
        "print('La salida Y es: ', Yhat[0:4])\n",
        "mse = mean_squared_error(df['price'], Yhat)\n",
        "print('Calculando MSE:\\n',mse)\n",
        "\n",
        "\n",
        "# - - - - - - - - - - - - - - - - - - - - - - - - - - - \n",
        "print('\\n- - - - - - - - - - - - - - - - - - - - - \\n')\n",
        "print('Modelo de regresión lineal múltiple\\n',)\n",
        "lm.fit(Z, df['price'])\n",
        "print('Calculando la R cuadrada:\\n', round(lm.score(Z, df['price'])*100,2),'%')\n",
        "\n",
        "print('\\n- - - - - - - - - - - - - - - - - - - - - \\n')\n",
        "Y_predict_multifit = lm.predict(Z)\n",
        "MSE_m= mean_squared_error(df['price'], Y_predict_multifit)\n",
        "print('MSE:\\n',round(MSE_m,2))\n",
        "\n",
        "\n",
        "# - - - - - - - - - - - - - - - - - - - - - - - - - - - \n",
        "print('\\n- - - - - - - - - - - - - - - - - - - - - \\n')\n",
        "print('Ajuste de Modelo Polinomial\\n',)\n",
        "print('Obteniendo métricas:\\n',)\n",
        "r_cuadrada= r2_score(y, p(x))\n",
        "print('La R cuadrada es: ', round(r_cuadrada*100,2))\n",
        "MSE_p= mean_squared_error(df['price'], p(x))\n",
        "print('MSE:\\n',round(MSE_p,2))\n"
      ],
      "metadata": {
        "id": "LNbt1MgTQ-hb",
        "colab": {
          "base_uri": "https://localhost:8080/"
        },
        "outputId": "404c022d-41f3-4e51-b4d9-093c5e4016ab"
      },
      "execution_count": 35,
      "outputs": [
        {
          "output_type": "stream",
          "name": "stdout",
          "text": [
            "\n",
            "- - - - - - - - - - - - - - - - - - - - - \n",
            "\n",
            "Modelo de regresión lineal simple\n",
            "\n",
            "Calculando la R cuadrada:\n",
            " 49.66 %\n",
            "\n",
            "- - - - - - - - - - - - - - - - - - - - - \n",
            "\n",
            "La salida Y es:  [16236.50464347 16236.50464347 17058.23802179 13771.3045085 ]\n",
            "Calculando MSE:\n",
            " 31635042.944639888\n",
            "\n",
            "- - - - - - - - - - - - - - - - - - - - - \n",
            "\n",
            "Modelo de regresión lineal múltiple\n",
            "\n",
            "Calculando la R cuadrada:\n",
            " 80.94 %\n",
            "\n",
            "- - - - - - - - - - - - - - - - - - - - - \n",
            "\n",
            "MSE:\n",
            " 11980366.87\n",
            "\n",
            "- - - - - - - - - - - - - - - - - - - - - \n",
            "\n",
            "Ajuste de Modelo Polinomial\n",
            "\n",
            "Obteniendo métricas:\n",
            "\n",
            "La R cuadrada es:  67.42\n",
            "MSE:\n",
            " 20474146.43\n"
          ]
        }
      ]
    },
    {
      "cell_type": "code",
      "source": [
        "# - - - - - - - - - - - - - - - - - - - - - - - - - - - \n",
        "# Ejercicio 6\n",
        "\n",
        "# Predicción y toma de decisiones\n",
        "# Para el entrenamiento del modelo se utiliza el método \"fit\", sin embargo, para\n",
        "# el caso de la predición, se utiliza el método predict para lograr la predicción.\n",
        "\n",
        "import seaborn as sns\n",
        "from sklearn.preprocessing import PolynomialFeatures\n",
        "from sklearn.pipeline import Pipeline\n",
        "from sklearn.preprocessing import StandardScaler\n",
        "from sklearn.metrics import mean_squared_error\n",
        "from sklearn.metrics import r2_score\n",
        "import matplotlib.pyplot as plt\n",
        "import numpy as np\n",
        "\n",
        "\n",
        "print('\\n- - - - - - - - - - - - - - - - - - - - - \\n')\n",
        "new_input= np.arange(1, 100, 1).reshape(-1, 1)\n",
        "#print('Nueva entrada:\\n',new_input)\n",
        "lm.fit(X, Y)\n",
        "print('Ajustando el modelo:\\n',lm)\n",
        "yhat= lm.predict(new_input)\n",
        "yhat_= yhat[0:5]\n",
        "print('yhat es:\\n',yhat_)\n",
        "\n",
        "df_array= new_input\n",
        "#np.append(df_array, yhat, axis=1)\n",
        "#print('df_array:',df_array)\n",
        "#df_plot_input= pd.DataFrame[df_array]\n",
        "#df_plot_yhat= pd.DataFrame[yhat]\n",
        "print('Graficando con: Plot:\\n',)\n",
        "plt.plot(new_input, yhat)\n",
        "plt.show()\n",
        "\n",
        "print('\\n- - - - - - - - - - - - - - - - - - - - - \\n')\n",
        "print(':\\n',)\n",
        "print(':\\n',)\n",
        "\n",
        "print('\\n- - - - - - - - - - - - - - - - - - - - - \\n')\n",
        "print(':\\n',)\n",
        "print(':\\n',)\n",
        "\n",
        "print('\\n- - - - - - - - - - - - - - - - - - - - - \\n')\n",
        "print(':\\n',)\n",
        "print(':\\n',)\n",
        "\n",
        "print('\\n- - - - - - - - - - - - - - - - - - - - - \\n')\n",
        "print(':\\n',)\n",
        "print(':\\n',)\n",
        "\n",
        "print('\\n- - - - - - - - - - - - - - - - - - - - - \\n')\n",
        "print(':\\n',)\n",
        "print(':\\n',)\n"
      ],
      "metadata": {
        "id": "HgdhWCAYQ-xG",
        "colab": {
          "base_uri": "https://localhost:8080/",
          "height": 1000
        },
        "outputId": "9d0fb1fc-5519-4c14-8c55-7be6098b2b9e"
      },
      "execution_count": 55,
      "outputs": [
        {
          "output_type": "stream",
          "name": "stdout",
          "text": [
            "\n",
            "- - - - - - - - - - - - - - - - - - - - - \n",
            "\n",
            "Ajustando el modelo:\n",
            " LinearRegression()\n",
            "yhat es:\n",
            " [37601.57247984 36779.83910151 35958.10572319 35136.37234487\n",
            " 34314.63896655]\n",
            "Graficando con: Plot:\n",
            "\n"
          ]
        },
        {
          "output_type": "stream",
          "name": "stderr",
          "text": [
            "/usr/local/lib/python3.7/dist-packages/sklearn/base.py:451: UserWarning: X does not have valid feature names, but LinearRegression was fitted with feature names\n",
            "  \"X does not have valid feature names, but\"\n"
          ]
        },
        {
          "output_type": "display_data",
          "data": {
            "text/plain": [
              "<Figure size 432x288 with 1 Axes>"
            ],
            "image/png": "[encoded data removed]"
          },
          "metadata": {
            "needs_background": "light"
          }
        },
        {
          "output_type": "stream",
          "name": "stdout",
          "text": [
            "\n",
            "- - - - - - - - - - - - - - - - - - - - - \n",
            "\n",
            ":\n",
            "\n",
            ":\n",
            "\n",
            "\n",
            "- - - - - - - - - - - - - - - - - - - - - \n",
            "\n",
            ":\n",
            "\n",
            ":\n",
            "\n",
            "\n",
            "- - - - - - - - - - - - - - - - - - - - - \n",
            "\n",
            ":\n",
            "\n",
            ":\n",
            "\n",
            "\n",
            "- - - - - - - - - - - - - - - - - - - - - \n",
            "\n",
            ":\n",
            "\n",
            ":\n",
            "\n",
            "\n",
            "- - - - - - - - - - - - - - - - - - - - - \n",
            "\n",
            ":\n",
            "\n",
            ":\n",
            "\n"
          ]
        }
      ]
    },
    {
      "cell_type": "code",
      "source": [
        "# - - - - - - - - - - - - - - - - - - - - - - - - - - - \n",
        "# Ejercicio \n",
        "\n",
        "# Descripción\n",
        "\n",
        "# \n",
        "\n",
        "import pandas as pd\n",
        "import numpy as np\n",
        "\n",
        "print('\\n- - - - - - - - - - - - - - - - - - - - - \\n')\n",
        "print(':\\n',)\n",
        "print(':\\n',)\n",
        "\n",
        "print('\\n- - - - - - - - - - - - - - - - - - - - - \\n')\n",
        "print(':\\n',)\n",
        "print(':\\n',)\n",
        "\n",
        "print('\\n- - - - - - - - - - - - - - - - - - - - - \\n')\n",
        "print(':\\n',)\n",
        "print(':\\n',)\n",
        "\n",
        "print('\\n- - - - - - - - - - - - - - - - - - - - - \\n')\n",
        "print(':\\n',)\n",
        "print(':\\n',)\n",
        "\n",
        "print('\\n- - - - - - - - - - - - - - - - - - - - - \\n')\n",
        "print(':\\n',)\n",
        "print(':\\n',)\n",
        "\n",
        "print('\\n- - - - - - - - - - - - - - - - - - - - - \\n')\n",
        "print(':\\n',)\n",
        "print(':\\n',)\n"
      ],
      "metadata": {
        "id": "ky0uq-PJRDuh"
      },
      "execution_count": null,
      "outputs": []
    },
    {
      "cell_type": "markdown",
      "source": [
        "# Gradded Review Questions\n"
      ],
      "metadata": {
        "id": "VY32emPwpo82"
      }
    },
    {
      "cell_type": "markdown",
      "source": [
        "# Progress for a01685424\n",
        "\n",
        "![image.png](data:image/png;base64,iVBORw0KGgoAAAANSUhEUgAABu4AAAHHCAYAAABQj64rAAAAAXNSR0IArs4c6QAAAARnQU1BAACxjwv8YQUAAAAJcEhZcwAAED0AABA9AUORddcAAHRtSURBVHhe7d0FuBTl/gfwHyGIhIqKCIKoKAY2dly7O1CvYnd3X+tvt1hY6BXr2onYLQYqioUYCIIogkpIw39ndk5yDgIiZ5TP53n2YfbdPefszr4zs8x3fu9ba0pBAAAAAAAAADWqdvYvAAAAAAAAUIMEdwAAAAAAAJADgjsAAAAAAADIAcEdAAAAAAAA5IDgDgAAAAAAAHJAcAcAAAAAAAA5ILgDAAAAAACAHBDcAQAAAAAAQA4I7gAAAAAAACAHBHcAAAAAAACQA4I7AAAAAAAAyAHBHQAAAAAAAOSA4A4AAAAAAAByQHAHAAAAAAAAOSC4AwAAAAAAgBwQ3AEAAAAAAEAOCO4AAAAAAAAgBwR3AAAAAAAAkAOCOwAAAAAAAMiBWlMKsmWghgzveVt0vve5+LDfiBhXuD+5QdNYsN0qsffhJ8fWixWfAwAAAAAA/LPN0uBu7LdvxyvPPR5Pv/llDPhpdBpARNSPeVssH+03WDc23WC9WHuJedNWZl6/a1ePo59ZILtXUZ35F4mWy6wfm2+/Xey6ykJZK3k24pGDo9MtA7Ptpby14/CHzokdGmV3a9Dk506Ira/6LF1e7NTH4+aN6qfLs8qw9x+N+/73SLz6xU8xcnytNLhss/LW0enwvWP9ZtmT/sCvL10SJ139cnw/oVaMWPa4uP/qLaN19ti0TB70fjz31EOV9lvJtrRPnHffv6NDdr+8UZ8/HQ/d/2S89vmgGDxiQqGlfjRYePlYaZstYp+t/hVLNC4+r7zxjx8U29/0fXavOu1jr25XRKfp3HTL951Pt78yBh6xfPGBSpL1++QTz1bxeneNA3ddNVrNSO31qF7R9eBT44Ff5ircqeL1ftY5Oh7fPUbUihja8fp4/4C22QPTp+Q9ja3XPva+ffrXxXQZUvis77sv7u/Zt3Q9NGy3cmzy76PiiDWn7w+N63tfXHTKHfHOuGSl7Rxn9jgk1i8+NG3jB8dn3Z+IB158Kz797se0nyeSvr7tRffGMcumdyuYPOjtePSuh+Opj7+IH35JXm/SL5eK5TbeKnbbYetYo6ptY+iDcdpet0Xv2sXfX52mR94T925X9XGksom9roj9znwhfi78ymluW4X12+PxittS3SaLxDKrbRU77N9xurflEtPbvyubPOjTeOn1Z+KNNz+Oft//GMPGFNdF8lqaLLFcbLHVbrHN+m1iQWMOzBYT37ko/n32a4V9QtNY5/K74+wVrHgAAACAaZk1Z09GfRndT90sdjz83Ljm0Q+jX7mT31FY+m3wB/Hm/dfFeUfsHoe+XPYIs96kX36IAT0fiNtO7xT/OvPx+Hx09gD5NObluPO2/tn2Uj8W2eLYOPnc/4uLj+8Ua++7fWyZg9AuUbtpi2wpotX8szK0GxlfXr9bHHDmzfHUx0NLw4zaY4YX+vHdceE+/44Leo9N26o1aXC8ffkese9lr6Sh3XSb9G28dv6esdOBZ1ax30q2pVExJlsuNWl4fHj57rHX8dfF/e/0z8KfxLgY8+MH8XbXi+PwvY6OSz+f+jWPnTQDr216DHooLuz6XYXXPJUhPaPbUVvGXoX1W/XrPSMO3OXMuGdI1vyHRka/28/LQrtqFPrKEtn1IO0Wmj/9d7p9e0ec3mVA4dXVj6aHnT5LQ7skfDro4DPiqmc/qbAeRvd9J544p1NscuOn8VvWWqVJI2PwA8dGx2P/m4V20++nHmfEQbvsHyd0eSze7lcMp0skfX3EVB9i8W/tdOC5ceurfUpDu8SkX/pFn4c7x9mFbeO4l3/OWsuZ1f1sVK+468pn0tCuWoVt8JObDowd9pt6W5o44of45OWuhW15hzio+7CsdTpMT/+ubGjPuOv4HQrr7cS44s4X0nVdEtolktcyvPeLcd/Fh8VeOx4QJz/53bQ/c2aJumseHWdskHySw+OVy26Nt/5glw4AAAAwp/vzFXcVqi+KkoqAFdZeNlrNNSXq/PpdvPvh5+mJ0in1NovjHjwxtpq1xTpznPIVdwuvvUOs0WxyupychB72/ovx1veTsvsRv2x8fjx3yhqhzjGnPrw8djj9xfTk9LAOp0T3CzaOWVlgNMv0uiK2POuFwkL9WOfyx+PsFYrNf9bY50+I3a/8LDs5Xz9abrRlrNpkckwe1DNe6PVz2j6lXvvY55YrYq/m6ZMqGvJc3HTSNfH4zyXbQNEfVtxNGhwvnbBfXNa3GMBMqdc42q67Q2y21jKxaP1klzgyhn5WJ5Y84F+xdPqMoqQCqOMtA9PlyQ2Wig333zW2aL9oNP7xy/jgqbvjvveHZa956n3dl9evH8c81bCw1DgW32KjaD93VbveFrHq3jvF2lVU7FVQ6fUnpqpIGvVydP73RdF9fJ30bvIem6+2XmF/UTdqjR8cn7z8Xnwztvjz4xfaIy7/736x2h/kUeUrr4qqqLgb8lCcts+tacXX/Mc8HPdtnbzn6TEoXjrq33HZVw2m+/VMt+HPxoWdrozXJxV/4cR2m8ZOyzRI18MHL/TKAt/60fTIrlVXof32ZXS/6Mjo/FFxXZb544q7ihW19aNO+/Vi5w3WiJWazZO2/D7kkxi1yv4Vh8QtrOeOhfWcVC1Oqdcilt/t39FxjSWi+dhv48uX7o8bni35fW1it9u7xIEt0ztF5fYpddpvHVsvWfk1FzVZ98DotOLc2b3qjCwcb/5dON6UBYdTb1sjo/eF28dpr5d09vpRf/GVY4MVm8XchVdR8ZjUNDbsfG+cVn6jqsr09O9Kxr56cRx1RTG8n9ygTbTfedc4YKN1YqlF5on6Jatg/Mj4/pvX4qWbb4mHPx9XXIebnR93H79G1dV3w5+Ic3e/Id6us8v0V1ZStXL7hXr73RFP7LFI9gAAAAAAlf3J4G5QvHTs/qUn1yY3WC32uvys2Ldtg/R+eVMGvB+PDVggdlqvTdbCzCof3K13SY84a+V0sdTYV8+Ngy56Ozu5XsWJXfKjNBCbuWEFZ5vSk64rzNBQjtM0qU/cu+vxcdeYuoU7TQt9uWuhL5cFCeUDj583Oz/ePHGNKJ/5lx8aMwkL2u24YdR+pEd8XvuPhsocF19ev0sc89TE9F7ddU+Jq8/cOJb6w5BoUPQ4dK+45rvkNbaPXe+8Ig6qECaOjM8u3y1OeLF4b6X/PBOXrluacJXbbmdsOMyqlKybocsuFxt8+ml6MryqYKMYtL0Wsdv5cfEBK1ccErPCRRf1Y4VzH4vL1yp7vVMpfX7TWHaZBvH5Fz8VGqt6L+/GnRufGffXq1Pl/qlafTpHx5OKQ2wuctJDccems67cdMBNm8Yhjyf9LGJCYT09UlhPpRczDHooTj30lvhoYu0qA9eKQ2PWj7l22iL+9eBj8ULd5P4fBHcfXhF7n1YMOscvtEEcdckZsfN07Is/u3zNQj9KqhUbR4cLu8UFq1UM2EY+eEhhvz4gXZ64353xwh7lOmK5fcqMDIdZlZKgdsh8y8fK83wUn/xQt+ptK+sb9zbbO845c/9KQ2JWDP+q2pYrm97+XaIsUK4fC+10Xlx0cKW+XoUJH14XJ//nqfhiYq0Yt9OVhW17+ale07hnjoodrv2qsDQDQ6JSjXHx4SVbxumv1K9yOwMAAACgzB+eqp6m12+Ja0srVtrHvjddWGVol6jVejWh3Wwy97+OjsNWKhkjs3+88JHxMvNqxIC+2dJMDCv4d9f35Xjs92KYMqzDQXFoudAu0WSHY2L3BsVwbcHnn4keo9LFokl94ulbns+qa5aKbS7/X1y7Y6tphgGlBjwc1z5RDBHGtz8ubpqu0C4xKIb0K1YWj19o1VhrqgrAxrHc6mtmyxEDhw/PlhIj45chJa+uTbRYMFucGaVDCDaNPbZbJ2usWt0OJ0WXB++Nuw+qIsho1CF2K02RxsWH/X/MlqtSNkTm6DWPjR2WKOu3s0bh7z/9aFZhtll0XH9WjhH7cbzxXLYYHeLQvcqFdomWu8aR2xQrNmuNfz4ee6tYy1Y0LD668/Y0tEsq35Y76aZ48tAOseDk6bne5dvoccNTaWiXHB8PvHz6Qru0n6XhcGLV6LBsxe0i0bjD2rFods1N3+EVh5+cPHxwthSxRIuZD+3KhsisH0setkW0/24aoW6hLx3Q5fF4+NrKoV2icSy16x6xbLbOGn02IL5Ll6oxA/07NeShOPPc59LXueBhXaLboX8c2iXmWuXouOLczWLBwsuq/+iFcfWX2QOlhsV7L3+ULfPn1Y9VttkpmhTWd7KdPfB6+R06AAAAAOX9ieBuWLzx5EtRcoqz7n4nVj2U3fSYNDg+e+yyOGv/PWKHLbeMLQu3zXf6dxxy3t3R/bvfsydVllR1bJY+d8stb4nXs9bKkiqX4nO2jAt6Z40lksqE9LHr48XsPOzv79wa5x26U/Y6Toq7yp97H/J+PHf1SbH/ntuV/s7kdf77tMvj9if6xPdlo4lVNH5w9Lnz1Dh6n11K3982ex4dJ3R7Lb4ZmT1nllogVlp98Ww5otakchPKzOh7zoz99vm47+zD4oCOJe99h9hp3zPiosL7HlhxlMKKqvls9ztgv6luJ7xQciKv7LM96/2saWjPwt8/IHbbfou0fc/uU4eRkwe9PdVr3OXYc+LmVwfFiLLRQyuaNDJ+fOn2OPfofUp/d/G9HRWndf5fPPNNFTMgzWw/KC/9HUfFgXcWq2YSw2/Yq/T3Vdmnq/i7f9yPZm5dTmXeBaJleuJ96WhTVaXY8H7xxv0XFj7nfSutxzPi3Ac+qLKPjPy0VxrUJNqus+bUQ4TWWSE6bFKyh+kZ75XPigqP7XXl4bHm8p3ivLuui6NXmDrcqM6wVx+Kr2snf7hxbHHgltN1kr+oZbRebny6VG/oDzGwfL6TGTawT7ZUP5ZrVT40GRGjRpaM11cv6k0jA5mmZAjBy4rVYb9veUocVP3IgaUaNak+BJtSZ/pKXib2ujnO65507Pax7+HrRcsp09roF4qmiyYbXPtYbHorfce8FW+8UAxFB663fmxc3cuaNDwGvnx3XHlKp3Lb+Zaxbcf946RLH4jXkyLAygb1ifdGF9f9b+3Xi42qGDe49VpblIa+L330ebaUWCDWOPOS2GXZ9eLQm7rGVZuWzfX4h759JR4aWPytw7c/bAaOjy2j1VLZzjn6xeAqprGL7/rH97WKnWj9VhV/8ahRZTuDuaseJXM6lAW1I5Y9MM7613RcVDBvo+qHZC70s+nqaTPcv4fFu9d2SZ//y8Znxg07lht+8bcv49XC/rJ8P9lmz/0L3yuuLeyn+8XQwlPqdjg6ztk66cvD46En3y39PjOu7yNxzYGd4oKPS4Z5fSQuzH5H8Vb1d45Rnz8d1xf65l47FfeBW2y/W+G4cG089GHy16Zt6mNs8fUm/br670GVlB7fr4xnkjdTWJ/Jd49j99g2a98hdjytczz48Yji8xPZcaXya36sX+UZPgvr+vRNs9+zZazfNalEnNqAm7cpe845b6TrudRyG8WO8xQvxuj79BtRdvQDAAAAoLyZD+5+6xWvfVhSXdch9t1k5uYrSYYhO2fn/eKELi9Frx9+LT1xVnvM8BjQ8+7ofOiesdM170alKaxmsf7pydFkeK49z3k4en43pvR1lBjx+DGxw35nxlXPfhI//FKWzCSvc3jvF+PBG0+Onf479Yms9P3ttl+cfP9H0e+n0aW/d9Iv/eKzey6Kw/c6Oi79vFywNouMH/tHV7P/8XtOTRoeH16+e+x++JXx33cLPzOi5L2PizE/fhCvFd73gbucGf/9qvJJvoLhr8S1e+9T5Wc7ZPCQqW9jpn4F3wwellZgnLr/OYW/PzhGjq8q8RgZgx84NnY68NypXuPovu/EoxcfGLsce0f0rpxPJcO77bt77HvZg/F2v5/K/e7kvX0VvbvfEdcecXk8UC67m9l+UFm//x1W+B1fVfN+Kiu+v6r+blk/OiDOeXPaKfD0rctqNGgYjaurMvri5th7z6PjgjtfL3zOP1Zajx/E213PiH33vTl6Vlr/QwaXBSTLt6h6HrQ2rdplSxGfDaxYWZRUSp135V5/PB9cBYPivTeKyfTEebeJTZZNF6dTy+iwccnkXM/HtddX2i8NuDcu+19xuxu/0E6x1YrpYmZ8jBpRTFFGLNs6yk9nNiNGPH5OWuWcVKWdccjKMU81H8n0mjC6bJ0uuXA14Uxp5VVEvf1OrDQ8aFXqRaMm1SXl1fj0/WzoyYj1V1+pmpCnbzy0125x8KV3x/MfDy23nRc+yxE/xCcvd40L9/l3XNC70v70hx/S4VMT3y/Rquo5JBdtU1oR1vyrARUDhUYd4uCrz5rOarkyI3u9nIVrjWOXDWZsCNyl1t0+rUyKGBwPdX4wPi+/7fz2VnS9+Y10cUq9tWOPDSpW1ZV9pjMQnFZSFtS2ib2P3z5a1f6THW3MyLT/JEYu2jwWLi5OZYb794Bn47/vJ9tV+zhq/7K5XJOhMw/a++i4uLC/LN9PJv3yQ+F7xTPxwG0vxxdpS/1Yavs90+rFBZ9/PV5KD0Hvxn2H3xQ9Bs3Al47sOLnX8dfFU4W+OWxM8c3WGj+ycFx4Jm47vVNs+39vVH2Ry6TB8c75e1ZxjC2+3qRfn/3QJ6XHz+nzaXz/5UeF49tB6XePvr8Ww7Jknzy2d/e4/ZRO8e8nhxXX08FnpMeVyq+5y9EHVtqWFog1Tj451q9TfBMNHzg7LqlcpfhZ5zjjkeK2n3yGZ566XsXtrc4KsfI6xeNUk8/fiQ8V3QEAAABUaeaDu28+jnfqFH98bMuVY+VqL7WfhiEPxdknlswdVNB6zdjuiNPjgnOPjQO3XDUWnSs5azcuxvQ4O3a79dMZPHE1Iz6Jrx64IY64uTifVt0mi0TzFs2j+cLLx+JNCw1jXo47b/48+/tNo+1eJxVe4/+lt4uP7xSbrdg46kebOGyrSidnK7y/+rHgrifFhTf+Nx675co4Zc/l0iG6ao3vFy+demk8UUVh18wbFp/3KbvOvVXT5E1U9gfvOTUuvrxpnzj9xd/S50yp1ziW3OiAOPq8C+KMw3aPzZcqnuirPeb9uPeE/0S3CpfWD4t3L78gnvklGQqxfjTf7/q4u3uP6NGjcLv3ijhsmZIzso1j5TPujgcf7VHlXEyffvRAdD3ppmz+qcbF11i4rdqqLOgZ8fgJcXjXvulrTIdNPPGy6HzXw3HbNUfH/isUq43qfPW/OPqyilf///z0FfFAlrxMart1HHb6Bdnnekoct9MqsXjjueLnzbaPHUr69sz2gyosdcjL8dADD8Ud+5SlII0PvCVtK972L51Pqfz7S9blwmt3TF9r8je36bBgoSXpR4Pjnf87NM7vU/3J5ulZl9VbI/Z76fnC51fFPE/LbB57txpbWPdtYoVdjomTC+vj6muujgtPOzy2X7zYR+oNfTSOua98oDkoBvabJ1uuPmCo13KZbCnivcFDsqU/YcyX0e/reuni4NWWixUmjYzve1wa/9ln56witFgl+H8vfFdllWaTHc6Lk1fKHnj+7NhvjxPj2lc/jre6HBg7HHJXum6TuT4PvHy/WK3C3nVoDP++GNw1/vr2OHvfsurbYoXL5dH1naExblp5V+kQgvVj5VOPii1LVt/MmtQnnn2kpPKmQ2yyalVxWVnl1e+LHxRXdpyeCzRaxsbXv1roK9M/j9+wz9/K+neLWGnJ6mqz2sWGOyW/sGwbOPfaq6PzOafECZuWDJM6PF65+P54v9xmUH442srVaaUWWiyWmZgFEl8NmfZQjtNlXHz9Zb9sea1YabFCS99iNVZJRWpSJXh85xfji6ry9g6HxgXbJfuTwjbwye1x7N6HxdlPfBAfPfifOGjv4ueRDN25/vmnxvaVjr3Dhw/MlvrFIyftV2UF7DSrgisEtefEEVVPFDlDBvS4p7RCcMX1V666Mm8m+ndJ9ezQNXeM7Uv6WjZ0ZjKMbt11j41rHsyOO4XbA4e0Sp8ycsly4fniy8d6tZPP/u34KP3g14i9H3u0sA8+PrbJ+kTEZnH4Qw9XuX+ufJys3XyD2O/0a+PGB++Im885rHQfOPHNC+Lfd1a+qCP52UPinLd+SX+22Le3iu122C69bbbiQtG4XqPYbetpzwk4tcHxxNn/KRzf5or51ig5XnSMdRcqKcEcF8NuPSz2vPD5GFirSbnj+iaxzNwl73l4PHfzc1Ehm2u6RZx2yjql21r3qx+KfiVPL+xP7jn/8SygbRyrn3NklZ9h26VXyJYK/fnbbBEAAACACmY6uJs89IfsRFPET+1mpoJkXHx45w3pie7EhO2vjP/dcl4cuf2/osNaW8Vux10Ut3U5OFaqWzwrVP/R6+LuQeniX+KdJ5+Mn+ZZLfbs/EA89cAdcWfXO+PO/2Yn534bFoOz1/n1lqfE9Z02LbzG1dPbKlvsFSde9mA8/kTnOLBC+FDx/S14WNe4+6BNY7UlFo65Wy8fG+97Vdx20nLpCbBa43vGxU/OokGjJo2MH7qdGZdnQ3wlV71v2KF44rCyab7nRLm5wJI5mva55cG44dSOsc2aHWKDHfePE657IK7bqji8Xa3xn8S1d5UNNRZjPo533iu+97EtO8UZe7SNBUt6W9P2seOxe2RzNI2Mpz/5MRpXPTViLPLG4/HAL42izSHXxT2PPVh8jYXbySXn/tIwrX/2d9tHx5uui6M3WzGWbtYwFl1mm9j98pvj/FWK1QYN37kx7il33vSXIV9nS0vH7mcdEzv+q0P2uW4cWx56cdz04JPx1tHlTpjOVD+oRoNG6RCGDecurr/EXHM3TNuKt6y9wvtrGutd8r/47zkHpK81+ZtHX3B3dDukLLR44canKp5oLecP1+VMWzw2veqpeO7RLnH5wVvHJoX1sewyy8ZqG+4QR1x+bGyanfye9/k3ole6VIMKn+GgrPqqYdMR8cYZO8dB17wc7/30e7aOi1WCb15xaOx4ao+pK2TqtIhNLnokrt1jkXSdTxzxaTxz8Slx/mODCj9ZPxpvcGx0vuvCqYdFnDQhxmfBRVLRMuTHsurbYoXLi/HAOZ1i87Mfr1hdVaLcEILJkIBnrFvaK2fasHsvirvGFOcYHLfTnmUBdTnlK6/2OH3X6ZwLcEaNi4EDfsiWV412xWylSgtuf1s88PTjpdvAWu2WjaXX3jg2P+mqOHPNYgJW97en4/k/Lnr9i/0cw38oBsQT510g6jx/XHQ8tliNVVKRmlQJft798jh2r5Pinqky6cax9FEPxq3HFS9gqT2mf7x74xlx6u3vpYHUxHa7x1m3dY2zKs0LmZgwvuRDSvrykCorYA/oWE2V9EwFtX/g2zvi0keLgVFSiXrwelUM3TpT/XtYfNSrOI7o0muuUhoGDijsh5LfM36hPeK8M7eKZf6wIrdltF4yGQJ3ZEzMRqSsm+6D5y9XZdw4mjaqYv+cKHecTKp4Tyl8Tnv8q10s0XiRWGztHeOI6y+LTvMVH5+nsN99vHyVWbmfLdu/HxtHHn5kejvxsm7x4KP3xnElhb4zYMKYWtH0yK5x//klx4sD4j83nRk7NiweD5P9zsgxC8T653crd1w/Oa65Yd9YOXvf83z7WrxdaejsOv86MS7epLg8z7e3xYkPFLfdZH/S7dfiepmw/blx8mpVD19cr3W77Hg1Lr7oX6mKGgAAAIDUTJ+GLT+PzshGDcvCjelVbk6jpNrj0L2Wn/oq/Ja7xsmdSsq/+seNz/6VZ2PbxI7XXhj7Lt0ku19OnZKTdxGL9Xws7q0qQKxXPElbqvD+Xn+teFI8Cc/22mrqarK5N94ltpmQBZMvv1tt4DIt/R6/KW646Yb01uXiU2KvXXeN/e8pCXrqxwIH7xdbVfvhTOM9F5TNBRbVzNHUOJY65ITYunaxTGjB55+JHiUnJcsFJOObNIqpTuEttEgsM6m4Xhv3GzjNuW7q7dcluuy8VFnwV16vV+LFycWTwj9v1jE6TfUaF4g1dtgoWx4eT/UqO0M+pU7Jq/oynn3q0yorrCp8rDPTD/6sd16J7tn7G9bhoDi0ihP1TXY+Iw5ftDik2TzfdotHptGRprku/4TkRHeVGq0Q7dOT4kmgMj6qigpmqx++LR02sfnTnaPzRw1ivjX2TqtNksrJtOKkbvFzrvfJNVVUyCRGxoQxDQofdVl/KBoXv/w4JIZW+SZXjG2OWj+WatE2Vt56+9jygBPTisS9dtg81lm0pAomosH7N8V+N7wblQtwy4YQXDvOPLRsSMCZlQyRd+zdv6TLSZhy0d7LT70PL1d5NbrjSbOk8qpqZSHX2JbNo1VJzlSVBo2iSdnqKqdxLNt+yWy5LICpOYNiQFbZWWfMI3H9LZ/HhOZrxS4nXpj2s/LVqMlFD7effGeFKsHUpKyfldvvlKj32w8x+Leqt6Yltz81Nl+qWbROK7f2L/TtU+LYjtvG1mu2LP2Mi1XSN0aPSuupLKhtGlsfPwuC2mQ44jPuzo4jTWPjE/eNdarIc2auf38dA/oU31HZULsfxxvPFZfm22W7SlWvhXU9qSQur9qng6djvs9Kfu75ROlxsv7uu8aGlavM6qwQ2+9SvJqj1vhX462Pyj7P8sfYYbueX2UQG3XqRf0q+/y0TZx3pzhxm0rfOxqtExtvVLYOBmx8XJxc+W+23DI2X7akb/WL/lMd5xrHcoefXRoAjr/zvLj1+Tvi7G7FhC/Zn1ywbxXf50ossnjpsLS9Z0UVNQAAAMA/0EyflmvUqOwy9sajyqpHptu3feL1bKjNEcuuF2tVc5ZnwaVXKz3ZWO+zryoMdTgrDevQMXar7sT0QhvHzqsVU526v70ddx24Q2xzUud46MNpDG03pH98PKn4/n5vvVgsPn50jBoxquJtdLNYuG0x1Jh70PD4MV2aMT/2fDyefPzJ9PbYqx+XzlOThHZJZdVNVQw/WWKa7zlGxtef/ZQtR+zQoZrhHxusGO2XKvn0yw19Ne8C0TI7OVev8F6nmsVv6A/xRZ3iax3XpNE0TtR2iL23qr7qY1j/PqV9b/HWzWNC5XVcuI2bv2XpicK+w8uu8F96493S4UoTIx86MXbd9bA4odtr0ffXYttUZqYf/EkD+r6ZLUUsteZKVc/PFYvHEiuXvICR8dFX1Z18nva6/FPGD46vn707Op9zWOx3wH5xQMftsuH5DoxrvqviZHRNmVSrtL8kFSkNj7wj7j9/77TaJKmcTCtOrtsjliypOHnspXgj6yOpdF7Eg+Kkx79JK5mSyqdjTzsitmtb7Mt1+/4vnWftuJeLlUCl6jSOljv9J67ren1ccswRcVzHzdKKxE6HnxBn3/Z03H/KWqV9cf6XusZD5U+WlxtCsM3xJ041NOKMSkK7w857Pg3kkkraAy8/NNaearTUssqrpHLpmv1mbI62GTMshgwqXsRRZchf3qTxMfTzp+PBa86Iowv9bL9yQ47udnvZ/ioXso5Wa/z4GLX08XFz13Pj4M1WS/tZWo16/Y1x+KLFJyVDyT7zcbpYNGlwvHjGznHgzW/GN2NrZ8MvHh/7rbZAejycPOS1uOPoPWKvrl9NFfLWb7dznHDdXXFLWrm1e6FvbxxbHXBUHHPe7fH4nSfEVvOXVFw9H9f1KKl0LKgQ1J4fp81ElVcFybZy2NlpH0qOR02PvK7qYGpm+/dvv8Tg9BhSbqjdMcNi2MjicXfVNlMf+0rm1fx1kaZVzrNX3Vyb1RsX339VNrDqCgs2ner4k9waNl0ie0bEwOElJWwVj7FbrDJrt7FkKOD2VXzDa96ibPjhZZZeMu1PFS0QrZYoCe7GRXZdTkWN1omDTt8y22f1j4ev/F+FcHbq/Uk5DRpHk7TavrAG/qLjJgAAAMDf3UwHd7WbtsiWIhYYMGTGQ6ffx8eI4rnuGLhUq6g2Pyp3dXatSfGXVewMabFwNaFIYoFY44Jb44x15s9Oco2LSZ90j9tO7xTbpWHPh1MPqTdsWOmcPg2/ui2O222X2LXjrpVuR8dNpaHGDzG8/BBaM6V+zNti1VjrgNPj2vsfjy47t55m5cK03/OIGDWy5DL/6ucgq/YkX4N1Yr1Ni0OAzT2oW1x0/1eRTScX8duX8di192frp3502LCaOY9SrWORabyJsvmcIkbefkgV63jX2OHY+0urrJr9+EvZie7ljok7Ltm5dE6fZDi6z+65KI7doxjIPdavcm+biX7wJ40bW3ZafrlW1Yew5U/G1po0VUyamfa6nFm/Pn9GHLTL/nHk1XdH93f6x5DBQ2LwiOJnX2f+knWVP8kQrudWFWwvvmvsu1ox/Kw1/u34uLSLDYqXzjwjmxexfrQ68o544dr9Y6sNt48jr38mnrx4m6xab3h8cekx05xvsLL5Nj46DlupJHDtH+9+maU+5YYQHN/+8Dhzo2oqG6fXgHtL5/9KQrudrvq/KippK1ZebXjKPlNVLs1aY2P8b9nBYFoGPReX7bdTdDr+uri9xwfRr9DPSoYcndygaSzQIEs+c6dF7HrMltGq8jqss3hs13GV7M64eOWLkuqj4rxnl3+U7H/rx1w7XRL3354Mv7hF7HHhPfH4LUfGxk2T8G1cDHvgxDis+wwMN9h88zhsn7J9xZCPvs72h+WD2p3i0n//yRBp0rfxzFll20rz/aq5iOTP9O8xIwvfIaaj35QaGb8MKe6NKowSMKl/fPV5cm/paF7NFIjVK6sWTfS+aIepjj/JbevL386eEdF3aLHSteIxduloMz1DLM+A6RkJYe6ZqOQrUbfDoXHGptmdzIjtz5y6gq+yeeePFlm1PQAAAABVm/nTsYstVjoPSsOv+sWnJWUsM2Hu8SVzvORYncVjg7Pvi8fvvDBO2KJtNM6GySuGPafHgbucWcU8RTNiZIyYiVRyvUt6RI8eJbfH439dL4pzO/4r2s2XPWGWGD8TFWX1Y5WjLo+O6ZiM42LInUfF3lsXK2O23P2Y6PJFdsJ1szPjwn/9yTBiBtQfMapChcpcqxwS1zz8cPz3lN3KDVlYDOS6HL1HbHfzpxUrWv7yflC9sXmsTvjwijjqig/SICgJeVY6+Iq44bGyPvn0fcfHTuOreuEto9VSJeP0fRLfVTN/5fhBX2RLEau3mOGz6lNbZJHSCwEGrdA2qi4qahzzNy/ZoQ2O0gKZPg8X+m1xlzli+4vi+u0qVi/OtcrR5ar1hkePrs9NcwjYihaIlVZfPFsu7A1GFVP8EU8VhxBMXtPqazeLn95+L3qVu334wTdphVSi+eDPsvaP4vuqsttBD8WpR9yZhiRT6i0VG196QRzWtorJJce8V1p5NbLdZrHu6Pcr/M3k9skPJT83PL57v/h4z28qbCkz5o8ShsJr6nrSpfHS0GJfqrvu4fF/tz1V2s+ee/TeOHfDSpNxZZq0bpctRbw+sJqNc+h38UXd4mc7um3zmZiztbKW0XypkuNa9fP2lb8AprQaePizce/jxZ8dsezhccOhK1ccHrT1dnHKLWdmQxSPi+FdHq5YFfoH6q+4duk2ULo//LAkqI1o8a/lol7vip93r7f7Rv+sQr7eiH7R551eaXuV1clJGHfCoXFtuq3UjwU6XhnX7lH1RSR/qn8vtEgskQZA38WgkiyswQKxQONiYP7ZwEqB5qg347X3Ko9jWfDZ+/FC4bOfOO+qsfIs2MX8kZ/GVvVlaeaGw6xRk0bGd99V/NIy9zcD46c/ul6htFISAAAAgOoUz8TNjIU6xDrNS05MPh8PvD6D5WILLBCLZsMlNf9qQPUnuMvNSTWlTkQVp5mnYVyMHlWcZ26Wab5abH789fHgo/fFDcdvVK5a6/244dIeZe9jnnrRJDuZOmDj8+Px7ARz9bcrolP15W81YMFoukhxGM9kDrip57kpMSwGflPyqdSPbDq2okYd4oBLD4/15qkY3CTVMU1X3ioOurhb9DhxjT8131r9uctOB6/0n2eqWK8Vb29dveXU1Z11GsfCGx+YDlnY/fZzS4ejS/rPhEfPiOt6p3cqmt5+8Cc1bVp2xn+qE9HlDBlcFnCVzd33VxsXvbs/XHpifcHDrotLd2kfS07nn1+szUrZUvVzS/Uf2DdbilhqoZL5Lv+Epi1iiSy0mOZ+p1RZnx7Rr09plfDW61QxJ1xi8c1ju8WLJ+abfD4gygbR+2Pjx069D/2xf+/CWk6MjI9uPSPOOvc/FW6nd36ptLJ3gV63Z+3d4uWyKUiLktDu0GJlU7HS7rI4ddlqPqjfvosvhxX3m437/i8ur/Q3k9vNvUsCkMHxxjVnpm0de3yftc2oltE6mwexymF1E+88lQ25mIRZR8RNZ+4Qqy86nfv2cheZLPrNwKqHW/6+f+lxZljr5lUOozhjFozmrUsCmi/j2+koSW9csu/85st4Ows22my8etXV6I02ik03GpEu1hpf+P2VRmadpvHjY2TWj0uM+LZv6Xb880MXTvV5n3XuPaWvae5BT8d155yVtj/YP20qk4Z2+8VlaRhXrLS78YC21VZU/6n+XdhvN2qS7HdHxi9Ds4NtrBjrbV5c+unuO+Opkg+78Lrevv6mNKBLtHv1pXgluW4gqQy8/al0u26293bRIX10RjSJRo1Ljm8tYvtbqj7ulL8NPGL57Pnlf7b6ixfyati9J8a1XxWP/XM1KFYdJvOCnv7EH1SAlquULO3zAAAAAFTwJyKTxWOdbZplyxEDb72jeCJserVuH+vVLoYdDb96N96uplhj2Cc9sxN7EeOXa1vN0I7VDDM56cv4rNeMzlkzneo0jSW3ODWuufv0rPKh0on6xVeI9ScV31+L9z+LT4qLfyP1Y4ll22fLEc9++FW2VMmYj+PTT0sCgFVjpbKioYghSVhwXbzx+5Kx0dWPlZ64TKpj7r3k2Nh1lT+fVLZut262FPHS519nSzOvdsu10uHouu41f9YybpqB2R/2gz9pgWXXKQ2IBvb6qJo5Hr+NL94thhpJ5cpKbf+iPj+V8sPEtYh1Vq1iKLzhQ0ordSqrt+K6peH9V2+9M/V7m9Qner1Y8u7XjnVWKp7s/VMadIg1Vy/uqBp+1T2er/Jk+bfx+fslc3guVeUQdrO++nFYfN6nZA00jhXbVT8s6gwb9FCcc0T50O7/qq60qzFlAcbcg4bEwJIMppwRwwdnSxHzrLnG1MNOFtbfj4OqCSLLXWQy7ydvxMtVHGsGvP1s6XFm/dVXqjqUnSH1Y8XV186Wv4xH3yo3l1w5wz5/K1uKWKlVm2ypzF9RZTvui/dLw7BxK7StfpjqGTUpmZdv3wqhXXWVdrNGu1iuQzHw7/7RZ+m/idadLomO80+Iur89H9d3yqq8tzkgzn2lsLve9by4aKsphceejkt2TtoPTysDx7c/Li7dZma2ucax5HIl34MGx3tfzsgFTI2jeZuyPvt4r2qOsXn07R1xdrdihWsytOp/bj4jdmxYnDvx5y5nxo3TuiKisC1/k/W/lWdFFTUAAADAP9CfCO4iFtzmmNKTNcmJsMuOuC6e/qF4fyqTxsfIrwaUnZyvs3psvH3JGdpecfM9vWNE5ZOUgx6Ky/5XciKsTRyxRfl5d1pG6+VKKsJ6xoMvTB2ujHi8c/xvzCyouBv+Q3xfUlxYWaM20WbBKs6ulpvjre5v98cpXSoNuVjepOGzYH67Wa/JhtvFWtlcNE2f6BK3TxVyjIx+t1wVT2dVDD9vtlVsWW7UyxFvPZuGBYWVFM3mLgmWZrE1NywNzBZ46Oy4oHd187sVDC83v12Mi98GVzXOW9ECraoYRHFm+sGftcoWsXuD4ja1QK/b4pb3p35/Ix65KG7/qRig/b54p9i56vEf/wJzF7bjkm14cHw3VeJS6B/dbi2t1JnK4hvGrq2KcUny3m6u9NmV336HdVg/1pklI6o2jjW23iQLZvrHPVc/Ef0qherjnrmudH0O67B1bJUV+iVDLpYEOm/d16PK+Qwn9rov7u5fPBk/YtnWpUMujv/8tXivun1jYT390O3MuPzjYuA6cd5tYrNsV7fUse9VqNaZ6nbnQaXVZJ9uf2XWXq56N5kX7uQu8c64YmjX8aYr/ji0a75rXPLcsxX/TqXbdVuV7G/bx17dim1llUQzqnyAUXV12tyl/azQ0wYMKA3ZSkzsdUd0+ai6wLr8RSbJsabSvrhwnLnh6ZJDYYfYZNU/H9slaq+/Xem+aeKdV069/xz6RHS5v2TH3yF2Wjd7/Yu2Kf1Mf334oehZVTFq4TX/99ViJDal3tKx+ILpYsRvn8TrHwytdmjjcX3vjLNv+DK71zg6rl3saE12vnWqz7ji7fzYIxvydsSyx8UtWftZK6dNaWj37vlHls7Lt+BhXeLO6Qjt/lz/rh8rb7B5uk226PFQPFHyoSaV3l1uihM3aF0672Gd+VeLdU/qHPcetGaselSXOGP95unPTanXONpsfWbcfFkVcxBWMCyGVXNh0gL/2jUbHrfQNzufO82hkif+MqpC3229zvallfkLPNQlrvmqivGyJ42MAQPLHasGvRrXn9Ip9j72ivjfVPOwzgaT+sQ9p98dX6cVqk1j4xP3jTWarRUHnbJx9l76x0Nn3hnvV3Ox0uTv+5dWLi/RYhZeoAAAAADwD1Ln3IJsecbVaxUrL/lTPPfiN/F7rYgpo/rFu4/fG/c9/Xl89/MX8fF770Wvtx6Pu265NW6++Y64r/tcsdzeq5WezJ532VYx/KHXot+U2lGn7wvx4Bv94rfCcu1fPo83H7ojrr7uqeiXBj8RE7b/T5y3SbMkKsg0icYjn41HspP9v/d6Ol4eVCfqzjUmRn/6ctx743/imh7DY0q9ejFpUvGEY+tN944Nyl/gPfituPulb9LFoe22iBNWL6sgrODTm6PjwZfGQ598H6N/nxjjo07MV+/3GPzFu/HGrVfEbV+Mj+QvjF5zlzhyo9ZRPP1aNxZZbpH47rG3YsCUWoX391zc/96QQnP9mDB0UAz+fnD8+Okr8WC3a+OKa+6IgSt1qvjapmH4O7fGM18Vh6qb6j39kel9z4kG7WKFWt3jkT5jo9akn+LTHo/H28mV9IV1PKTXs/HwDefG9e8U120SChx25v6xSrlwpf6U/tGjR79C3yj87NP3xt13313p9mA8+t4XMaxp+1h90fIn3QdF7/++FJ+klVrLxgbl+sxU5lo8VmrWOx7tObTwGYyJAS88WtoPRnxfXM+fvXFfdLvu8ri66/hYsvR3/Rhvnb5bHH3nO/HxD6NjXPIJ1mscDYf1iz5vPxyXXv98/DyxeGJyzU6dYr3k/OJM9YNpG/f5k/Hg+8Uh7xqssUvs0q7SHEy1F47lFvkmHn7j++L7e+nReP7rMVGrVuFe35fjoTsviyufHJKdDG4aG512QuzUvHxYPQPrcobNE41HlG2DP7z3bvy6QNtYqNmoGPbWq3HflafGNe/WjXr1Jha2wWRdVv7780fbVj9HjxeS/ceY+O61pwv9a3xM/L1/vH3XpXHRE4NK39fWp50UW/zROd5Rn8ULj34QQ2rVinELrRW7blnNEH2LLR0Lv/dYvDmssF3+9F48++JXMXD8hGgw9JN4/rYL4vxHvyv9u5sef0JsvXB2lnnhxjG5e/f4eGydws+9HY/2Gh5N5mkQteeZEiO/+iw+ePa6uPimN2PI5GK/2eSkY2O77LMY/foFccTZXeL+J16MD74ZHP36vBvv9XqvcHspHrrs6ril8LuKW1LT2OC8M2OPRabzgoNy73mq7XnIc3HZSZfFS8OLv6te2xWjzbAPs79b1W1QTFpm2Wg1HblV2T6oWay48+ax0vR09mmYd9TXcfcbSbI1LOZaYa/YrHW2zjN15hkVPR/vHb8U3ue8374VL4xdKJZu1jzGD3413u52cZx0a+8YV7/6ff08Sy4W4597Lj5NPru+r8ajvb+PsWNHx0+v3BZXXftUfDG+eJwZ3fGMuHLtPxqSdTq3qcK+adlGr8cTvUYUXley/3wpPh06ttC3fopvnr4lLrn8ifgkO76N2+nEuGDdZoWjRkGjhaPJZw/Ey0MKx8Xfv4jXX/sqfm/YOOrXn6/wfj+I3oX92dUXPRifpq+5fixw2OlxfMl+49fX4qYjz4qrH34invnouxjSr3fp5/v6fRfGFd0+ikFp/0yOqRfH5VuXP6ZOS9l7nnrbGhTvnndUnP1OMUSa1GiJWKPZ0PT4X7F/ld361l8xVlp4Ovr4tPp3YtEFi9vk6MHx6qj2sfNazYvvZ+4FYsn1t4td9ugUe++9d+y16ybxryXmKz5We/5YbIMdY89Ce6c9O8a2ay4WC1TsbqWGv/dAvDk8uejku3jn/cL23rBOjBryUeH7yXcxZa0lCr2/YN4VYoXf748nv5iSHic/6v5SfDxqrqgz4dcYXjj+DP6+b3z0XOEYdMml8Z8PmsdW5dfdwm1jseyzjkK/+Kr7Y4X9+08xcsJcMfS9h+K5Jx+Oq6++Ls6ZuE723sdF7+v2jhvfmxS/D/sm3v64cayzw3JRumucjuP7Hx5zCqr/jjEuvrzxkLj04+IK+33Lc+KaHRdN12vtRVeO5Yc8GM9+W9hef/8knvl9ldizQ9any/nqqQsLvztZp+1jw4MK+448Ff8CAAAA5EStKQXZ8kwb1/e+uOiUO9KqjmnbOc7scUisn91LpRUhZSeXp1Y/Gm9wclx12npTXxE/pk88cPzJ0bXyPDuZ2s13iouPnBgXnvVkeoX3epeUqxBI9LoitjzrhXQxuZq/2oqRcs+rzviFNogTLzsjtlkkayjxh++vaKrXNg39rl09jn6meKpuRn4uNb3vudTIGHDzsXH0o4OzMGNqkxssFdtedHkcU3nOrEnDo2+3M+M/931beoV91epHnV0vikcOKpk37N24c+Mz4/56SfVGFX2mCr8+f0YcdcUHpfM0Va387xoULx3177gsm6OnavVjgY5Xls3R9Gf6QTVGPHJwdLxlYLrc9Mh74t7tqk6n/uj9TanXIpY9/rK4ZqOS0psSM74uZ8ioXtH14FNL5x+rqLj+bmh1Y+xxZTKUXdV/P1kHnQrroOr+VT8WPaZr3Lb1H6V2BUMeitP2uTV6166VVgXdX9V8hiVGfRnd/+/I6JxWCFWlmr87Xdvz1D9b/nOuTvWf4TSUe89Tbc/T0V8rSqrnpm+uzbJ90PT/zDT99mxctOuV8Vqd2vHzZufHmyeuUViL5Y0s/M1/F/5m1SWvk9ruHleduWg8uc/l6e+ocr9Ybp6/qoxZ7bi4+//+qPIqMSPb1MgY/MBZcXjXvtXuP6v8u6M+iW4nnRT3VHNsK6ofc+10Udx96PJlQVC5/lC9aRxTq1X2nqfetsqvj+kzrX1dBdPq3yU+vCL2Pu2F4r5xs7Pi1uOn830lGe8fvOSJhW1ovzOz311B5c/9j4+TiSr3S9PxWZe995Hx7ulbxdkfFq+QGdvyoLjl9l2jtMh6Oo7v03PMqe47Rvn1kVQGn3XH0bFh+dxv1MvRueNF0T2dGLRp4We7Fn62/PeCj+PenU6Iu8bUjd8XPyJuu2n7stcOAAAAQKnpPm03LfXb7RnnPXJ/3Hrq3rHZiguVDk9VVD/mbdE2VtjlmDjnxt2nPsHZcvM4pdtdcdVhG0eHReYrPVk7uUHTaL12xzjsuvvjwTOqORHXYIXoeEPXuGzf9WL1ZvNkP1s/Giy8amxwxOVxc9dDY6X2y5XONTfTVjmg9L21aFIWUCTDbC3Ybs3YrvC3/vvfasKa9P09UPj53WKtpZpF43pl66Zuk0XS93jIeTfFYStmjbnTOFof2jX+d9OJse8abcq9/+J6XuuAi+L2h6+bOrRL5tXaeY849v5v49d52sTKW28f2+2wXbnb5rH2Yg2yz2xcTHrooejxJ4YLnW+zi+Lu+66L/+y5cizVrGFpPyq+zqr6X8vY8PSr4ridVomlWpT1u0Sd+ReJ9hsdEMfcfF/cUxLaJf5MP/iT0vf33wvjhC3axyLzl/3tOvMvVXhvJ8W193SdscBnVsmGpTu98LpKtvtkfTRdeat0203W33xtVyidy64qyTB9D1x7dGxbWK8l20dx+987/QymK7SbUY2Wjq0veiT+e0qyXTYp/fyTbTL57M+86/Gq/26123NZPzu/ip9tssOlpX2n/OdX3D8m29HpcVNNfYZ5MO86sWmH4liEC7z6erw0VfrROJY66t647biNYo15S0LT4j5o3ZNujoev3T9WWKRttF+kuuFIC1ruGpfec33aV8vvxxoWtt2dTr89njx/ekK7GdU4WnS8tnT/WXEb2SQ6ntctXr2wir/bqH10uuGJuOfCQ9Ptovwxtfz+6cnyoV2i+a5x5o0nxcH/WiGaT2O/Vu0x9e9olZPitjPWigWTVfT8BXHgLofFCd1eiE++/73ikKFjRsXYAZ/Ga4/dEVcWtvsVbv40e6B6dTucFLd3PiQ2r7SPaL1221g4u19UPE4+evvU++iybfzEuPmUTae+mCD7rO8959/p/mHqfcpJ8XynkgCucay81z6xzNyTC/vINrHWvhvOvuBrVK+468pnshCzcax1ysEVQ7tEo43iyFPXzdbV8Hjpyv9WHOq1zyvx2O/F7bfxZqsL7QAAAACqMUsq7qCCZA6cvY6Lbr/OFb8vvk/cdMO/Y/lqThIPuGnTOOTx4om8Ga4eBP45Xj8ndrjwnbRiaZGTHoo7Np0lkxoypxjwZFxz3k3RY9D0XagzfRXnzDrj4sNLtozTX6kfU+qtHUd2Oye2r5A6AwAAAFDin3LNPXkyoFe8/EsxjFt06y2qDe0S8y28eLZUP9LRtYA50/qHxLFti/Okff1wj+j3JwulmcO03i6Ou717PHj9eVkldfMKFe5JFW/zFqvGunscHefc+L/46lCh3Ww15Mn430v10sXfd9xLaAcAAAAwDSrumPW+vSMOOuz++L5WrRi26/Xx3kFtswcqmTQ4njl2z7g2nWduszj28RNjq/JjuwFzls86x97Hd4+fa9WPxU69J27eSNUd/P2NjN4Xbh+nvV4/xi+0U1zY5dBYu2H2EAAAAABTUXHHrNe6Q2w8T3FyoQUeOjtOffiD+PKn0TFyfMSEUaNi1Ij+8fWzXeP/9js4C+0i6u33b6EdzOmWOyZuPLRV1I9x0f/qK+OJ37J24G9rYq+b44rXkgN809j4xH2FdgAAAAB/QMUdf4nxn1wXp5z2VHwxsVbWUp36Md/eV8bNe7cNI2cBAAAAAABzMsEdf53f+scbz9wTPZ7tE31++DXGZc11mywS8y3SOtbeZIfYdINVo9182QMAAAAAAABzMMEdAAAAAAAA5IA57gAAAAAAACAHBHcAAAAAAACQA4I7AAAAAAAAyAHBHQAAAAAAAOSA4A4AAAAAAAByQHAHAAAAAAAAOSC4AwAAAAAAgBwQ3AEAAAAAAEAOCO4AAAAAAAAgBwR3AAAAAAAAkAOCOwAAAAAAAMgBwR0AAAAAAADkgOAOAAAAAAAAckBwBwAAAAAAADkguAMAAAAAAIAcENwBAAAAAABADgjuAAAAAAAAIAcEdwAAAAAAAJADgjsAAAAAAADIgVpTCrJlpmHChAnx0EMPxbvvvhvnnntuzDvvvNkjEckqfOWVV+K+++6L3377LZZffvk49NBDY+GFF86eEdGnT5+45ZZbYsiQIbHEEkvEAQccEO3atUsfmzRpUtx7773x9ttvx9JLLx2HHHJINGjQIH2sZ8+e0b9//9hjjz2iVq1aaRsAAAAAAAD/PCrupkMSxl111VUxaNCgqFevXtZa5vPPP48XXnghzj///Lj//vtjiy22iBtvvDFGjhyZPj548OC4++6745hjjokHHnggDjrooOjatWvanujbt2+MHTs2OnfuHK1atYp33nknbU9+/q233opNN91UaAcAAAAAAPAPJ7ibDh9++GGsvvrqseuuu8Zcc82VtRYl1XZJuLbJJptE8+bN04Bt5ZVXjrnnnju+/vrr9Dm9e/eO9u3bR9u2bdPHk3+XWmqptD3x/fffR8uWLaNOnTppNV6/fv3S9tdffz2WXXbZWGihhdL7AAAAAAAA/HMZKnMGJENW3nbbbXHyySeXDpWZVMpdc801sf3228dyyy2XtiWSirokyNtqq63SITKTYTE33HDD7NGI5557Lr777rs4+OCD0+WJEyfG1ltvnYZ5H3zwQWy33XZx1113pcNmNm7cOPupqiWvIbkBAAAAAACQD02aNInatWeshk5wNwOqCu6SYTQvv/zydPjLNm3apG2J7t27p0Nr7rPPPukwm0mAl1TilUgCumeeeSZOOOGEtDLv5ZdfTufFe+KJJ6Jp06bxww8/xKKLLhoDBgxIK/patGgRRxxxRMw///zZbyjz5JNPpnPvNWgwT9bC7DZ53NgYP2xYUoKZtTBHKex46y2wQNSuVz9rmM2mTI4JhX3RpNGjswbmNLXr1496Cy5YWKqZYZWTfWDSB6dMmJC1MCepVbtO1G3SOOo0bJS1AAAAADB8+LA466yzYr755stapo/gbgb8VcFd3bp107nxevbsmQ6hufnmm6dVeMnwm2+++Wb6u1999dW0qi6pyqssCe4aN24Sa6+zTtbC7PbbBx/EV5dd6qT1HKp2gwax1OlnROPll89aZq8ksPu+W7cY+vxzWQtzmsbtV4h2551bWKqZ4O633h/GwDvvjLEDB2YtzEnqFr6DtNh992hW+K4DAAAAQNGVV1wRRxxx+AwHd+a4+5OSueySUsfff/89aykaMmRILLLIIlG/fv1YcMEF49dff80eKfrpp5/Syrp69eqlc9vttddecf3118dRRx2Vzm232WabpcNnlsx9lwy7mfxOAAAAAAAA/pkEd39SErwlAVz5UG3ChAnxyy+/pENdJpLwbeDAgVFS3Jj8++OPP0arVq2iVq2K1RF9+/ZN/03mxEuMGzcu/XfSpEkxefLkdBkAAAAAAIB/HsHdn5QEb+uss068+OKLMXTo0DSU++CDD2LEiBGx5JJLps9Jhsj85JNP0rnskse/+uqr9H75oTMTSUj3/PPPp0NlJlV2jRs3Tue6S4LA5Hcn89wBAAAAAADwzyS4mwWWXXbZ2HHHHeOcc86JPfbYIx577LE48MAD0+AtkQRuBxxwQNx6663RsWPH6Ny5c+y9995TBXFJ4NesWbNYbLHF0vvJnHkLL7xwOnxmMv/d2muvnbYDAAAAAADwz1NrSsn4jfxtPfnkk9G4cZNYe511shZmt98++CC+uuzSmDJhQtbCnKR2gwax1OlnROPll89aZq9Jo0fH9926xdDnn8tamNM0br9CtDvv3MJSxeGXZ5ffen8YA++8M8YOHJi1MCepW/gO0mL33aPZVltlLQAAAABcecUVccQRh8d8882XtUwfFXcAAAAAAACQA4I7AAAAAAAAyAHBHQAAAAAAAOSA4A4AAAAAAAByQHAHAAAAAAAAOSC4AwAAAAAAgBwQ3AEAAAAAAEAOCO4AAAAAAAAgBwR3AAAAAAAAkAOCOwAAAAAAAMgBwR0AAAAAAADkgOAOAAAAAAAAckBwBwAAAAAAADkguAMAAAAAAIAcENwBAAAAAABADgjuAAAAAAAAIAcEdwAAAAAAAJADgjsAAAAAAADIAcEdAAAAAAAA5IDgDgAAAAAAAHJAcAcAAAAAAAA5ILgDAAAAAACAHBDcAQAAAAAAQA4I7gAAAAAAACAHBHcAAAAAAACQA4I7AAAAAAAAyAHBHQAAAAAAAOSA4A4AAAAAAAByQHAHAAAAAAAAOSC4AwAAAAAAgBwQ3AEAAAAAAEAOCO4AAAAAAAAgBwR3AAAAAAAAkAOCOwAAAAAAAMgBwR0AAAAAAADkgOAOAAAAAAAAckBwBwAAAAAAADkguAMAAAAAAIAcENwBAAAAAABADgjuAAAAAAAAIAcEdwAAAAAAAJADgjsAAAAAAADIAcEdAAAAAAAA5IDgDgAAAAAAAHJAcAcAAAAAAAA5ILgDAAAAAACAHBDcAQAAAAAAQA4I7gAAAAAAACAHBHcAAAAAAACQA4I7AAAAAAAAyAHBHQAAAAAAAOSA4A4AAAAAAAByQHAHAAAAAAAAOSC4AwAAAAAAgBwQ3AEAAAAAAEAOCO4AAAAAAAAgBwR3AAAAAAAAkAOCOwAAAAAAAMgBwR0AAAAAAADkgOAOAAAAAAAAckBwBwAAAAAAADkguAMAAAAAAIAcENwBAAAAAABADgjuAAAAAAAAIAcEdwAAAAAAAJADgjsAAAAAAADIAcEdAAAAAAAA5IDgDgAAAAAAAHJAcAcAAAAAAAA5ILgDAAAAAACAHBDcAQAAAAAAQA4I7gAAAAAAACAHBHcAAAAAAACQA4I7AAAAAAAAyAHBHQAAAAAAAOSA4A4AAAAAAAByQHAHAAAAAAAAOSC4AwAAAAAAgBwQ3AEAAAAAAEAOCO4AAAAAAAAgBwR3AAAAAAAAkAOCOwAAAAAAAMgBwR0AAAAAAADkgOAOAAAAAAAAckBwBwAAAAAAADkguAMAAAAAAIAcENwBAAAAAABADgjuAAAAAAAAIAcEdwAAAAAAAJADgjsAAAAAAADIAcEdAAAAAAAA5IDgDgAAAAAAAHJAcAcAAAAAAAA5ILgDAAAAAACAHBDcAQAAAAAAQA4I7gAAAAAAACAHBHcAAAAAAACQA4I7AAAAAAAAyAHBHQAAAAAAAOSA4A4AAAAAAAByQHAHAAAAAAAAOSC4AwAAAAAAgBwQ3AEAAAAAAEAOCO4AAAAAAAAgBwR3AAAAAAAAkAOCOwAAAAAAAMgBwR0AAAAAAADkgOAOAAAAAAAAckBwBwAAAAAAADkguAMAAAAAAIAcENwBAAAAAABADgjuAAAAAAAAIAcEdwAAAAAAAJADgjsAAAAAAADIAcEdAAAAAAAA5IDgDgAAAAAAAHJAcAcAAAAAAAA5ILgDAAAAAACAHBDcAQAAAAAAQA4I7gAAAAAAACAHBHcAAAAAAACQA4I7AAAAAAAAyAHBHQAAAAAAAOSA4A4AAAAAAAByoNaUgmyZv6knn3wyGjduEmuvs07Wwuz22wcfxFeXXRpTJkzIWpiT1G7QIJY6/YxovPzyWcvsNWn06Pi+W7cY+vxzWQtzmsbtV4h2551bWKpVbJjNfuv9YQy8884YO3Bg1sKcpG7hO0iL3XePZlttlbUAQJlf3303vrnm6ojJk7MW5iR1GjWKtqefHg2XbJu1AADMOa684oo44ojDY7755stapo+KOwAAAOAvMWXy5Jg8fnxMnjDBbQ68pRe3Tna9OADAjBDcAQAAAAAAQA4I7gAAAAAAACAHBHcAAAAAAACQA4I7AAAAAAAAyAHBHQAAAAAAAOSA4A4AAAAAAAByQHAHAAAAAAAAOSC4AwAAAAAAgBwQ3AEAAAAAAEAOCO4AAAAAAAAgBwR3AAAAAAAAkAOCOwAAAAAAAMgBwR0AAAAAAADkgOAOAAAAAAAAckBwBwAAAAAAADkguAMAAAAAAIAcENwBAAAAAABADgjuAAAAAAAAIAcEdwAAAAAAAJADgjsAAAAAAADIAcEdAAAAAAAA5IDgDgAAAAAAAHJAcAcAAAAAAAA5ILgDAAAAAACAHBDcAQAAAAAAQA4I7gAAAAAAACAH/tbBXe/evWO33XYrve27777x3//+N0aPHp09Y/bo379/HHDAARVey8UXXxzjxo3LnhHRp0+fOProo9PHTj311Ojbt2/2SMSkSZOiW7duceSRR8a1114bY8aMyR6J6NmzZ9x3330xZcqUrAUAAAAAAIB/or99xd2qq64ad999dzz44INx5ZVXxs8//xx33XVXGobNLr///nsss8wypa8juZ1++ulRv3799PHBgwenjx1zzDHxwAMPxEEHHRRdu3ZN2xNJiDd27Njo3LlztGrVKt555520feTIkfHWW2/FpptuGrVq1UrbAAAAAAAA+Gf6Rw2VueCCC8b222+fVsCNGjUqbfviiy/SEG2PPfZIbzfffHNpRVtSxfbSSy/FIYccUlqx99BDD8XEiRNjwoQJ6XLSljyWPOfFF19Mf66y8ePHx/zzz18a1FWWVAa2b98+2rZtmwZwyb9LLbVU2p74/vvvo2XLllGnTp1YYoklol+/fmn766+/Hssuu2wstNBC6X0AAAAAAAD+uf6Rc9wlAVhJhdoiiywSJ598ctx///3pcJRJIPfyyy+nj33zzTdpcJcMa5lUyd12222x2WabRd26dePDDz9MA7QuXbqkjyVDWK611lrpz1WWVMtVJwkHBw4cmFbSlbym5N/WrVvHoEGD0vuVJa9/6NCh8fnnn8f666+ftQIAAAAAAPBPVmvK33jytKRi7ZlnnokTTjgh6tWrlw6Tecstt8Tiiy8ee+65Z5XDS3bv3j0NzA4++OA0mLvjjjviuOOOi2bNmmXPKHr77bfjhRdeiOOPPz4aNmyYtVbtueeeS+fWS4bnTFbnYostFrvvvns6jGdSjXfVVVfFVlttFSuvvHL2ExVf+9dff52GiYceemg88cQT0bRp0/jhhx9i0UUXjQEDBqTDZbZo0SKOOOKItLKvsieffDJ9/x1WXz1rYXYb9dFHMfCaa2LKxIlZC3OSWnPPHa0L23LDZZfNWmavSaNHx4//eyB+ffmlrIU5zTyFvtfm9DMKnTFrmM1GffxxDLnnnhifDQHNnKVOo0ax0M47R9PNNstaAKDMiPd6xffXdU6uas1amJPUbtgwFjv55Giw5JJZCwDAnOOmG2+Ko446Muabb76sZfr87YO7Cy+8MLsX0bx589hxxx1jgw02iLnmmittSwKwpNouGT4zMXr06FhzzTXT4C4J2pLw7JFHHom11147tt122/R3JIHfuHHj4p577imdY27zzTdPA7WqJKswqeRLwrNk+ZNPPkmr95I57ZLw7Y+Cu6TCL3mNPXv2TIfQTP5WEgZusskm8eabb6Zz4r366qtpZd/WW2+d/YYySXCX/I7VVlsta2F2G/3xx4X/jF4XUwr9gDlP7bnnjkWPOy7mWWaZrGX2mvz77/HTgw/Gr1k1MXOeJLhrfeqp2b3Zb3SfPvHjffcJ7uZQdRo3jgUL37/mL3xvAYDKRr3/fnx//fWCuzlUnYYNo9WJJ8bcSyyRtQAAzDmSQrOjjjpqzgvuSsKvquaXGzx4cFx66aWx9957R4cOHdJArnzFXYkkzHvttdfi0UcfTYfK3HnnndPhKhPDhw+PZ599Nh1S89///ndstNFGafu0JKs0+UCS4TGToO3WW29NA7kNN9wwe0axSu/bb79N584rXxmYhIm33357rLfeemm1XjL/XRIofvbZZ2kV4AEHHJA9s0wS3CWVeMnPUDN+6dUr+l58cUwW3M2R6jRoEMv85z8xb/v2WcvsNXHUqBhw110xpEePrIU5zbwrrhjL/9//FY7qNVNy9+sHH0T/wrHr94EDsxbmJHM1aRKt9twzmm+zTdYCAGWG9+wZX1xyieBuDlW3UaNY7txzo9HSS2ctAABzjmSatsMPP3yGg7t/5Bx3JX766ae0gm7FFVcsDcd++eWX9N/ykqEwk4q4c845J/r06ROjRo3KHom0yi4ZdvPYY4+N9957L63E+yOTJ09OK/CSKrhEy5Yt03nuSjLS5N8ff/yxwrx3Jfr27Zv+265du/Tfkr+XBHrJ7wUAAAAAAOCf6R8d3CWBXFIxl9ySsCyZ0+6dd97JHo347bffYtiwYeljyS2pbkuCtCRwGzp0aIwYMSJ9XvJYUh2XVPXVrl1xlSUB3UcffVT63CRgS4a3TP5W+6z6JhkiMxk+M5nLLvldX331VXq//NCZiSSke/7559OhMpOKv8aNG6dDfSZ/I3k9yTx3AAAAAAAA/DP9o4O7JZZYIp3P7uSTT06r5pLhLvfZZ5/SYTCT6rtkKM099tgjvT322GOx//77p4FfEuKdeeaZsdtuu6U/mwRtyZCbJXPnlUiCvKSa7qSTTkqfu++++8Ybb7wRp512WmnQlvybDHGZDJnZsWPH6Ny5c/q7KgdxH3zwQTRr1iwWW2yx9H6bNm1i4YUXTsdATea/S+bhAwAAAAAA4J/pbz3HHUXmuKt55ribs5njjppmjjtqkjnuAJgWc9zN2cxxBwDMycxxBwAAAAAAAH9jgjsAAAAAAADIAcEdAAAAAAAA5IDgDgAAAAAAAHJAcAcAAAAAAAA5ILgDAAAAAACAHBDcAQAAAAAAQA4I7gAAAAAAACAHBHcAAAAAAACQA4I7AAAAAAAAyAHBHQAAAAAAAOSA4A4AAAAAAAByQHAHAAAAAAAAOSC4AwAAAAAAgBwQ3AEAAAAAAEAOCO4AAAAAAAAgBwR3AAAAAAAAkAOCOwAAAAAAAMgBwR0AAAAAAADkgOAOAAAAAAAAckBwBwAAAAAAADkguAMAAAAAAIAcENwBAAAAAABADgjuAAAAAAAAIAcEdwAAAAAAAJADgjsAAAAAAADIAcEdAAAAAAAA5IDgDgAAAAAAAHJAcAcAAAAAAAA5ILgDAAAAAACAHBDcAQAAAAAAQA4I7gAAAAAAACAHBHcAAAAAAACQA4I7AAAAAAAAyAHBHQAAAAAAAOSA4A4AAAAAAAByQHAHAAAAAAAAOSC4AwAAAAAAgBwQ3AEAAAAAAEAOCO4AAAAAAAAgBwR3AAAAAAAAkAOCOwAAAAAAAMgBwR0AAAAAAPC3MGDAgLjgggti1VVXjVq1akWbNm3i0EMPjYEDB2bPKJoyZUq89NJLsemmm6bPW2aZZaJz584xZsyY7BlFb7/9dmywwQbp77n55ptj4sSJ2SMRkyZNiosvvjhuvfXW9PfB7CC4AwAAAAAAcm/YsGFx8sknx+TJk+Ouu+6Kn3/+OV544YVo2LBhHHDAAfHDDz9kz4x466234oQTToj99tsvfvrpp/T5Tz/9dFx//fVpIJcYMWJE3HjjjXHuuefGO++8Ey+//HJ88skn6WOJTz/9NPr06RM77LBDGv7B7CC4AwAAAAAAcm+BBRaIe++9N84+++xo3759er9t27Zx7LHHxu+//x7ffPNN+rykqq5bt26xzz77xF577RULLbRQrLHGGnH55ZfHM888E1999VX6vMGDB6ch4CqrrBILL7xwrLnmmmmAlxg3blz6O3bfffdo1qxZ2gazg+AOAAAAAAD4W6hTp062VGb48OHpv/PNN1/6b1Jh9+WXX8a//vWvCpVyiy22WBr29e3bN72fVPA1atQo5p577vR+EtAlP5tIArxffvklNtpoo/Q+zC6COwAAAAAA4G9j/Pjxaej2448/xqOPPhpHHXVUHHLIIdGuXbv08d9++y2tpEtCufIaNGgQrVq1SofAnJZkCM1kaM0tttgiTjrppLQaL/n9Q4cOzZ4Bfx3BHQAAAAAA8Lfx3nvvxYILLhjNmzeP//u//4uOHTvGtttuG3Xr1k0fHzlyZMw111zRtGnT9H6JevXqxfzzzx8TJ05M7yfVd6NGjYqxY8em95Nqu6TqLpnrLvndSSVf69ato3///rHkkkumQ2dOmTIlfS78VQR3AAAAAADA38a6666bBmhJVV337t3TgC0J7vr165c9Y/ok1XfzzDNPfPjhhzFkyJB466230qDukUceiV133TVtT4bKTCr1ttpqq3SIzSTog7+S4A4AAAAAAPjbSeavSyrjkuEsl1pqqXjqqafS9qSSLlEy912JZIjNZN66ksq8hg0bxmGHHRYXXXRRrLXWWrHxxhvHJ598Equuumosuuii6ZCbSWVfon79+ukQmsnvgL+S4A4AAAAAAPjbSqrmkqCtpBquSZMmUadOnamq48aMGRMDBw6MJZZYImuJNKR74YUX0uEwk+Du3XffTavtklAQaoLgDgAAAAAA+NsaNmxYfPrpp9GiRYv0flIlt9xyy8Wrr75aYU66b775JgYPHhzt27fPWsok897dddddseOOO0bLli3TMHDeeeeNn3/+OX183LhxaSCYzJMHfyXBHQAAAAAAkHtJ8HbppZfGm2++GUOHDk0Du6RC7rjjjksr5JJ57hJJuPbvf/87DeLuueee9LnJ80477bTYfvvto127dunzyuvdu3dajbf11lun95N57VZfffV4+eWX00q9Z555Jv25Ro0apY/DX0VwBwAAAAAA5F7Tpk3Tf5M57Zo1a5ZW1iVz1K244opx6623xsILL5w+nlhttdWiS5cu8b///S997j777BPbbLNNHHPMMaVz3JVIgrnbb7899t5775h//vmz1og99tgjnROvTZs28fXXX0enTp0MoclfTnAHAAAAAADk3nzzzRennnpq9OzZMx0CM7l98MEHaSXdQgstlD2rKAnY1lprrXjyySfT533xxRdpaJdU0lWWtN10002x+eabZy1FDRs2jCuvvDJ+/PHHuOWWW6b6G/BXENwBAAAAAABADgjuAAAAAAAAIAcEdwAAAAAAAJADtaYkg7vyt5aM0ZtMmLneeutlLcxuv/TqFX0vvjgmT5iQtTAnqdOgQSzzn//EvO3bZy2z18RRo2LAXXfFkB49shbmNPOuuGIs/3//lwzenrXMXr9+8EH0v/32+H3gwKyFOclcTZpEqz33jObbbJO1AECZ4T17xheXXBLh1MMcqW6jRrHcuedGo6WXzloAmJ1+798/xv/6q+PwHGqueeeNuVu0iDpzz521MLtdfPHFcfjhh6dzM84Iwd0/gOCu5gnu5myCO2qa4I6aJLgDYFoEd3M2wR1Azep31VXx8+uvx5RJk7IW5iRN11orFttnn2iw6KJZC7PbzAZ3hsoEAAAAAACAHBDcAQAAAAAAQA4I7gAAAAAAACAHBHcAAAAAAACQA4I7AAAAAAAAyAHBHQAAAAAAAOSA4A4AAAAAAAByQHAHAAAAAAAAOSC4AwAAAAAAgBwQ3AEAAAAAAEAOCO4AAAAAAAAgBwR3AAAAAAAAkAOCOwAAAAAAAMgBwR0AAAAAAADkgOAOAAAAAAAAckBwBwAAAAAAADkguAMAAAAAAIAcENwBAAAAAABADgjuAAAAAAAAIAcEdwAAAAAAAJADgjsAAAAAAADIAcEdAAAAAAAA5IDgDgAAAAAAAHJAcAcAAAAAAAA5ILgDAAAAAACAHBDcAQAAAAAAQA4I7gAAAAAAACAHBHcAAAAAAACQA4I7AAAAAAAAyAHBHQAAAAAAAOSA4A4AAAAAAAByQHAHAAAAAAAAOSC4AwAAAAAAgBwQ3AEAAAAAAEAOCO4AAAAAAAAgBwR3AAAAAAAAkAOCOwAAAAAAAMgBwR0AAAAAAADkgOAOAAAAAAAAckBwBwAAAAAAADkguAMAAAAAAIAcENwBAAAAAABADgjuAAAAAAAAIAcEdwAAAAAAAJADgjsAAAAAAADIAcEdAAAAAAAA5IDgDgAAAAAAAHJAcAcAAAAAAAA5ILgDAAAAAACAHBDcAQAAAAAAQA4I7gAAAAAAACAHBHcAAAAAAACQA4I7AAAAAAAAyAHBHQAAAAAAAOSA4A4AAAAAAAByQHAHAAAAAAAAOSC4AwAAAAAAgBwQ3AEAAAAAAEAOCO4AAAAAAAAgBwR3AAAAAAAAkAOCOwAAAAAAAMgBwR0AAAAAAADkgOAOAAAAAAAAckBwBwAAAAAAADkguAMAAAAAAIAcENwBAAAAAABADgjuAAAAAAAAIAcEdwAAAAAAAJADgjsAAAAAAADIAcEdAAAAAAAA5IDgDgAAAAAAAHJAcAcAAAAAAAA5ILgDAAAAAACAHBDcAQAAAAAAQA4I7gAAAAAAACAHBHcAAAAAAACQA4I7AAAAAAAAyAHBHQAAAAAAAOSA4A4AAAAAAAByQHAHAAAAAAAAOSC4AwAAAAAAgBwQ3AEAAAAAAEAOCO4AAAAAAAAgBwR3AAAAAAAAkAOCOwAAAAAAAMgBwR0AAAAAAADkgOAOAAAAAAAAckBwBwAAAAAAADkguAMAAAAAAIAcENwBAAAAAABADgjuAAAAAAAAIAcEdwAAAAAAAJADgrvZpE+fPnH00UfHbrvtFqeeemr07ds3eyRi0qRJ0a1btzjyyCPj2muvjTFjxmSPRPTs2TPuu+++mDJlStYCAAAAAADAP5HgbjYYPHhw3H333XHMMcfEAw88EAcddFB07do1bU8kId7YsWOjc+fO0apVq3jnnXfS9pEjR8Zbb70Vm266adSqVSttAwAAAAAA4J9JcDcb9O7dO9q3bx9t27ZNA7jk36WWWiptT3z//ffRsmXLqFOnTiyxxBLRr1+/tP3111+PZZddNhZaaKH0PgAAAAAAAP9cgru/WDLE5cCBA9NKupKqueTf1q1bx6BBg9L7lSUB3tChQ+Pzzz+P9ddfP2sFAAAAAADgn6zWFJOn/aXGjRsXV111VWy11Vax8sorZ63FKrxnnnkmTjjhhPj666/j5ZdfjkMPPTSeeOKJaNq0afzwww+x6KKLxoABA9LhMlu0aBFHHHFEzD///NlvKPPkk0+mv2PhhRfOWpjdxv38c4zo0yemTJ6ctTAnqVWnTsy70kpRr4rtc3aYPGFCjC7sA8ZUczEA/3xJ35tvlVWSK0Oyltlr/LBhMbJfv5g0enTWwpyk9lxzxTxLLBHzFL63AEBl4376KX4r/F+JOVOtunVjvpVXjrnmnTdrAWB2GvHppzH2xx+T6pKshTlJ/YUWioZLLhl1GzbMWpjdPv744zj11FNjvvnmy1qmj+DuLzY9wV3dwhfZ+++/P3r27JkOobn55pvHc889F5tsskm8+eab6Zx4r776ajoP3tZbb539hjJJyPdT4T9DAAAAAAAA5MNyyy0Xc801V3Zv+gjuZoNbb701DeQ23HDDrCXSYO7bb7+NQw45pHQIzcSkSZPi9ttvj/XWWy/Gjx+fzn+37bbbxmeffRZvv/12HHDAAdkzAQAAAAAA+Ccxx91s0LJly3Seu5KMNPn3xx9/rDDvXYm+ffum/7Zr1y79N6nYSySB3mTDMAIAAAAAAPxjCe5mg2SIzE8++SSdhy4J7b766qv0fvmhMxNJSPf888+nQ2XWqVMnGjdunA6DOWHChBg6dGg6zx0AAAAAAAD/TIbKnE2SSrquXbvGN998E82bN0+HyFxhhRWyR4uSOe769+8fe+yxR1qJl1TZPfLII/HCCy9E69at44gjjoj5558/ezYAAAAAAAD/JII7AAD4BxgzZky88sor6bzKDRo0yFoBqAnJhbjJCDqLLLJIOqJOZck+e+LEidGoUaOpptAAAGDOJrgD4G8nOXR98MEH8fHHH6fDCK+11lox77zzZo9G/Pbbb3HjjTemlcrl22FWSIa2fvHFF+Pnn3+OddZZJxZffPF47LHH4oknnkgf32677WKHHXaIueaaK70Ps4t9H7NDMox/MorIEkssUbqfGz16dNx1113x6quvRv369WP77bePHXfcscqwAuYUyfeFu+++OzbYYIN0/5zMcd+sWbM0pEumyLj99tvTcK9t27Zx0kknxQILLJD9JFBTbr311mzpjx188MHZEpAHyQUxTz/9dIwcOTJrqV4yPdU222zjYkdyTXAHwN/Os88+Gz169Ij27dunX8q++OKLOOyww2KllVZKT4Y4ec1fJfnadN9998Xnn38eK664YhoeJ+Fd7969Y++9907/s9CtW7dYe+21Y+utt85+CmadZP92zjnnxKBBg7KWqrVs2TLOO+88+0BmucrH2JL94k8//RS77757WkF05513xhprrBFbbLFF9lMw50mCu6uuuir9njrffPOl286ee+4Z6667blx++eXpcrt27eKZZ56J4cOHx1577aXyDmpY9+7ds6U/5rs+5Ivgjn8awR0wQ5ID4LXXXhtDhw7NWqq20EILxbHHHpseDGFWGjVqVHTu3Dn23Xff9MR0IhmG6Jprrkmv8E9ClBEjRgju+EtU7n/JybjkytwkOF5qqaXS5yTz1T766KNx+OGHx9xzz522waySVGcklRq9evWKffbZJ50HuYSLFpgdKvezqo7L9oNQ/M7QpUuXdNtI/m+U/P/p3nvvjY4dO6bz3yfbUDKH/S+//JJe9HPQQQfFPPPMk/00AABzstrZvwDTpV69euktqTTp1KlTtbdkmDgnavgrJCetk6uRk/lASiRzh5xyyinx3HPPpSezXZPCX6Vy/0v63oILLpgOfVUiOQk3duzY9Ep7mNWSoQe33HLLdHimpKrpf//7Xzp0IdSUqo7L9oNQ3DaScLtJkybp/eTfJJgbP3581K5dO70lkrbkin/7csif5DiWXLBS1Q0A/kqCO2CGJPOWHHjggemV1Ml/Njt06FDlbYUVVjC/E3+JJBBO+mEyv1h5ybwgxxxzTDz11FPx7rvvxuTJk7NHYNZJ9mvJLbmKHmrSwgsvHKeffnpa2Z4Mifn9999nj8BfLwkkkur25MRlslx5hIXkGJyEeYb9Y06WfGf9/fff47vvvksvKhs4cGB88skn0bdv3/R7bMl3iWRor6TqzvYC+TJgwIB0uNtkaNtzzz03/feCCy6I888/P52jEsi3H3/8Ma6++up0NLDKt2Rbnp4hNaEm1SkcfM7NlgGmS3JV6OKLLx7vv/9+LLPMMlG3bt3sEfjrJf0tufIxCedWWWWV0quVE0nfTKpBk2GIkpOJG220kcpPZqkktEvmcUpCkmT/l/Sv9ddfv0I/S07MffPNN+k8d/aP/JWS6rtkiNZll102brnllnTY4GSepLXWWsu+j79MEkAk83sm8wC98MIL8eCDD8bo0aPToapLqu6+/vrrdF+YtCX9FOZEyXeA5LvpFVdcEffcc0/07NkzHZkkmSd3ySWXTOfHTbanV155Jd12Vl999Qrfa4GaddFFF8Xmm28eG264Ybz22mtx9NFHp3OsJ2FAMvpB+RE3gHxJqtiTgL158+ax4447xq+//poOSZ0M6z5s2LDYb7/90pFzIM/McQfA305y6Eq+iCXDtlYluWr5zTffjE022cRkw8xyyQnqJDxu2rRp1lLRhx9+mF41v/LKK2ct8NdL9onPPPNMvPrqq3H22Web444aVTJEZlIhD3O6pCo1+e6QfCctGZEk+S6bDO+eBN/JxRc777yz/TbkzG677RYPPPBA+r0+qdBJ5vpPJFU6SbXOpZdemt4H8ie5kDsJ7g455JD0OJxsy8n84Ml300GDBsWzzz6bXkxjpDDyzOVcAPztJP95qi60SyRz62y77bZCO/4SDRs2rDa0SySVoEI7ZrfkP53bb799XHnllU7+UuOSkyJCO+Z0yUnDyy67LF5//fW08rT8ycHku2xSYZc8vv/++9tvQw4lFbMlkgraknkokwrZZHQNIL+S42wS2CXDtycjkST3k6GpE8k2nFTOJsNZQ54ZKhOYKcmV1MnwLskQSR988EG63KdPn/TLbDLXmOHh+Kvpg9Qk/Y+apg9S0/RBmLYkqEsu9nn++efjzjvvjE8//TS9b/uAv4dkyOfFFlssncc1mdf1vffeSy8Q/eyzz9IhobfZZpvsmUDeJMfZZGjqJk2aRIsWLeKLL75Iw7olllginfYi+c6aDOk+rQvCoaYZKhOYYf3790+vDk3+07nCCitEmzZtStuT/5Am40WfdNJJpe0wq+mD1CT9j5qmD1LT9EGYMclV/km4ncwNmWwnSXV+UiWdzHWXVAEA+ZNUzSZVd0kIn2zDXbp0SY9vSQXtrrvumh7/gPxKLjJLArxkm0223WTO2a+++irdrpPhb1ddddXsmZBPgjtghiRXUV9//fWx3nrrpcO7VOX999+Pl156KY455hjDJDHL6YPUJP2PmqYPUtP0QfhzkpOHDz/8cPTt29ecpPA3khz/kqH1kiCv/DCawN9DEoGMGjUqHTqz/PDVkFfmuANmSPJFdezYsbH00ktnLVNr27ZtTJw4MX0ezGr6IDVJ/6Om6YPUNH0QZlxy1X+vXr3i/PPPjxNOOCE9cXjggQemQ3gB+ZXMkZVsr0n1XXL8SyQBXnIfyK+RI0fGfffdlx5/SyQV7snQt8n30//+97+lc95BXgnugBlSclVKMjZ0dZKrSJPnGSuav4I+SE3S/6hp+iA1TR+E6ZOc8E/mf0zCuv333z+efPLJ2HrrreOWW25Jw7vlllvOMJmQY8lxLtler7rqqrj88sunugH5NXny5DR0r0pycVkyz9348eOzFsgnQ2UCMywZ/qhr166x4YYbxoorrhjNmzdP24cMGRIff/xxvPLKK3HAAQfEaqutlrbDrKYPUpP0P2qaPkhN0wfhjyUVOTfffHOsscYa6bCyDRs2zB4B/g6S0D0J2Dt06JC1VGQeV8ifpIru6aefTi8iS4akTrbhZI67Ekmg99lnn0Xr1q3jiCOOKL0gDfJIcAfMlOTEzLPPPpuenEmuVkkkk74mJ2+22GKL0hM48FfRB6lJ+h81TR+kpumDMPOSobuSE4pLLbVUNGjQIGsF8mT33XeP+++/X2Us/I0kMceIESOid+/e8dRTT0W7du0qBHfJaBDt27dPAz2hHXknuAMAAAD4CyWnXr7++ut44okn4sMPP4wVVlghjj76aMEd5NQhhxwSN910U4WT/sDfQzJc9aeffhrLLrusgI6/LcEdAAAAwF9g9OjR8dprr6Vz3CVVAMk8d1tuuWU0bdo0ewaQRy+99FKMHTs21llnnSoD9vr162dLADDrCe4AAAAAZpHkSv8vvvgievTokQ4nu+aaa6Zz3SX3kyq7eeedN3smkFfJHJWvvvpqLLzwwtGsWbOstczpp5+eLQF5lEQe7777btx9993pEO+JZCj3vffeOz0mGwaXvBPcAQAAAMwCI0eOjPPPPz+t0Nl5551j+eWXT4fp+u233+LGG2+MI444QnAHfwPJHFnTsvLKK2dLQB4lczG/8cYb0alTpzSAT/z444/RrVu3WG+99dI5mSHPBHcAAAAAs8CECRPSIfYef/zxdG6sZGjMddddN73yX3AHAH+933//PT3m7rnnntGyZcustWjQoEFx3333pcfjeeaZJ2uF/BHcATMtGQJm4MCB8fPPP6f3W7RokV7FYvJmZhd9kJqk/1HT9EFqmj4I1UtOtXz77bfx4osvpnPcJUPtJdvGaaedZn47yKlkTsrvv/8+2rVrF/37989aq9amTZtsCcibaVW5q4Dn70JwB8ywZLfRq1evuOWWW2L8+PEx33zzpe2//vpr1KtXL4466qhYccUV0/Giv/7663QM6YYNG6bPgVlBH6Qm6X/UNH2QmqYPwowZN25cus088sgj8csvv8Tmm2+e3gR4kC9ffvll3HHHHXHxxRfHWWedlbVW7YILLsiWgLxJjrs33HBDbLvttrH00ktnrUXJdv7UU0/FkUceGfXr189aIX8Ed8AMS8Z6v+222+LQQw+N9u3bpydlEsnu5JNPPkkncU6uXEncf//9ceKJJ7qKhVlKH6Qm6X/UNH2QmqYPwsxJtpEhQ4akJwyTE4dJMGDbgPxIKsmTqrsmTZqkVTnTYtuFfHv//fejS5cuseGGG6ZVtIm+ffvG66+/Hocddph5Ksk9wR0wQ5I5G66//vpYa621Yu21185aK+rZs2fcc8896X9MDzzwwFh11VWzR+DP0wepSfofNU0fpKbpgzBrJAFB7dq1S4NvIB+6d++ezk1ZXjJspqEx4e/nhx9+iMceeyy++OKLqFu3bjoixBZbbJGOBgF5Vzv7F2C6jBkzJp3ktW3btlnL1JLHGjRoEIcccogTNcxy+iA1Sf+jpumD1DR9EGaNZL47oR3kTzJUZmXnn39+tgT8nSyyyCJx+OGHx7XXXhtXXnll7LvvvkI7/jYEd8AMSa6cTiRXqlQnmdskma/BFWn8FfRBapL+R03TB6lp+iAAc5qRI0dmS0CeJUPcJnNU/tFQt/B3ILgDZsjcc8+d3n788cesZWo//fRTesImeR7MavogNUn/o6bpg9Q0fRAAAOCvJbgDZkj9+vVj2WWXjYcffrjKK1iSiZwfeeSRaN++ffpcmNX0QWqS/kdN0wepafogAP90yfGt/K26NgD4q9SaUjLWCcB0GjduXHTr1i1effXVWG211aJdu3Zp+5dffhkffvhhrLfeetGpUycna/jL6IPUJP2PmqYPUtP0QfhjyXyQTz31VDz//PPxyy+/pG3NmjWLDTfcMLbddtt0HshEsj0lQ88mc94BNe+AAw6IFi1aZPeKBg8ePFXbBRdckC0BeZGE6smclMmxdVrH1YUWWiiOPfbYaNy4cdYC+SO4A2ZKsuv47rvvomfPnvHpp5+mbcsvv3ysvfbasdhii5lonb+cPkhN0v+oafogNU0fhOoNGzYsLrvsslhggQVi6623jlatWqXtAwcOjO7du6cnFk844YSYZ5554t57741dd9015p133vQ5QM3q379/tjRt5nGF/EmOr1dddVVssskm6TG2OsnFZcsss0zMNddcWQvkj+AO+EuU7FqctKGm6IPUJP2PmqYPUtP0QeZUSd+/++67Y+LEibHPPvtMdcX/pEmT4q677kofTwK+JNzbb7/9nDwEgD8pCe5uvPHGOOKII1wQw9+eOe6AmTJ06NB4/fXX4913360wvnvyH9UvvvgivcJ0xIgRWSvMevogNUn/o6bpg9Q0fRCqlgyRmQyrt9FGG1U5TFfSljyWVKsmQ2cK7QAAqEzFHTDD3n///ejcuXOFsaBPPfXUWHDBBePhhx9O5zs58MADY80113SVNX8JfZCapP9R0/RBapo+CNVLguw/utp/ep4DAMyYCRMmxDfffBNLLLGEi2L42xPcATMkmeD12muvjfXXXz+dwyTx3nvvxRNPPBE//vhjtG/fPjp16hTzzz9/+hjMavogNUn/o6bpg9Q0fRCmbdSoUXHNNdfEvvvuWzq3XWU//PBD3HnnnXH00UdHo0aNslYAACgyVCYwQ8aOHZuesGnbtm3WEulyMlfDMccck/7n04ka/kr6IDVJ/6Om6YPUNH0Qpq1hw4bRvHnzNNCu6jrppO3DDz+MhRZaKH0uAABUJrgDZljdunWjXr162b3CjqR27XSopOSKUsMhMTvog9Qk/Y+apg9S0/RBqF6yDWyxxRbxwgsvRJcuXWLgwIFp2J3cBg0alFba9ejRI7bZZhvbCwAAVapzbkG2DPCHkv9wvv766zHPPPPE0KFD04nXv//++/j444/T+RlK2oYNGxZNmzatckJ2+DP0QWqS/kdN0wepafog/LFkW1hnnXWiT58+aVD34IMPxiOPPBIvv/xyLLLIImllalJxBwAAVTHHHTBDRo4cmc5rkpyUmZbkP6LHHntsevU1zEr6IDVJ/6Om6YPUNH0QZkxyymX06NHpcjI0pio7AAD+iOAOAAAAYDYaM2ZMOuSsqlQAACoT3AEAAADMIslplg8++CDeeeedqF+/fvzrX/+Ktm3bpo9NmjQpnn/++Xj11VfjtNNOS4fVBACA8gR3AAAAALPIs88+Gw8//HCsvvrq6f3evXvHkUceGfPPP3906dIlxo4dm85zt+iii6aPAwBAeYI7AAAAgFkgCeWuueaa2HbbbaN9+/Zp2xdffJG2jR8/PnbbbbfYdNNNY6655kofAwCAympn/wIAAADwJ4wbNy4dDrNly5ZZS8QiiyyS3i688MLYaquthHYAAEyT4A4AAABgFqldu3Z6K69evXoxzzzzZPcAAKB6hsoEAAAAmAV+++23uOSSS6JNmzZpWJdIhshM5rlbeeWVS9saN24c22yzTTRo0CC9DwAAJVTcAQAAAMwCSTC32mqrlQZ0iWR5jTXWqNAGAADVUXEHAAAAAAAAOaDiDgAAAAAAAHJAcAcAAAAAAAA5ILgDAAAAAACAHBDcAQAAAAAAQA4I7gAAAAAAAKDGRfw/A1m4rRrwUhMAAAAASUVORK5CYII=)"
      ],
      "metadata": {
        "id": "9VBJJWp-p_ZJ"
      }
    }
  ]
}