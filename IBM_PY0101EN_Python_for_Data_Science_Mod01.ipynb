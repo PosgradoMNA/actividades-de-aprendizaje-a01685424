{
  "nbformat": 4,
  "nbformat_minor": 0,
  "metadata": {
    "colab": {
      "provenance": [],
      "authorship_tag": "ABX9TyNfk9dixS+21KnSpNx7vjqx",
      "include_colab_link": true
    },
    "kernelspec": {
      "name": "python3",
      "display_name": "Python 3"
    },
    "language_info": {
      "name": "python"
    }
  },
  "cells": [
    {
      "cell_type": "markdown",
      "metadata": {
        "id": "view-in-github",
        "colab_type": "text"
      },
      "source": [
        "<a href=\"https://colab.research.google.com/github/PosgradoMNA/actividades-de-aprendizaje-a01685424/blob/main/IBM_PY0101EN_Python_for_Data_Science_Mod01.ipynb\" target=\"_parent\"><img src=\"https://colab.research.google.com/assets/colab-badge.svg\" alt=\"Open In Colab\"/></a>"
      ]
    },
    {
      "cell_type": "code",
      "execution_count": null,
      "metadata": {
        "id": "rPdMKIr-UoD5"
      },
      "outputs": [],
      "source": [
        "# IBM Course \n",
        "\n",
        "\n",
        "# Modulo 1\n",
        "\n"
      ]
    },
    {
      "cell_type": "code",
      "source": [
        "# Ejercicio 1\n",
        "# Your First Program\n",
        "\n",
        "print('Hola mundo')\n",
        "\n",
        "print(\"Este es mi primer\\nprograma\")\n",
        "\n",
        "VarA=\"en python\"\n",
        "\n",
        "print(VarA)\n",
        "\n",
        "VarB=\"y colab\"\n",
        "print(\"2da prueba\",VarA+\"\\n\"+VarB)"
      ],
      "metadata": {
        "colab": {
          "base_uri": "https://localhost:8080/"
        },
        "id": "sjAdxxRQWOJ4",
        "outputId": "deae8f0c-b9e2-4e83-d80f-aa5acf268eea"
      },
      "execution_count": 17,
      "outputs": [
        {
          "output_type": "stream",
          "name": "stdout",
          "text": [
            "Hola mundo\n",
            "Este es mi primer\n",
            "programa\n",
            "en python\n",
            "2da prueba en python\n",
            "y colab\n"
          ]
        }
      ]
    },
    {
      "cell_type": "code",
      "source": [
        "#Ejercicio 2\n",
        "#Types\n",
        "\n",
        "TypeA=int(1.0)\n",
        "print(\"Type A:\",TypeA)\n",
        "\n",
        "TypeB=type(1.0)\n",
        "print(\"Type B:\",TypeB)\n",
        "\n",
        "TypeC=bool(int(1.0))\n",
        "print(\"Type C:\",TypeC)\n",
        "\n",
        "TypeD=bool(TypeA)\n",
        "print(\"Type D:\",TypeD)\n",
        "\n",
        "print(1.1+2.2)\n",
        "NumA=5.5+2.2\n",
        "print(\"Suma:\",NumA)\n",
        "\n",
        "NumComplejo=4+9j\n",
        "print(\"Número complejo:\",NumComplejo)\n",
        "print(\"Real:\",NumComplejo.real)\n",
        "print(\"Imaginario:\",NumComplejo.imag)\n"
      ],
      "metadata": {
        "colab": {
          "base_uri": "https://localhost:8080/"
        },
        "id": "rnWJteL0mUr8",
        "outputId": "74fb40b9-bc89-45fd-8d0c-75e6434d0e8e"
      },
      "execution_count": 42,
      "outputs": [
        {
          "output_type": "stream",
          "name": "stdout",
          "text": [
            "Type A: 1\n",
            "Type B: <class 'float'>\n",
            "Type C: True\n",
            "Type D: True\n",
            "3.3000000000000003\n",
            "Suma: 7.7\n",
            "Número complejo: (4+9j)\n",
            "Real: 4.0\n",
            "Imaginario: 9.0\n"
          ]
        }
      ]
    },
    {
      "cell_type": "code",
      "source": [
        "from re import X\n",
        "#Ejercicio 3\n",
        "#Expressions and Variables\n",
        "\n",
        "x=23+45+67+5\n",
        "print(\"x=\",x)\n",
        "\n",
        "y=12-11*10\n",
        "print(\"y=\",y)\n",
        "\n",
        "z=(12-11)*10\n",
        "print(\"z\",z)\n",
        "\n",
        "x=x-z\n",
        "print(\"x-z=\",x)\n"
      ],
      "metadata": {
        "colab": {
          "base_uri": "https://localhost:8080/"
        },
        "id": "hhNVRpOPqWun",
        "outputId": "8db3ad90-16d2-4782-f403-cb1d3891947f"
      },
      "execution_count": 54,
      "outputs": [
        {
          "output_type": "stream",
          "name": "stdout",
          "text": [
            "x= 140\n",
            "y= -98\n",
            "z 10\n",
            "x-z= 130\n"
          ]
        }
      ]
    }
  ]
}