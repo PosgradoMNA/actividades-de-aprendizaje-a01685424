{
  "nbformat": 4,
  "nbformat_minor": 0,
  "metadata": {
    "colab": {
      "provenance": [],
      "authorship_tag": "ABX9TyNYbVj5uHNTH7NehINusv8i",
      "include_colab_link": true
    },
    "kernelspec": {
      "name": "python3",
      "display_name": "Python 3"
    },
    "language_info": {
      "name": "python"
    }
  },
  "cells": [
    {
      "cell_type": "markdown",
      "metadata": {
        "id": "view-in-github",
        "colab_type": "text"
      },
      "source": [
        "<a href=\"https://colab.research.google.com/github/PosgradoMNA/actividades-de-aprendizaje-a01685424/blob/main/IBM_PY0101EN_Python_for_Data_Science_Mod01.ipynb\" target=\"_parent\"><img src=\"https://colab.research.google.com/assets/colab-badge.svg\" alt=\"Open In Colab\"/></a>"
      ]
    },
    {
      "cell_type": "code",
      "execution_count": null,
      "metadata": {
        "id": "rPdMKIr-UoD5"
      },
      "outputs": [],
      "source": [
        "# IBM Course \n",
        "\n",
        "\n",
        "# Modulo 1\n",
        "\n"
      ]
    },
    {
      "cell_type": "code",
      "source": [
        "# Ejercicio 1\n",
        "# Your First Program\n",
        "\n",
        "print('Hola mundo')\n",
        "\n",
        "print(\"Este es mi primer\\nprograma\")\n",
        "\n",
        "VarA=\"en python\"\n",
        "\n",
        "print(VarA)\n",
        "\n",
        "VarB=\"y colab\"\n",
        "print(\"2da prueba\",VarA+\"\\n\"+VarB)"
      ],
      "metadata": {
        "colab": {
          "base_uri": "https://localhost:8080/"
        },
        "id": "sjAdxxRQWOJ4",
        "outputId": "deae8f0c-b9e2-4e83-d80f-aa5acf268eea"
      },
      "execution_count": null,
      "outputs": [
        {
          "output_type": "stream",
          "name": "stdout",
          "text": [
            "Hola mundo\n",
            "Este es mi primer\n",
            "programa\n",
            "en python\n",
            "2da prueba en python\n",
            "y colab\n"
          ]
        }
      ]
    },
    {
      "cell_type": "code",
      "source": [
        "#Ejercicio 2\n",
        "#Types\n",
        "\n",
        "TypeA=int(1.0)\n",
        "print(\"Type A:\",TypeA)\n",
        "\n",
        "TypeB=type(1.0)\n",
        "print(\"Type B:\",TypeB)\n",
        "\n",
        "TypeC=bool(int(1.0))\n",
        "print(\"Type C:\",TypeC)\n",
        "\n",
        "TypeD=bool(TypeA)\n",
        "print(\"Type D:\",TypeD)\n",
        "\n",
        "print(1.1+2.2)\n",
        "NumA=5.5+2.2\n",
        "print(\"Suma:\",NumA)\n",
        "\n",
        "NumComplejo=4+9j\n",
        "print(\"Número complejo:\",NumComplejo)\n",
        "print(\"Real:\",NumComplejo.real)\n",
        "print(\"Imaginario:\",NumComplejo.imag)\n"
      ],
      "metadata": {
        "colab": {
          "base_uri": "https://localhost:8080/"
        },
        "id": "rnWJteL0mUr8",
        "outputId": "74fb40b9-bc89-45fd-8d0c-75e6434d0e8e"
      },
      "execution_count": null,
      "outputs": [
        {
          "output_type": "stream",
          "name": "stdout",
          "text": [
            "Type A: 1\n",
            "Type B: <class 'float'>\n",
            "Type C: True\n",
            "Type D: True\n",
            "3.3000000000000003\n",
            "Suma: 7.7\n",
            "Número complejo: (4+9j)\n",
            "Real: 4.0\n",
            "Imaginario: 9.0\n"
          ]
        }
      ]
    },
    {
      "cell_type": "code",
      "source": [
        "from re import X\n",
        "#Ejercicio 3\n",
        "#Expressions and Variables\n",
        "\n",
        "x=23+45+67+5\n",
        "print(\"x=\",x)\n",
        "\n",
        "y=12-11*10\n",
        "print(\"y=\",y)\n",
        "\n",
        "z=(12-11)*10\n",
        "print(\"z\",z)\n",
        "\n",
        "x=x-z\n",
        "print(\"x-z=\",x)\n"
      ],
      "metadata": {
        "colab": {
          "base_uri": "https://localhost:8080/"
        },
        "id": "hhNVRpOPqWun",
        "outputId": "8db3ad90-16d2-4782-f403-cb1d3891947f"
      },
      "execution_count": null,
      "outputs": [
        {
          "output_type": "stream",
          "name": "stdout",
          "text": [
            "x= 140\n",
            "y= -98\n",
            "z 10\n",
            "x-z= 130\n"
          ]
        }
      ]
    },
    {
      "cell_type": "code",
      "source": [
        "#Ejercicio 4\n",
        "#String methods\n",
        "\n",
        "StrA=\"654321\".find('1')\n",
        "print(\"Cadena A:\",StrA)\n",
        "\n",
        "StrB=\"123456789\"\n",
        "print(\"Cadena B:\",StrB)\n",
        "\n",
        "PosA=StrB.find('1')\n",
        "print(\"Cadena C:\",PosA)\n",
        "\n",
        "print('345' in StrB)\n",
        "\n",
        "print(StrB[::2])\n",
        "print(StrB[1:8:2])\n",
        "\n",
        "a=\"1\"\n",
        "b=\"2\"\n",
        "c=a+b\n",
        "print(\"Suma str 1+2:\",c)"
      ],
      "metadata": {
        "id": "QqFPUSUnyv5z",
        "colab": {
          "base_uri": "https://localhost:8080/"
        },
        "outputId": "6e5ba858-4d67-4433-b19f-5861f383a9fe"
      },
      "execution_count": 78,
      "outputs": [
        {
          "output_type": "stream",
          "name": "stdout",
          "text": [
            "Cadena A: 5\n",
            "Cadena B: 123456789\n",
            "Cadena C: 0\n",
            "True\n",
            "13579\n",
            "2468\n",
            "Suma str 1+2: 12\n"
          ]
        }
      ]
    },
    {
      "cell_type": "code",
      "source": [
        "#Ejercicio 5\n",
        "#Repaso\n",
        "\n",
        "3+2*2\n",
        "name = 'Lizz'\n",
        "print(name[0:2])"
      ],
      "metadata": {
        "colab": {
          "base_uri": "https://localhost:8080/"
        },
        "id": "BIwjYHmN72Wy",
        "outputId": "80d55b10-2dec-4e86-980f-8b67d8af46aa"
      },
      "execution_count": 80,
      "outputs": [
        {
          "output_type": "stream",
          "name": "stdout",
          "text": [
            "Li\n"
          ]
        }
      ]
    },
    {
      "cell_type": "code",
      "source": [],
      "metadata": {
        "id": "4ZHWUdIzDWI3"
      },
      "execution_count": null,
      "outputs": []
    }
  ]
}