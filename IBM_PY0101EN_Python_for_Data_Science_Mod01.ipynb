{
  "nbformat": 4,
  "nbformat_minor": 0,
  "metadata": {
    "colab": {
      "provenance": [],
      "authorship_tag": "ABX9TyNcKxgnzhJMn/1Ms22/Zsjg",
      "include_colab_link": true
    },
    "kernelspec": {
      "name": "python3",
      "display_name": "Python 3"
    },
    "language_info": {
      "name": "python"
    }
  },
  "cells": [
    {
      "cell_type": "markdown",
      "metadata": {
        "id": "view-in-github",
        "colab_type": "text"
      },
      "source": [
        "<a href=\"https://colab.research.google.com/github/PosgradoMNA/actividades-de-aprendizaje-a01685424/blob/main/IBM_PY0101EN_Python_for_Data_Science_Mod01.ipynb\" target=\"_parent\"><img src=\"https://colab.research.google.com/assets/colab-badge.svg\" alt=\"Open In Colab\"/></a>"
      ]
    },
    {
      "cell_type": "code",
      "execution_count": null,
      "metadata": {
        "id": "rPdMKIr-UoD5"
      },
      "outputs": [],
      "source": [
        "# IBM Course \n",
        "\n",
        "\n",
        "# Eje\n",
        "\n"
      ]
    },
    {
      "cell_type": "code",
      "source": [
        "# Ejercicio 1\n",
        "# Your First Program\n",
        "\n",
        "print('Hola mundo')\n",
        "\n",
        "print(\"Este es mi primer\\nprograma\")\n",
        "\n",
        "VarA=\"en python\"\n",
        "\n",
        "print(VarA)\n",
        "\n",
        "VarB=\"y colab\"\n",
        "print(\"2da prueba\",VarA+\"\\n\"+VarB)"
      ],
      "metadata": {
        "colab": {
          "base_uri": "https://localhost:8080/"
        },
        "id": "sjAdxxRQWOJ4",
        "outputId": "deae8f0c-b9e2-4e83-d80f-aa5acf268eea"
      },
      "execution_count": 17,
      "outputs": [
        {
          "output_type": "stream",
          "name": "stdout",
          "text": [
            "Hola mundo\n",
            "Este es mi primer\n",
            "programa\n",
            "en python\n",
            "2da prueba en python\n",
            "y colab\n"
          ]
        }
      ]
    }
  ]
}