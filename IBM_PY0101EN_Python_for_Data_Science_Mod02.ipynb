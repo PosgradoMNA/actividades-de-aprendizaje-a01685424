{
  "nbformat": 4,
  "nbformat_minor": 0,
  "metadata": {
    "colab": {
      "provenance": [],
      "authorship_tag": "ABX9TyPhyni2i+c2W9GpsH4esXeK",
      "include_colab_link": true
    },
    "kernelspec": {
      "name": "python3",
      "display_name": "Python 3"
    },
    "language_info": {
      "name": "python"
    }
  },
  "cells": [
    {
      "cell_type": "markdown",
      "metadata": {
        "id": "view-in-github",
        "colab_type": "text"
      },
      "source": [
        "<a href=\"https://colab.research.google.com/github/PosgradoMNA/actividades-de-aprendizaje-a01685424/blob/main/IBM_PY0101EN_Python_for_Data_Science_Mod02.ipynb\" target=\"_parent\"><img src=\"https://colab.research.google.com/assets/colab-badge.svg\" alt=\"Open In Colab\"/></a>"
      ]
    },
    {
      "cell_type": "code",
      "execution_count": null,
      "metadata": {
        "id": "K8_RJhjoEd_F"
      },
      "outputs": [],
      "source": [
        "# IBM Course \n",
        "\n",
        "\n",
        "# Modulo 2"
      ]
    },
    {
      "cell_type": "code",
      "source": [
        "#Ejercicio 1\n",
        "#Lists and Tuples\n",
        "\n",
        "A=(0,1,2,3)\n",
        "print('Tuple A:',A)\n",
        "\n",
        "B=[\"a\",\"b\",\"c\"]\n",
        "print('List B',B)\n",
        "\n",
        "B[0]=\"A\"\n",
        "print('List B\\'',B)\n",
        "\n",
        "B[1:]\n",
        "\n",
        "tuple1 = (\"disco\",10,1.2 )\n",
        "tuple1\n",
        "type(tuple1)\n",
        "\n",
        "print('Tuple 1 pos 0',tuple1[0])\n",
        "print('Tuple 1 pos 1',tuple1[1])\n",
        "print('Tuple 1 pos 2',tuple1[2])\n",
        "\n",
        "print('Tuple 1 pos 0 type',type(tuple1[0]))\n",
        "print('Tuple 1 pos 1 type',type(tuple1[1]))\n",
        "print('Tuple 1 pos 2 type',type(tuple1[2]))\n",
        "\n",
        "tuple2 = tuple1 + (\"hard rock\", 10)\n",
        "tuple2\n",
        "print('Tamaño tupla:',len(tuple2))\n",
        "\n",
        "NestedT =(1, 2, (\"pop\", \"rock\") ,(3,4),(\"disco\",(1,2)))\n",
        "NestedT\n",
        "\n",
        "print(\"Element 0 of Tuple: \", NestedT[0])\n",
        "print(\"Element 1 of Tuple: \", NestedT[1])\n",
        "print(\"Element 2 of Tuple: \", NestedT[2])\n",
        "print(\"Element 3 of Tuple: \", NestedT[3])\n",
        "print(\"Element 4 of Tuple: \", NestedT[4])"
      ],
      "metadata": {
        "id": "T90sA8vREhuA",
        "colab": {
          "base_uri": "https://localhost:8080/"
        },
        "outputId": "23f81cd4-b503-4ddb-9e21-064e6b11ddca"
      },
      "execution_count": 15,
      "outputs": [
        {
          "output_type": "stream",
          "name": "stdout",
          "text": [
            "Tuple A: (0, 1, 2, 3)\n",
            "List B ['a', 'b', 'c']\n",
            "List B' ['A', 'b', 'c']\n",
            "Tuple 1 pos 0 disco\n",
            "Tuple 1 pos 1 10\n",
            "Tuple 1 pos 2 1.2\n",
            "Tuple 1 pos 0 type <class 'str'>\n",
            "Tuple 1 pos 1 type <class 'int'>\n",
            "Tuple 1 pos 2 type <class 'float'>\n",
            "Tamaño tupla: 5\n",
            "Element 0 of Tuple:  1\n",
            "Element 1 of Tuple:  2\n",
            "Element 2 of Tuple:  ('pop', 'rock')\n",
            "Element 3 of Tuple:  (3, 4)\n",
            "Element 4 of Tuple:  ('disco', (1, 2))\n"
          ]
        }
      ]
    },
    {
      "cell_type": "code",
      "source": [
        "#Ejercicio 2\n",
        "#Sets\n",
        "\n",
        "S={'A','B','C'}\n",
        "\n",
        "U={'A','Z','C'}\n",
        "\n",
        "print('Unión U y S:',U.union(S))\n",
        "\n",
        "print('S:',S)\n",
        "print('U:',U)\n",
        "\n",
        "V=S&U\n",
        "print('V:',V)\n",
        "\n",
        "print('Z en el set S','Z' in S)\n",
        "print('Z en el set U','Z' in U)\n",
        "\n",
        "A = [1, 2, 2, 1]  \n",
        "B = set([1, 2, 2, 1])\n",
        "print(\"the sum of A is:\", sum(A))\n",
        "print(\"the sum of B is:\", sum(B))\n",
        "print('Sum(A):',sum(A),'es igual a Sum(B):',sum(B),'entonces',sum(A)==sum(B))\n",
        "\n",
        "C = [1, 2, 2, 1]\n",
        "C = set(C)\n",
        "print('Set C:',C)\n",
        "D = set([1, 2, 2, 1])\n",
        "print('Set D:',D)\n",
        "print('Sum(C):',sum(C),'es igual a Sum(D):',sum(D),'entonces',sum(C)==sum(D))"
      ],
      "metadata": {
        "id": "ubAtDH52Eh4t",
        "colab": {
          "base_uri": "https://localhost:8080/"
        },
        "outputId": "94a3725f-5d98-4e2d-f034-66fd2425032d"
      },
      "execution_count": 28,
      "outputs": [
        {
          "output_type": "stream",
          "name": "stdout",
          "text": [
            "Unión U y S: {'A', 'B', 'Z', 'C'}\n",
            "S: {'A', 'C', 'B'}\n",
            "U: {'A', 'C', 'Z'}\n",
            "V: {'A', 'C'}\n",
            "Z en el set S False\n",
            "Z en el set U True\n",
            "the sum of A is: 6\n",
            "the sum of B is: 3\n",
            "Sum(A): 6 es igual a Sum(B): 3 entonces False\n",
            "Set C: {1, 2}\n",
            "Set D: {1, 2}\n",
            "Sum(C): 3 es igual a Sum(D): 3 entonces True\n"
          ]
        }
      ]
    },
    {
      "cell_type": "code",
      "source": [
        "#Ejercicio 3\n",
        "#Dictionaries\n",
        "\n"
      ],
      "metadata": {
        "id": "yPIvSlPYEiI1"
      },
      "execution_count": null,
      "outputs": []
    },
    {
      "cell_type": "code",
      "source": [
        "#Ejercicio 4\n",
        "#\n",
        "\n"
      ],
      "metadata": {
        "id": "EAO20JLGEiVY"
      },
      "execution_count": null,
      "outputs": []
    },
    {
      "cell_type": "code",
      "source": [
        "#Ejercicio 5\n",
        "#\n",
        "\n"
      ],
      "metadata": {
        "id": "zLz6rdOVEih3"
      },
      "execution_count": null,
      "outputs": []
    },
    {
      "cell_type": "code",
      "source": [
        "#Ejercicio 6\n",
        "#\n",
        "\n"
      ],
      "metadata": {
        "id": "e_I5SXwHE2Az"
      },
      "execution_count": null,
      "outputs": []
    }
  ]
}