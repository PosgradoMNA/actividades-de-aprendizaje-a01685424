{
  "nbformat": 4,
  "nbformat_minor": 0,
  "metadata": {
    "colab": {
      "provenance": [],
      "authorship_tag": "ABX9TyOYJuW/F5D+7eBwQLl4F8v0",
      "include_colab_link": true
    },
    "kernelspec": {
      "name": "python3",
      "display_name": "Python 3"
    },
    "language_info": {
      "name": "python"
    }
  },
  "cells": [
    {
      "cell_type": "markdown",
      "metadata": {
        "id": "view-in-github",
        "colab_type": "text"
      },
      "source": [
        "<a href=\"https://colab.research.google.com/github/PosgradoMNA/actividades-de-aprendizaje-a01685424/blob/main/IBM_PY0101EN_Python_for_Data_Science_Mod02.ipynb\" target=\"_parent\"><img src=\"https://colab.research.google.com/assets/colab-badge.svg\" alt=\"Open In Colab\"/></a>"
      ]
    },
    {
      "cell_type": "code",
      "execution_count": null,
      "metadata": {
        "id": "K8_RJhjoEd_F"
      },
      "outputs": [],
      "source": [
        "# IBM Course \n",
        "\n",
        "# Modulo 2"
      ]
    },
    {
      "cell_type": "code",
      "source": [
        "#Ejercicio 1\n",
        "#Lists and Tuples\n",
        "\n",
        "A=(0,1,2,3)\n",
        "print('Tuple A:',A)\n",
        "\n",
        "B=[\"a\",\"b\",\"c\"]\n",
        "print('List B',B)\n",
        "\n",
        "B[0]=\"A\"\n",
        "print('List B\\'',B)\n",
        "\n",
        "B[1:]\n",
        "\n",
        "tuple1 = (\"disco\",10,1.2 )\n",
        "tuple1\n",
        "type(tuple1)\n",
        "\n",
        "print('Tuple 1 pos 0',tuple1[0])\n",
        "print('Tuple 1 pos 1',tuple1[1])\n",
        "print('Tuple 1 pos 2',tuple1[2])\n",
        "\n",
        "print('Tuple 1 pos 0 type',type(tuple1[0]))\n",
        "print('Tuple 1 pos 1 type',type(tuple1[1]))\n",
        "print('Tuple 1 pos 2 type',type(tuple1[2]))\n",
        "\n",
        "tuple2 = tuple1 + (\"hard rock\", 10)\n",
        "tuple2\n",
        "print('Tamaño tupla:',len(tuple2))\n",
        "\n",
        "NestedT =(1, 2, (\"pop\", \"rock\") ,(3,4),(\"disco\",(1,2)))\n",
        "NestedT\n",
        "\n",
        "print(\"Element 0 of Tuple: \", NestedT[0])\n",
        "print(\"Element 1 of Tuple: \", NestedT[1])\n",
        "print(\"Element 2 of Tuple: \", NestedT[2])\n",
        "print(\"Element 3 of Tuple: \", NestedT[3])\n",
        "print(\"Element 4 of Tuple: \", NestedT[4])"
      ],
      "metadata": {
        "id": "T90sA8vREhuA",
        "colab": {
          "base_uri": "https://localhost:8080/"
        },
        "outputId": "23f81cd4-b503-4ddb-9e21-064e6b11ddca"
      },
      "execution_count": null,
      "outputs": [
        {
          "output_type": "stream",
          "name": "stdout",
          "text": [
            "Tuple A: (0, 1, 2, 3)\n",
            "List B ['a', 'b', 'c']\n",
            "List B' ['A', 'b', 'c']\n",
            "Tuple 1 pos 0 disco\n",
            "Tuple 1 pos 1 10\n",
            "Tuple 1 pos 2 1.2\n",
            "Tuple 1 pos 0 type <class 'str'>\n",
            "Tuple 1 pos 1 type <class 'int'>\n",
            "Tuple 1 pos 2 type <class 'float'>\n",
            "Tamaño tupla: 5\n",
            "Element 0 of Tuple:  1\n",
            "Element 1 of Tuple:  2\n",
            "Element 2 of Tuple:  ('pop', 'rock')\n",
            "Element 3 of Tuple:  (3, 4)\n",
            "Element 4 of Tuple:  ('disco', (1, 2))\n"
          ]
        }
      ]
    },
    {
      "cell_type": "code",
      "source": [
        "#Ejercicio 2\n",
        "#Sets\n",
        "\n",
        "S={'A','B','C'}\n",
        "\n",
        "U={'A','Z','C'}\n",
        "\n",
        "print('Unión U y S:',U.union(S))\n",
        "\n",
        "print('S:',S)\n",
        "print('U:',U)\n",
        "\n",
        "V=S&U\n",
        "print('V:',V)\n",
        "\n",
        "print('Z en el set S','Z' in S)\n",
        "print('Z en el set U','Z' in U)\n",
        "\n",
        "A = [1, 2, 2, 1]  \n",
        "B = set([1, 2, 2, 1])\n",
        "print(\"the sum of A is:\", sum(A))\n",
        "print(\"the sum of B is:\", sum(B))\n",
        "print('Sum(A):',sum(A),'es igual a Sum(B):',sum(B),'entonces',sum(A)==sum(B))\n",
        "\n",
        "C = [1, 2, 2, 1]\n",
        "C = set(C)\n",
        "print('Set C:',C)\n",
        "D = set([1, 2, 2, 1])\n",
        "print('Set D:',D)\n",
        "print('Sum(C):',sum(C),'es igual a Sum(D):',sum(D),'entonces',sum(C)==sum(D))"
      ],
      "metadata": {
        "id": "ubAtDH52Eh4t",
        "colab": {
          "base_uri": "https://localhost:8080/"
        },
        "outputId": "94a3725f-5d98-4e2d-f034-66fd2425032d"
      },
      "execution_count": null,
      "outputs": [
        {
          "output_type": "stream",
          "name": "stdout",
          "text": [
            "Unión U y S: {'A', 'B', 'Z', 'C'}\n",
            "S: {'A', 'C', 'B'}\n",
            "U: {'A', 'C', 'Z'}\n",
            "V: {'A', 'C'}\n",
            "Z en el set S False\n",
            "Z en el set U True\n",
            "the sum of A is: 6\n",
            "the sum of B is: 3\n",
            "Sum(A): 6 es igual a Sum(B): 3 entonces False\n",
            "Set C: {1, 2}\n",
            "Set D: {1, 2}\n",
            "Sum(C): 3 es igual a Sum(D): 3 entonces True\n"
          ]
        }
      ]
    },
    {
      "cell_type": "code",
      "source": [
        "#Ejercicio 3\n",
        "#Dictionaries\n",
        "\n",
        "D = {'a':0,'b':1,'c':2}\n",
        "\n",
        "print('Valores dentro de D:',D.values())\n",
        "\n",
        "print('Valor b dentro de D:',D['b'])\n",
        "\n",
        "\n",
        "soundtrack_dic = {\"The Bodyguard\":\"1992\", \"Saturday Night Fever\":\"1977\"}\n",
        "soundtrack_dic \n",
        "print('Keys of soundtrack dictionarie:',soundtrack_dic.keys())\n",
        "print('Values of soundtrack dictionarie:',soundtrack_dic.values())\n",
        "\n",
        "album_sales_dict = {\"Back in Black\":50, \"The Bodyguard\":50, \"Thriller\":65}\n",
        "print(album_sales_dict)\n",
        "\n",
        "print(album_sales_dict[\"Thriller\"])\n",
        "\n",
        "print(album_sales_dict.keys())\n",
        "\n",
        "print(album_sales_dict.values())"
      ],
      "metadata": {
        "id": "yPIvSlPYEiI1",
        "colab": {
          "base_uri": "https://localhost:8080/"
        },
        "outputId": "9a6fea3b-cd0e-4760-a17f-bc69ed70250b"
      },
      "execution_count": null,
      "outputs": [
        {
          "output_type": "stream",
          "name": "stdout",
          "text": [
            "Valores dentro de D: dict_values([0, 1, 2])\n",
            "Valor b dentro de D: 1\n",
            "Keys of soundtrack dictionarie: dict_keys(['The Bodyguard', 'Saturday Night Fever'])\n",
            "Values of soundtrack dictionarie: dict_values(['1992', '1977'])\n",
            "{'Back in Black': 50, 'The Bodyguard': 50, 'Thriller': 65}\n",
            "65\n",
            "dict_keys(['Back in Black', 'The Bodyguard', 'Thriller'])\n",
            "dict_values([50, 50, 65])\n"
          ]
        }
      ]
    },
    {
      "cell_type": "code",
      "source": [
        "#Ejercicio 4\n",
        "#\n",
        "\n",
        "a=('a','b','c')\n",
        "a[0]\n",
        "\n",
        "L=['c']\n",
        "L.append(['a','b'])\n",
        "print('Lista L:',L)\n",
        "\n",
        "M=[]\n",
        "M.append(['a','b'])\n",
        "print('Lista M:',M)\n",
        "\n",
        "Dict={'A':1,'B':'2','C':[3,3,3],'D':(4,4,4),'E':5,'F':6}\n",
        "Dict['D']"
      ],
      "metadata": {
        "id": "EAO20JLGEiVY",
        "outputId": "4a45853f-062b-4425-8059-76eaeb098522",
        "colab": {
          "base_uri": "https://localhost:8080/"
        }
      },
      "execution_count": 6,
      "outputs": [
        {
          "output_type": "stream",
          "name": "stdout",
          "text": [
            "Lista L: ['c', ['a', 'b']]\n",
            "Lista M: [['a', 'b']]\n"
          ]
        },
        {
          "output_type": "execute_result",
          "data": {
            "text/plain": [
              "(4, 4, 4)"
            ]
          },
          "metadata": {},
          "execution_count": 6
        }
      ]
    }
  ]
}