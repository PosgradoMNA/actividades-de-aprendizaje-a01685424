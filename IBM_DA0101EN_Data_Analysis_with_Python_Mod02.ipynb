{
  "nbformat": 4,
  "nbformat_minor": 0,
  "metadata": {
    "colab": {
      "provenance": [],
      "collapsed_sections": [],
      "include_colab_link": true
    },
    "kernelspec": {
      "name": "python3",
      "display_name": "Python 3"
    },
    "language_info": {
      "name": "python"
    }
  },
  "cells": [
    {
      "cell_type": "markdown",
      "metadata": {
        "id": "view-in-github",
        "colab_type": "text"
      },
      "source": [
        "<a href=\"https://colab.research.google.com/github/PosgradoMNA/actividades-de-aprendizaje-a01685424/blob/main/IBM_DA0101EN_Data_Analysis_with_Python_Mod02.ipynb\" target=\"_parent\"><img src=\"https://colab.research.google.com/assets/colab-badge.svg\" alt=\"Open In Colab\"/></a>"
      ]
    },
    {
      "cell_type": "markdown",
      "source": [
        "># **IBM Course: DA0101EN**\n",
        ">**Data Analysis with Python**\n",
        "> \n",
        "> *Fernando Alfredo Rojas Estrella - A01685424*\n",
        "> \n",
        "> **Temas:**\n",
        "1. Pre-processing Data in Python 2:09\n",
        "2. Dealing with Missing Values in Python 5:57\n",
        "3. Data Formatting in Python 3:23\n",
        "4. Data Normalization in Python 3:34\n",
        "5. Binning in Python 1:53\n",
        "6. Turning categorical variables into quantitative variables in Python 2:00"
      ],
      "metadata": {
        "id": "mHbN_JwAQ8zs"
      }
    },
    {
      "cell_type": "code",
      "source": [
        "# - - - - - - - - - - - - - - - - - - - - - - - - \n",
        "# Ejercicio 1\n",
        "\n",
        "# Preprocesamiento de datos en Python\n",
        "\n",
        "# Estandarización de formato antes del procesamiento\n",
        "# 1. Manejo de valores faltantes\n",
        "# 2. Dar formato a los datos\n",
        "# 3. Normalización de los rangos a través del centrado y escalado\n",
        "# 4. Convertir variables categóricas en numéricas\n",
        "\n",
        "import pandas as pd\n",
        "import numpy as np\n",
        "\n",
        "URLautos = \"/content/sample_data/california_housing_test.csv\"\n",
        "#URLHeadAutos = \"https://archive.ics.uci.edu/ml/machine-learning-databases/autos/imports-85.names\"\n",
        "dfdat = pd.read_csv(URLautos)\n",
        "print('Dataframe:\\n',dfdat.head(4))\n",
        "print('\\n- - - - - - - - - - - - - - - - - - - - - \\n')\n",
        "\n",
        "# - - - - - - - - - - - - - - - - - - - - Acceso a la información:\n",
        "print('\\nlongitud:\\n',dfdat['longitude'])\n",
        "print('\\nlatitude:\\n',dfdat['latitude'])\n",
        "\n",
        "print('\\n- - - - - - - - - - - - - - - - - - - - - \\n') # Accediendo información por columnas \n",
        "dfdat['population'] = (dfdat['population']-dfdat['population'].min())*100/(dfdat['population'].max()-dfdat['population'].min())\n",
        "dfdat['population'] = dfdat['population'].round(1)\n",
        "print('dfdat population - 100:\\n',)\n",
        "print('Dataframe:\\n',dfdat.head(4))\n",
        "\n",
        "print('\\n- - - - - - - - - - - - - - - - - - - - - \\n')"
      ],
      "metadata": {
        "id": "tWf_dywAQwW8",
        "colab": {
          "base_uri": "https://localhost:8080/"
        },
        "outputId": "8bfe6761-b988-4144-88af-c220414485f0"
      },
      "execution_count": 7,
      "outputs": [
        {
          "output_type": "stream",
          "name": "stdout",
          "text": [
            "Dataframe:\n",
            "    longitude  latitude  housing_median_age  total_rooms  total_bedrooms  \\\n",
            "0    -122.05     37.37                27.0       3885.0           661.0   \n",
            "1    -118.30     34.26                43.0       1510.0           310.0   \n",
            "2    -117.81     33.78                27.0       3589.0           507.0   \n",
            "3    -118.36     33.82                28.0         67.0            15.0   \n",
            "\n",
            "   population  households  median_income  median_house_value  \n",
            "0      1537.0       606.0         6.6085            344700.0  \n",
            "1       809.0       277.0         3.5990            176500.0  \n",
            "2      1484.0       495.0         5.7934            270500.0  \n",
            "3        49.0        11.0         6.1359            330000.0  \n",
            "\n",
            "- - - - - - - - - - - - - - - - - - - - - \n",
            "\n",
            "\n",
            "longitud:\n",
            " 0      -122.05\n",
            "1      -118.30\n",
            "2      -117.81\n",
            "3      -118.36\n",
            "4      -119.67\n",
            "         ...  \n",
            "2995   -119.86\n",
            "2996   -118.14\n",
            "2997   -119.70\n",
            "2998   -117.12\n",
            "2999   -119.63\n",
            "Name: longitude, Length: 3000, dtype: float64\n",
            "\n",
            "latitude:\n",
            " 0       37.37\n",
            "1       34.26\n",
            "2       33.78\n",
            "3       33.82\n",
            "4       36.33\n",
            "        ...  \n",
            "2995    34.42\n",
            "2996    34.06\n",
            "2997    36.30\n",
            "2998    34.10\n",
            "2999    34.42\n",
            "Name: latitude, Length: 3000, dtype: float64\n",
            "\n",
            "- - - - - - - - - - - - - - - - - - - - - \n",
            "\n",
            "dfdat population - 100:\n",
            "\n",
            "Dataframe:\n",
            "    longitude  latitude  housing_median_age  total_rooms  total_bedrooms  \\\n",
            "0    -122.05     37.37                27.0       3885.0           661.0   \n",
            "1    -118.30     34.26                43.0       1510.0           310.0   \n",
            "2    -117.81     33.78                27.0       3589.0           507.0   \n",
            "3    -118.36     33.82                28.0         67.0            15.0   \n",
            "\n",
            "   population  households  median_income  median_house_value  \n",
            "0        12.8       606.0         6.6085            344700.0  \n",
            "1         6.7       277.0         3.5990            176500.0  \n",
            "2        12.4       495.0         5.7934            270500.0  \n",
            "3         0.4        11.0         6.1359            330000.0  \n",
            "\n",
            "- - - - - - - - - - - - - - - - - - - - - \n",
            "\n"
          ]
        }
      ]
    },
    {
      "cell_type": "code",
      "source": [
        "# - - - - - - - - - - - - - - - - - - - - - - - - \n",
        "# Ejercicio 2\n",
        "\n",
        "# \n"
      ],
      "metadata": {
        "id": "f3GdGLzPfBXh"
      },
      "execution_count": null,
      "outputs": []
    },
    {
      "cell_type": "code",
      "source": [
        "# - - - - - - - - - - - - - - - - - - - - - - - - \n",
        "# Ejercicio 3\n",
        "\n",
        "# \n"
      ],
      "metadata": {
        "id": "-rQ49Hux46x_"
      },
      "execution_count": null,
      "outputs": []
    },
    {
      "cell_type": "code",
      "source": [
        "# - - - - - - - - - - - - - - - - - - - - - - - - \n",
        "# Ejercicio 4\n",
        "\n",
        "# \n",
        "\n"
      ],
      "metadata": {
        "id": "m8OKlE_248Pu"
      },
      "execution_count": null,
      "outputs": []
    },
    {
      "cell_type": "code",
      "source": [
        "# - - - - - - - - - - - - - - - - - - - - - - - - \n",
        "# Ejercicio 5\n",
        "\n",
        "# \n"
      ],
      "metadata": {
        "id": "K4L-UGP_49x2"
      },
      "execution_count": null,
      "outputs": []
    }
  ]
}